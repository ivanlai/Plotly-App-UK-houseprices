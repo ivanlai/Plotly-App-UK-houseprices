{
 "cells": [
  {
   "cell_type": "code",
   "execution_count": 1,
   "metadata": {},
   "outputs": [],
   "source": [
    "import os\n",
    "import re\n",
    "import webbrowser\n",
    "import requests\n",
    "\n",
    "import dash\n",
    "import dash_core_components as dcc\n",
    "import dash_html_components as html\n",
    "import dash_bootstrap_components as dbc\n",
    "from dash.dependencies import Input, Output, State\n",
    "\n",
    "import plotly\n",
    "import plotly.graph_objs as go\n",
    "import plotly.express as px\n",
    "from plotly.graph_objs import Scatter, Figure, Layout\n",
    "\n",
    "import numpy as np\n",
    "import pandas as pd\n",
    "import geopandas as gpd\n",
    "\n",
    "from copy import copy, deepcopy\n",
    "from collections import OrderedDict\n",
    "\n",
    "import matplotlib\n",
    "from branca.element import Figure\n",
    "\n",
    "import gdal\n",
    "import json\n",
    "from json import dumps\n",
    "\n",
    "import pickle\n",
    "import gc\n",
    "\n",
    "from IPython.display import clear_output\n",
    "\n",
    "from multiprocessing import Pool, cpu_count\n",
    "\n",
    "pd.set_option('max_colwidth', None)\n",
    "\n",
    "import warnings\n",
    "warnings.filterwarnings(\"ignore\")"
   ]
  },
  {
   "cell_type": "markdown",
   "metadata": {},
   "source": [
    "### Configurations"
   ]
  },
  {
   "cell_type": "code",
   "execution_count": 2,
   "metadata": {},
   "outputs": [],
   "source": [
    "cfg = dict()\n",
    "\n",
    "cfg['to save']          = True\n",
    "\n",
    "cfg['start_year']       = 1995\n",
    "cfg['end_year']         = 2020\n",
    "cfg['Years']            = list(range(cfg['start_year'], cfg['end_year']+1))\n",
    "\n",
    "cfg['geodata dir']      = 'input/geoData'\n",
    "cfg['distribution dir'] = 'input/Distribution'\n",
    "cfg['houseprice dir']   = 'input/HousePriceData'\n",
    "\n",
    "cfg['pp_raw dir']       = os.path.join(cfg['houseprice dir'], 'Raw')\n",
    "cfg['pp_processed dir'] = os.path.join(cfg['houseprice dir'], 'Processed')\n",
    "\n",
    "cfg['appData dir']      = 'appData'\n",
    "\n",
    "cfg['process_raw_pp']   = True\n",
    "cfg['raw price files']  = ['pp-2020.csv']\n",
    "# cfg['raw price files']  = ['pp-1995-2017.csv', 'pp-2018.csv', 'pp-2019.csv', 'pp-2020.csv']\n",
    "\n",
    "cfg['price_threshold']  = 10000 #Filter out transactions below this value\n",
    "\n",
    "cfg['regions_lookup'] = {   'North East'      : 'North England',                   \n",
    "                            'North West'      : 'North England',                                    \n",
    "                            'East Midlands'   : 'Midlands',\n",
    "                            'West Midlands'   : 'Midlands',\n",
    "                            'Greater London'  : 'Greater London',                    \n",
    "                            'South East'      : 'South East',\n",
    "                            'South West'      : 'South West',\n",
    "                            'Wales'           : 'Wales',\n",
    "                            'Scotland'        : 'Scotland',\n",
    "                            'Northern Ireland': 'Northern Ireland'\n",
    "                        }\n",
    "\n",
    "cfg['plotly_config'] = {\n",
    "                         'All':            {'centre': [53.2, -2.2], 'maxp': 95, 'zoom': 6},\n",
    "                         'North England':  {'centre': [54.3, -2.0], 'maxp': 99, 'zoom': 7},\n",
    "                         'Wales':          {'centre': [52.4, -3.3], 'maxp': 99, 'zoom': 7.3},\n",
    "                         'Midlands':       {'centre': [52.8, -1.2], 'maxp': 99, 'zoom': 7.3},\n",
    "                         'South West':     {'centre': [51.1, -3.7], 'maxp': 99, 'zoom': 7.2},                                  \n",
    "                         'South East':     {'centre': [51.5, -0.1], 'maxp': 90, 'zoom': 7.8},\n",
    "                         'Greater London': {'centre': [51.5, -0.1], 'maxp': 80, 'zoom': 9.5},\n",
    "                         }"
   ]
  },
  {
   "cell_type": "markdown",
   "metadata": {},
   "source": [
    "#### Directory structure"
   ]
  },
  {
   "cell_type": "code",
   "execution_count": 34,
   "metadata": {},
   "outputs": [],
   "source": [
    "'''\n",
    "- appData (dir.)\n",
    "- Data Pre-processing.ipynb\n",
    "- input\n",
    "    |-- Distribution \n",
    "    |-- geoData\n",
    "    |-- HousePriceData\n",
    "            |-- Raw\n",
    "            |-- Processed\n",
    "'''\n",
    "\n",
    "os.makedirs(cfg['appData dir'], exist_ok=True)\n",
    "os.makedirs(cfg['pp_processed dir'], exist_ok=True)"
   ]
  },
  {
   "cell_type": "markdown",
   "metadata": {},
   "source": [
    "#### Download Data"
   ]
  },
  {
   "cell_type": "code",
   "execution_count": 4,
   "metadata": {},
   "outputs": [],
   "source": [
    "# Download and unzip postcode shape files\n",
    "!wget https://www.opendoorlogistics.com/wp-content/uploads/Data/UK-postcode-boundaries-Jan-2015.zip\n",
    "!unzip UK-postcode-boundaries-Jan-2015.zip -d input\n",
    "!rm UK-postcode-boundaries-Jan-2015.zip\n",
    "clear_output()"
   ]
  },
  {
   "cell_type": "code",
   "execution_count": 17,
   "metadata": {},
   "outputs": [],
   "source": [
    "# Download postcode data\n",
    "!wget https://www.freemaptools.com/download/full-postcodes/ukpostcodes.zip\n",
    "!unzip ukpostcodes.zip -d input/geoData\n",
    "!rm ukpostcodes.zip\n",
    "clear_output()"
   ]
  },
  {
   "cell_type": "code",
   "execution_count": 6,
   "metadata": {},
   "outputs": [],
   "source": [
    "# Download and House paid-price files\n",
    "!wget http://prod.publicdata.landregistry.gov.uk.s3-website-eu-west-1.amazonaws.com/pp-2020.csv -P input/HousePriceData/Raw/\n",
    "# !wget http://prod.publicdata.landregistry.gov.uk.s3-website-eu-west-1.amazonaws.com/pp-2019.csv -P input/HousePriceData/Raw/\n",
    "# !wget http://prod.publicdata.landregistry.gov.uk.s3-website-eu-west-1.amazonaws.com/pp-2018.csv -P input/HousePriceData/Raw/\n",
    "# !wget http://prod.publicdata.landregistry.gov.uk.s3-website-eu-west-1.amazonaws.com/pp-complete.csv -P input/HousePriceData/Raw/\n",
    "clear_output()"
   ]
  },
  {
   "cell_type": "markdown",
   "metadata": {},
   "source": [
    "### Post Code Data"
   ]
  },
  {
   "cell_type": "code",
   "execution_count": 18,
   "metadata": {},
   "outputs": [],
   "source": [
    "postcodes_df = pd.read_csv(os.path.join(cfg['geodata dir'], 'ukpostcodes.csv'))\n",
    "\n",
    "postcodes = dict()\n",
    "for (postcode, latitude, longitude) in postcodes_df[['postcode', 'latitude', 'longitude']].values:\n",
    "    postcodes[postcode] = [latitude, longitude]\n",
    "\n",
    "#-----------------------------------------------------#\n",
    "\n",
    "postcode_region_df = pd.read_csv(os.path.join(cfg['geodata dir'], 'PostCode Region.csv'))\n",
    "\n",
    "postcode_region = dict()\n",
    "for (prefix, region) in postcode_region_df[['Prefix', 'Region']].values:\n",
    "    postcode_region[prefix] = cfg['regions_lookup'][region]"
   ]
  },
  {
   "cell_type": "markdown",
   "metadata": {},
   "source": [
    "### House Price Data"
   ]
  },
  {
   "cell_type": "markdown",
   "metadata": {},
   "source": [
    "#### Processing raw data"
   ]
  },
  {
   "cell_type": "code",
   "execution_count": 19,
   "metadata": {},
   "outputs": [],
   "source": [
    "def lookup_postcode(postcodes, x):\n",
    "    if x in postcodes:\n",
    "        return postcodes[x]\n",
    "    else:\n",
    "        return ''    \n",
    "\n",
    "pattern=re.compile(r\"\\d\")\n",
    "def lookup_region(postcode_region, x, pattern=pattern):\n",
    "    m = pattern.search(x)\n",
    "    if m is None:\n",
    "        return ''\n",
    "    else:\n",
    "        x = x[:m.start()]          \n",
    "        if x in postcode_region:\n",
    "            return postcode_region[x]\n",
    "        else:\n",
    "            return '' "
   ]
  },
  {
   "cell_type": "code",
   "execution_count": 20,
   "metadata": {},
   "outputs": [],
   "source": [
    "def clean_pp_df(df, postcodes, postcode_region):\n",
    "    col = {1:'Price', 2:'Date', 3:'Post Code', 4:'Property Type', 5:'Old/New', 6:'Duration'}\n",
    "    \n",
    "    df.rename(columns = col, inplace = True)\n",
    "    df.fillna('', inplace=True)\n",
    "    df['Address'] = df[7] + ' ' + df[8] + ' ' + df[9] + ' ' + df[10] + ' ' + df[11] + ' ' + df[12] + ' ' + df[13]\n",
    "    df['Address'] = df['Address'].apply(lambda x: ' '.join(x.split()))    \n",
    "    \n",
    "    cols_to_drop = [col for col in df.columns if isinstance(col, int)]\n",
    "    df.drop(cols_to_drop, axis=1, inplace=True)\n",
    "    \n",
    "    # Drop suspiciously low house price data: (Note: These have Property Type \"Other\". What is it?) \n",
    "    df = df.loc[df.Price > cfg['price_threshold']]\n",
    "    \n",
    "    # Exclude property type Other (O)\n",
    "    df = df.loc[df['Property Type']!='O']\n",
    "    \n",
    "    # Sort by Date:\n",
    "    df.sort_values(by=['Date'], inplace=True, ignore_index=True)\n",
    "    \n",
    "    # Get Latitude and Longitude by Post Code:\n",
    "    df['Post Code Coords'] = df['Post Code'].apply(lambda x: lookup_postcode(postcodes, x))\n",
    "    \n",
    "    # Get year-month:\n",
    "    df['Year-Month'] = df['Date'].apply(lambda s: s[:7])\n",
    "    df['Year']       = df['Date'].apply(lambda s: s[:4])\n",
    "    df['Month']      = df['Date'].apply(lambda s: s[5:7])\n",
    "    \n",
    "    # Get Post code sector\n",
    "    df['Sector'] =  df['Post Code'].apply(lambda s: s[:s.find(' ')+2])\n",
    "    \n",
    "    # Get Region\n",
    "    df['Region'] = df['Post Code'].apply(lambda s: lookup_region(postcode_region, s))    \n",
    "        \n",
    "    return df"
   ]
  },
  {
   "cell_type": "code",
   "execution_count": 35,
   "metadata": {},
   "outputs": [
    {
     "name": "stdout",
     "output_type": "stream",
     "text": [
      "Processing pp-2020.csv\n",
      "Number of transactions in pp-2020.csv: 304,022\n",
      "pp-2020.csv saved\n",
      "CPU times: user 6.01 s, sys: 256 ms, total: 6.27 s\n",
      "Wall time: 6.27 s\n"
     ]
    }
   ],
   "source": [
    "%%time\n",
    "def process_and_save_houseprice(infile, postcodes, postcode_region):\n",
    "    print(f\"Processing {infile}\")\n",
    "                \n",
    "    df = pd.read_csv(os.path.join(cfg['pp_raw dir'], infile), header=None)\n",
    "    df = clean_pp_df(df, postcodes, postcode_region)\n",
    "    print(f'Number of transactions in {infile}: {len(df) :,}')\n",
    "        \n",
    "    for year in df.Year.unique():        \n",
    "        fname = f'pp-{year}.csv'                   \n",
    "        df[df.Year==year].to_csv(os.path.join(cfg['pp_processed dir'], fname), index=False)  \n",
    "        print(f\"{fname} saved\")\n",
    "    \n",
    "#-------------------------------------------------------#\n",
    "if cfg['process_raw_pp']:\n",
    "    for infile in cfg['raw price files']:           \n",
    "        process_and_save_houseprice(infile, postcodes, postcode_region)    "
   ]
  },
  {
   "cell_type": "markdown",
   "metadata": {},
   "source": [
    "#### Loading processed data"
   ]
  },
  {
   "cell_type": "code",
   "execution_count": 36,
   "metadata": {},
   "outputs": [
    {
     "name": "stdout",
     "output_type": "stream",
     "text": [
      "Transaction count in 2020: 304,022\n",
      "Total transaction count: 304,022\n",
      "CPU times: user 981 ms, sys: 32 ms, total: 1.01 s\n",
      "Wall time: 1.01 s\n"
     ]
    }
   ],
   "source": [
    "%%time\n",
    "def load_processed_houseprice_data():\n",
    "    house_price_df = pd.DataFrame()\n",
    "    for year in cfg['Years']:\n",
    "        fname = os.path.join(cfg['pp_processed dir'], f'pp-{str(year)}.csv')        \n",
    "        if os.path.isfile(fname) :\n",
    "            df = pd.read_csv(fname)\n",
    "            house_price_df = pd.concat([house_price_df, df], ignore_index=True)       \n",
    "            print(f'Transaction count in {year}: {len(df) :,}')\n",
    "        \n",
    "    print(f\"Total transaction count: {len(house_price_df) :,}\")    \n",
    "    return house_price_df\n",
    "\n",
    "#----------------------------------------#\n",
    "house_price_df = load_processed_houseprice_data()"
   ]
  },
  {
   "cell_type": "code",
   "execution_count": 38,
   "metadata": {},
   "outputs": [
    {
     "data": {
      "text/html": [
       "<div>\n",
       "<style scoped>\n",
       "    .dataframe tbody tr th:only-of-type {\n",
       "        vertical-align: middle;\n",
       "    }\n",
       "\n",
       "    .dataframe tbody tr th {\n",
       "        vertical-align: top;\n",
       "    }\n",
       "\n",
       "    .dataframe thead th {\n",
       "        text-align: right;\n",
       "    }\n",
       "</style>\n",
       "<table border=\"1\" class=\"dataframe\">\n",
       "  <thead>\n",
       "    <tr style=\"text-align: right;\">\n",
       "      <th></th>\n",
       "      <th>Price</th>\n",
       "      <th>Date</th>\n",
       "      <th>Post Code</th>\n",
       "      <th>Property Type</th>\n",
       "      <th>Old/New</th>\n",
       "      <th>Duration</th>\n",
       "      <th>Address</th>\n",
       "      <th>Post Code Coords</th>\n",
       "      <th>Year-Month</th>\n",
       "      <th>Year</th>\n",
       "      <th>Month</th>\n",
       "      <th>Sector</th>\n",
       "      <th>Region</th>\n",
       "    </tr>\n",
       "  </thead>\n",
       "  <tbody>\n",
       "    <tr>\n",
       "      <th>0</th>\n",
       "      <td>39000</td>\n",
       "      <td>2020-01-01 00:00</td>\n",
       "      <td>B71 3PE</td>\n",
       "      <td>F</td>\n",
       "      <td>N</td>\n",
       "      <td>L</td>\n",
       "      <td>CAMBERLEY FLAT 28 BEACONVIEW ROAD WEST BROMWICH SANDWELL WEST MIDLANDS</td>\n",
       "      <td>[52.54574652, -1.974342581]</td>\n",
       "      <td>2020-01</td>\n",
       "      <td>2020</td>\n",
       "      <td>1</td>\n",
       "      <td>B71 3</td>\n",
       "      <td>Midlands</td>\n",
       "    </tr>\n",
       "    <tr>\n",
       "      <th>1</th>\n",
       "      <td>115500</td>\n",
       "      <td>2020-01-01 00:00</td>\n",
       "      <td>BB5 3JG</td>\n",
       "      <td>T</td>\n",
       "      <td>N</td>\n",
       "      <td>L</td>\n",
       "      <td>71 WHITE ASH LANE OSWALDTWISTLE ACCRINGTON HYNDBURN LANCASHIRE</td>\n",
       "      <td>[53.742662, -2.402434]</td>\n",
       "      <td>2020-01</td>\n",
       "      <td>2020</td>\n",
       "      <td>1</td>\n",
       "      <td>BB5 3</td>\n",
       "      <td>North England</td>\n",
       "    </tr>\n",
       "  </tbody>\n",
       "</table>\n",
       "</div>"
      ],
      "text/plain": [
       "    Price              Date Post Code Property Type Old/New Duration  \\\n",
       "0   39000  2020-01-01 00:00   B71 3PE             F       N        L   \n",
       "1  115500  2020-01-01 00:00   BB5 3JG             T       N        L   \n",
       "\n",
       "                                                                  Address  \\\n",
       "0  CAMBERLEY FLAT 28 BEACONVIEW ROAD WEST BROMWICH SANDWELL WEST MIDLANDS   \n",
       "1          71 WHITE ASH LANE OSWALDTWISTLE ACCRINGTON HYNDBURN LANCASHIRE   \n",
       "\n",
       "              Post Code Coords Year-Month  Year  Month Sector         Region  \n",
       "0  [52.54574652, -1.974342581]    2020-01  2020      1  B71 3       Midlands  \n",
       "1       [53.742662, -2.402434]    2020-01  2020      1  BB5 3  North England  "
      ]
     },
     "execution_count": 38,
     "metadata": {},
     "output_type": "execute_result"
    }
   ],
   "source": [
    "house_price_df.head(2)"
   ]
  },
  {
   "cell_type": "code",
   "execution_count": 39,
   "metadata": {},
   "outputs": [],
   "source": [
    "def get_sector_df(house_price_df):\n",
    "\n",
    "    P = house_price_df[['Year', 'Sector', 'Price']].groupby(by=['Year', 'Sector']).mean()\n",
    "    V = house_price_df[['Year', 'Sector', 'Price']].groupby(by=['Year', 'Sector']).count()\n",
    "    V.rename(columns={'Price': 'Volume'}, inplace=True)\n",
    "    \n",
    "    P = pd.merge(P, V, how='inner', on=['Year','Sector'])\n",
    "    \n",
    "    P.reset_index(inplace=True)\n",
    "    P = P.loc[P['Sector'] != '']\n",
    "        \n",
    "    # Get Region\n",
    "    P['Region'] = P['Sector'].apply(lambda s: lookup_region(postcode_region, s))\n",
    "    \n",
    "    P['Price'] = P['Price'].apply(lambda s: int(np.round(s/1000)*1000))\n",
    "    P['Display Price'] = P['Price'].apply(lambda x: f\"{int(np.round(x/1000)) :,}K\")\n",
    "    P['text']  = P['Sector'] + '<br>' + 'Avg. Price: ' + P['Display Price'] + '<br>' + 'Sales Volume: ' + P['Volume'].astype(str)\n",
    "    P.drop(columns=['Display Price'], inplace=True)\n",
    "    \n",
    "    return P"
   ]
  },
  {
   "cell_type": "code",
   "execution_count": 40,
   "metadata": {},
   "outputs": [
    {
     "name": "stdout",
     "output_type": "stream",
     "text": [
      "CPU times: user 368 ms, sys: 12 ms, total: 380 ms\n",
      "Wall time: 379 ms\n"
     ]
    },
    {
     "data": {
      "text/html": [
       "<div>\n",
       "<style scoped>\n",
       "    .dataframe tbody tr th:only-of-type {\n",
       "        vertical-align: middle;\n",
       "    }\n",
       "\n",
       "    .dataframe tbody tr th {\n",
       "        vertical-align: top;\n",
       "    }\n",
       "\n",
       "    .dataframe thead th {\n",
       "        text-align: right;\n",
       "    }\n",
       "</style>\n",
       "<table border=\"1\" class=\"dataframe\">\n",
       "  <thead>\n",
       "    <tr style=\"text-align: right;\">\n",
       "      <th></th>\n",
       "      <th>Year</th>\n",
       "      <th>Sector</th>\n",
       "      <th>Price</th>\n",
       "      <th>Volume</th>\n",
       "      <th>Region</th>\n",
       "      <th>text</th>\n",
       "    </tr>\n",
       "  </thead>\n",
       "  <tbody>\n",
       "    <tr>\n",
       "      <th>0</th>\n",
       "      <td>2020</td>\n",
       "      <td>AL1 1</td>\n",
       "      <td>469000</td>\n",
       "      <td>38</td>\n",
       "      <td>South East</td>\n",
       "      <td>AL1 1&lt;br&gt;Avg. Price: 469K&lt;br&gt;Sales Volume: 38</td>\n",
       "    </tr>\n",
       "    <tr>\n",
       "      <th>1</th>\n",
       "      <td>2020</td>\n",
       "      <td>AL1 2</td>\n",
       "      <td>552000</td>\n",
       "      <td>24</td>\n",
       "      <td>South East</td>\n",
       "      <td>AL1 2&lt;br&gt;Avg. Price: 552K&lt;br&gt;Sales Volume: 24</td>\n",
       "    </tr>\n",
       "    <tr>\n",
       "      <th>2</th>\n",
       "      <td>2020</td>\n",
       "      <td>AL1 3</td>\n",
       "      <td>419000</td>\n",
       "      <td>101</td>\n",
       "      <td>South East</td>\n",
       "      <td>AL1 3&lt;br&gt;Avg. Price: 419K&lt;br&gt;Sales Volume: 101</td>\n",
       "    </tr>\n",
       "    <tr>\n",
       "      <th>3</th>\n",
       "      <td>2020</td>\n",
       "      <td>AL1 4</td>\n",
       "      <td>659000</td>\n",
       "      <td>45</td>\n",
       "      <td>South East</td>\n",
       "      <td>AL1 4&lt;br&gt;Avg. Price: 659K&lt;br&gt;Sales Volume: 45</td>\n",
       "    </tr>\n",
       "    <tr>\n",
       "      <th>4</th>\n",
       "      <td>2020</td>\n",
       "      <td>AL1 5</td>\n",
       "      <td>450000</td>\n",
       "      <td>62</td>\n",
       "      <td>South East</td>\n",
       "      <td>AL1 5&lt;br&gt;Avg. Price: 450K&lt;br&gt;Sales Volume: 62</td>\n",
       "    </tr>\n",
       "  </tbody>\n",
       "</table>\n",
       "</div>"
      ],
      "text/plain": [
       "   Year Sector   Price  Volume      Region  \\\n",
       "0  2020  AL1 1  469000      38  South East   \n",
       "1  2020  AL1 2  552000      24  South East   \n",
       "2  2020  AL1 3  419000     101  South East   \n",
       "3  2020  AL1 4  659000      45  South East   \n",
       "4  2020  AL1 5  450000      62  South East   \n",
       "\n",
       "                                             text  \n",
       "0   AL1 1<br>Avg. Price: 469K<br>Sales Volume: 38  \n",
       "1   AL1 2<br>Avg. Price: 552K<br>Sales Volume: 24  \n",
       "2  AL1 3<br>Avg. Price: 419K<br>Sales Volume: 101  \n",
       "3   AL1 4<br>Avg. Price: 659K<br>Sales Volume: 45  \n",
       "4   AL1 5<br>Avg. Price: 450K<br>Sales Volume: 62  "
      ]
     },
     "execution_count": 40,
     "metadata": {},
     "output_type": "execute_result"
    }
   ],
   "source": [
    "%%time\n",
    "sector_df = get_sector_df(house_price_df) \n",
    "sector_df.head()"
   ]
  },
  {
   "cell_type": "markdown",
   "metadata": {},
   "source": [
    "#### Getting and saving sector_price by year (for Chropleth)"
   ]
  },
  {
   "cell_type": "code",
   "execution_count": 41,
   "metadata": {},
   "outputs": [
    {
     "name": "stdout",
     "output_type": "stream",
     "text": [
      "CPU times: user 9.98 ms, sys: 4.15 ms, total: 14.1 ms\n",
      "Wall time: 12.9 ms\n"
     ]
    }
   ],
   "source": [
    "%%time\n",
    "\n",
    "sector_by_year = dict()\n",
    "for year in cfg['Years']:    \n",
    "    sector_by_year[year] = sector_df[sector_df.Year==year].reset_index(drop=True)  \n",
    "    \n",
    "    if cfg['to save']:\n",
    "        fname = os.path.join(cfg['appData dir'], f'sector_price_{year}.csv')\n",
    "        sector_by_year[year].to_csv(fname, index=False)            "
   ]
  },
  {
   "cell_type": "markdown",
   "metadata": {},
   "source": [
    "#### Getting and saving sector_percentage_delta by year (for Chropleth)"
   ]
  },
  {
   "cell_type": "code",
   "execution_count": 42,
   "metadata": {},
   "outputs": [
    {
     "name": "stdout",
     "output_type": "stream",
     "text": [
      "CPU times: user 122 ms, sys: 4.44 ms, total: 127 ms\n",
      "Wall time: 122 ms\n"
     ]
    }
   ],
   "source": [
    "%%time\n",
    "\n",
    "# Building sector_price[year] {sector: price} dict for quick lookup\n",
    "sector_price   = dict()\n",
    "for year in cfg['Years']:\n",
    "    sector_price[year] = dict()\n",
    "    for sector, region, price in sector_by_year[year][['Sector', 'Region', 'Price']].values:             \n",
    "        sector_price[year][sector] = [region, price]\n",
    "\n",
    "#-------------------------------#\n",
    "sector_delta = dict()\n",
    "\n",
    "sector_delta[1995] = dict()\n",
    "for sector, [region, price] in sector_price[1995].items():\n",
    "    sector_delta[1995][sector] = [0, region]\n",
    "    \n",
    "for y1, y2 in zip(cfg['Years'][1:], cfg['Years'][:-1]):    \n",
    "    sector_delta[y1] = dict()\n",
    "    for sector, [region, price] in sector_price[y1].items():        \n",
    "        if sector in sector_price[y2]:\n",
    "            last_year_price = sector_price[y2][sector][1]\n",
    "            delta = int(np.round(100 * (price - last_year_price) / last_year_price))\n",
    "            sector_delta[y1][sector] = [delta, region]\n",
    "    \n",
    "#----------------------------------------------#\n",
    "for year in cfg['Years']:\n",
    "    tmp = pd.DataFrame.from_dict(sector_delta[year], orient='index', columns=['Percentage Change', 'Region'])\n",
    "    tmp.reset_index(inplace=True)\n",
    "    tmp.rename(columns={'index':'Sector'}, inplace=True)\n",
    "    tmp['text'] = tmp['Sector'] + '<br>' + 'Price Change: ' + tmp['Percentage Change'].apply(lambda s: str(s)) + '%'\n",
    "    \n",
    "    if cfg['to save']:\n",
    "        fname = os.path.join(cfg['appData dir'], f'sector_percentage_delta_{year}.csv')\n",
    "        tmp.to_csv(fname, index=False)"
   ]
  },
  {
   "cell_type": "markdown",
   "metadata": {},
   "source": [
    "#### Get Price and Volume by Year and Property Type df (For time-series)"
   ]
  },
  {
   "cell_type": "code",
   "execution_count": 43,
   "metadata": {},
   "outputs": [
    {
     "name": "stdout",
     "output_type": "stream",
     "text": [
      "CPU times: user 187 ms, sys: 52 µs, total: 188 ms\n",
      "Wall time: 186 ms\n"
     ]
    }
   ],
   "source": [
    "%%time\n",
    "\n",
    "def get_price_volume_df(house_price_df):\n",
    "    P = house_price_df[['Year', 'Sector', 'Property Type', 'Price']].groupby(by=['Year', 'Sector', 'Property Type']).count()\n",
    "    P.rename(columns={'Price': 'Count'}, inplace=True)\n",
    "    P.reset_index(inplace=True)\n",
    "    \n",
    "    Q = house_price_df[['Year', 'Sector', 'Property Type', 'Price']].groupby(by=['Year', 'Sector', 'Property Type']).mean()\n",
    "    Q.reset_index(inplace=True)\n",
    "    \n",
    "    P['Average Price'] = Q.Price.values\n",
    "    \n",
    "    P = P.loc[P['Sector'] != '']\n",
    "        \n",
    "    return P\n",
    "    \n",
    "#------------------------------------#\n",
    "price_volume_df = get_price_volume_df(house_price_df)\n",
    "if cfg['to save']:\n",
    "    price_volume_df.to_csv(os.path.join(cfg['appData dir'], 'price_volume.csv'), index=False)  "
   ]
  },
  {
   "cell_type": "code",
   "execution_count": 44,
   "metadata": {},
   "outputs": [
    {
     "data": {
      "text/html": [
       "<div>\n",
       "<style scoped>\n",
       "    .dataframe tbody tr th:only-of-type {\n",
       "        vertical-align: middle;\n",
       "    }\n",
       "\n",
       "    .dataframe tbody tr th {\n",
       "        vertical-align: top;\n",
       "    }\n",
       "\n",
       "    .dataframe thead th {\n",
       "        text-align: right;\n",
       "    }\n",
       "</style>\n",
       "<table border=\"1\" class=\"dataframe\">\n",
       "  <thead>\n",
       "    <tr style=\"text-align: right;\">\n",
       "      <th></th>\n",
       "      <th>Year</th>\n",
       "      <th>Sector</th>\n",
       "      <th>Property Type</th>\n",
       "      <th>Count</th>\n",
       "      <th>Average Price</th>\n",
       "    </tr>\n",
       "  </thead>\n",
       "  <tbody>\n",
       "    <tr>\n",
       "      <th>0</th>\n",
       "      <td>2020</td>\n",
       "      <td>AL1 1</td>\n",
       "      <td>F</td>\n",
       "      <td>15</td>\n",
       "      <td>376260.000000</td>\n",
       "    </tr>\n",
       "    <tr>\n",
       "      <th>1</th>\n",
       "      <td>2020</td>\n",
       "      <td>AL1 1</td>\n",
       "      <td>S</td>\n",
       "      <td>6</td>\n",
       "      <td>654000.000000</td>\n",
       "    </tr>\n",
       "    <tr>\n",
       "      <th>2</th>\n",
       "      <td>2020</td>\n",
       "      <td>AL1 1</td>\n",
       "      <td>T</td>\n",
       "      <td>17</td>\n",
       "      <td>486441.176471</td>\n",
       "    </tr>\n",
       "    <tr>\n",
       "      <th>3</th>\n",
       "      <td>2020</td>\n",
       "      <td>AL1 2</td>\n",
       "      <td>D</td>\n",
       "      <td>5</td>\n",
       "      <td>682550.000000</td>\n",
       "    </tr>\n",
       "    <tr>\n",
       "      <th>4</th>\n",
       "      <td>2020</td>\n",
       "      <td>AL1 2</td>\n",
       "      <td>F</td>\n",
       "      <td>3</td>\n",
       "      <td>396166.666667</td>\n",
       "    </tr>\n",
       "  </tbody>\n",
       "</table>\n",
       "</div>"
      ],
      "text/plain": [
       "   Year Sector Property Type  Count  Average Price\n",
       "0  2020  AL1 1             F     15  376260.000000\n",
       "1  2020  AL1 1             S      6  654000.000000\n",
       "2  2020  AL1 1             T     17  486441.176471\n",
       "3  2020  AL1 2             D      5  682550.000000\n",
       "4  2020  AL1 2             F      3  396166.666667"
      ]
     },
     "execution_count": 44,
     "metadata": {},
     "output_type": "execute_result"
    }
   ],
   "source": [
    "price_volume_df.head()"
   ]
  },
  {
   "cell_type": "markdown",
   "metadata": {},
   "source": [
    "#### Regional Price data by year"
   ]
  },
  {
   "cell_type": "markdown",
   "metadata": {},
   "source": [
    "### Geo Data"
   ]
  },
  {
   "cell_type": "code",
   "execution_count": 45,
   "metadata": {},
   "outputs": [
    {
     "name": "stdout",
     "output_type": "stream",
     "text": [
      "Regions: ['Midlands', 'North England', 'South East', 'Wales', 'Greater London', 'South West', 'Scotland']\n"
     ]
    }
   ],
   "source": [
    "regions = [r for r in house_price_df.Region.unique() if isinstance(r, str)]\n",
    "print(f\"Regions: {regions}\")\n",
    "\n",
    "def get_regional_price_data(sector_df, regions):\n",
    "    def inner(region):\n",
    "        if region == 'South East': #Include Greater London in South East graph\n",
    "            mask = (sector_df.Region==region) | (sector_df.Region=='Greater London')\n",
    "            df = sector_df[mask]\n",
    "        else:\n",
    "            df = sector_df[sector_df.Region==region]\n",
    "        return df\n",
    "    \n",
    "    ###########################################\n",
    "    regional_price_data = dict()\n",
    "    \n",
    "    for r in regions:\n",
    "        regional_price_data[r] = inner(r)\n",
    "    \n",
    "    return regional_price_data"
   ]
  },
  {
   "cell_type": "code",
   "execution_count": 46,
   "metadata": {},
   "outputs": [
    {
     "name": "stdout",
     "output_type": "stream",
     "text": [
      "Translated GEOJSON file input/geoData/ukpostcode_geojson.json\n"
     ]
    }
   ],
   "source": [
    "# Convert Shape file to Geojson    \n",
    "# Code modified from https://github.com/akkana/scripts/blob/master/mapping/polidistmap.py\n",
    "\n",
    "infile  = os.path.join(cfg['distribution dir'], 'Sectors.shp')\n",
    "outfile = os.path.join(cfg['geodata dir'], 'ukpostcode_geojson.json')\n",
    "\n",
    "if not os.path.isfile(outfile):  \n",
    "    options = gdal.VectorTranslateOptions(format=\"GeoJSON\", dstSRS=\"EPSG:4326\")\n",
    "    gdal.VectorTranslate(outfile, infile, options=options)\n",
    "    print(\"Translated GEOJSON file\", outfile)"
   ]
  },
  {
   "cell_type": "code",
   "execution_count": 47,
   "metadata": {},
   "outputs": [],
   "source": [
    "# Breaking price/volume data up by region:\n",
    "regional_price_data = dict()\n",
    "for year in cfg['Years']:\n",
    "    regional_price_data[year] = get_regional_price_data(sector_by_year[year], regions)"
   ]
  },
  {
   "cell_type": "code",
   "execution_count": 48,
   "metadata": {},
   "outputs": [],
   "source": [
    "def load_geo_data(infile):\n",
    "    with open(infile, \"r\") as read_file:    \n",
    "        geo_data = json.load(read_file)        \n",
    "    return geo_data\n",
    "\n",
    "#---------------------------------------------#\n",
    "infile = os.path.join(cfg['geodata dir'], 'ukpostcode_geojson.json')\n",
    "geo_data = load_geo_data(infile)"
   ]
  },
  {
   "cell_type": "code",
   "execution_count": 49,
   "metadata": {},
   "outputs": [
    {
     "data": {
      "text/html": [
       "<div>\n",
       "<style scoped>\n",
       "    .dataframe tbody tr th:only-of-type {\n",
       "        vertical-align: middle;\n",
       "    }\n",
       "\n",
       "    .dataframe tbody tr th {\n",
       "        vertical-align: top;\n",
       "    }\n",
       "\n",
       "    .dataframe thead th {\n",
       "        text-align: right;\n",
       "    }\n",
       "</style>\n",
       "<table border=\"1\" class=\"dataframe\">\n",
       "  <thead>\n",
       "    <tr style=\"text-align: right;\">\n",
       "      <th></th>\n",
       "      <th>Year</th>\n",
       "      <th>Sector</th>\n",
       "      <th>Price</th>\n",
       "      <th>Volume</th>\n",
       "      <th>Region</th>\n",
       "      <th>text</th>\n",
       "    </tr>\n",
       "  </thead>\n",
       "  <tbody>\n",
       "  </tbody>\n",
       "</table>\n",
       "</div>"
      ],
      "text/plain": [
       "Empty DataFrame\n",
       "Columns: [Year, Sector, Price, Volume, Region, text]\n",
       "Index: []"
      ]
     },
     "execution_count": 49,
     "metadata": {},
     "output_type": "execute_result"
    }
   ],
   "source": [
    "regional_price_data[2018]['Greater London'].head()"
   ]
  },
  {
   "cell_type": "code",
   "execution_count": 50,
   "metadata": {},
   "outputs": [],
   "source": [
    "def get_regional_geo_data(geo_data, postcode_region, regions):\n",
    "    \n",
    "    pattern = re.compile(r\"\\d\")\n",
    "    \n",
    "    def inner(region):\n",
    "        Y = dict()\n",
    "        Y['features'] = []\n",
    "        for k in geo_data.keys():\n",
    "            if k != 'features':\n",
    "                Y[k] = geo_data[k]\n",
    "            else:            \n",
    "                for i, d in enumerate(geo_data['features']):\n",
    "                    for k, v in d.items():\n",
    "                        if k == 'properties':\n",
    "                            sector = v['name']\n",
    "                            m = pattern.search(sector)\n",
    "                            district = sector[:m.start()]\n",
    "                            \n",
    "                            if region == 'South East':\n",
    "                                if postcode_region[district] in [region, 'Greater London']:\n",
    "                                    Y['features'].append(geo_data['features'][i])\n",
    "                            else:\n",
    "                                if postcode_region[district] == region:\n",
    "                                    Y['features'].append(geo_data['features'][i])                                    \n",
    "        return Y\n",
    "        \n",
    "    ###########################################\n",
    "    regional_geo_data = dict()    \n",
    "    for r in regions:\n",
    "        regional_geo_data[r] = inner(r)\n",
    "    \n",
    "    return regional_geo_data\n",
    "    "
   ]
  },
  {
   "cell_type": "code",
   "execution_count": 51,
   "metadata": {},
   "outputs": [
    {
     "name": "stdout",
     "output_type": "stream",
     "text": [
      "CPU times: user 110 ms, sys: 99 µs, total: 110 ms\n",
      "Wall time: 109 ms\n"
     ]
    }
   ],
   "source": [
    "%%time\n",
    "# Breaking geo_data up by region:\n",
    "regional_geo_data = get_regional_geo_data(geo_data, postcode_region, regions)"
   ]
  },
  {
   "cell_type": "code",
   "execution_count": 52,
   "metadata": {},
   "outputs": [
    {
     "name": "stdout",
     "output_type": "stream",
     "text": [
      "CPU times: user 9.1 s, sys: 151 ms, total: 9.25 s\n",
      "Wall time: 9.31 s\n"
     ]
    }
   ],
   "source": [
    "%%time\n",
    "for region, value in regional_geo_data.items():\n",
    "    fname = os.path.join(cfg['appData dir'], f'geodata_{region}.csv')        \n",
    "    with open(fname, \"w\") as f:    \n",
    "        json.dump(value, f)         "
   ]
  }
 ],
 "metadata": {
  "kernelspec": {
   "display_name": "geo",
   "language": "python",
   "name": "geo"
  },
  "language_info": {
   "codemirror_mode": {
    "name": "ipython",
    "version": 3
   },
   "file_extension": ".py",
   "mimetype": "text/x-python",
   "name": "python",
   "nbconvert_exporter": "python",
   "pygments_lexer": "ipython3",
   "version": "3.8.5"
  }
 },
 "nbformat": 4,
 "nbformat_minor": 4
}
