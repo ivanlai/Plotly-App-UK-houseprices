{
 "cells": [
  {
   "cell_type": "markdown",
   "metadata": {},
   "source": [
    "https://www.gov.uk/government/statistical-data-sets/price-paid-data-downloads"
   ]
  },
  {
   "cell_type": "code",
   "execution_count": 29,
   "metadata": {},
   "outputs": [],
   "source": [
    "#!pip install convertbng"
   ]
  },
  {
   "cell_type": "code",
   "execution_count": 25,
   "metadata": {},
   "outputs": [],
   "source": [
    "import os\n",
    "import re\n",
    "import time\n",
    "import gdal\n",
    "import json\n",
    "from json import dumps\n",
    "from copy import deepcopy\n",
    "from convertbng.util import convert_lonlat\n",
    "\n",
    "import numpy as np\n",
    "import pandas as pd\n",
    "import geopandas as gpd\n",
    "import shapely.speedups\n",
    "\n",
    "import plotly.express as px\n",
    "from plotly.subplots import make_subplots\n",
    "from IPython.display import clear_output\n",
    "\n",
    "import warnings\n",
    "warnings.filterwarnings(\"ignore\")\n",
    "pd.set_option('max_colwidth', None)"
   ]
  },
  {
   "cell_type": "markdown",
   "metadata": {},
   "source": [
    "### Configurations"
   ]
  },
  {
   "cell_type": "code",
   "execution_count": 2,
   "metadata": {},
   "outputs": [],
   "source": [
    "cfg = dict()\n",
    "\n",
    "cfg['download data']    = False\n",
    "cfg['to save']          = True\n",
    "\n",
    "cfg['start_year']       = 1995\n",
    "cfg['end_year']         = 2020\n",
    "cfg['Years']            = list(range(cfg['start_year'], cfg['end_year']+1))\n",
    "\n",
    "cfg['geodata dir']      = 'input/geoData'\n",
    "cfg['distribution dir'] = 'input/Distribution'\n",
    "cfg['houseprice dir']   = 'input/HousePriceData'\n",
    "cfg['school dir']       = 'input/SchoolData'\n",
    "\n",
    "cfg['pp_raw dir']       = os.path.join(cfg['houseprice dir'], 'Raw')\n",
    "cfg['pp_processed dir'] = os.path.join(cfg['houseprice dir'], 'Processed')\n",
    "\n",
    "cfg['appData dir']      = 'appData'\n",
    "cfg['assets dir']       = 'assets'\n",
    "\n",
    "# cfg['process_raw_pp']   = True\n",
    "cfg['process_raw_pp']   = False\n",
    "# cfg['raw price files']  = ['pp-2020.csv']\n",
    "cfg['raw price files']  = ['pp-complete.csv', 'pp-2018.csv', 'pp-2019.csv', 'pp-2020.csv']\n",
    "\n",
    "cfg['price_threshold']  = 10000 #Filter out transactions below this value\n",
    "\n",
    "cfg['tolerance']        = 0.001 # Initial Tolerance threshold for shapely polygons simplification\n",
    "cfg['max discrepancy']  = 5     # Maximum discrepancy (%) allowed for changes in polygon area after simplification.\n",
    "\n",
    "cfg['regions_lookup'] = {   'North East'      : 'North England',                   \n",
    "                            'North West'      : 'North England',                                    \n",
    "                            'East Midlands'   : 'Midlands',\n",
    "                            'West Midlands'   : 'Midlands',\n",
    "                            'Greater London'  : 'Greater London',                    \n",
    "                            'South East'      : 'South East',\n",
    "                            'South West'      : 'South West',\n",
    "                            'Wales'           : 'Wales',\n",
    "                            'Scotland'        : 'Scotland',\n",
    "                            'Northern Ireland': 'Northern Ireland'\n",
    "                        }\n",
    "\n",
    "cfg['Regions']        = ['North England', 'South East', 'Greater London', \n",
    "                         'Midlands', 'South West', 'Wales', 'Scotland']"
   ]
  },
  {
   "cell_type": "markdown",
   "metadata": {},
   "source": [
    "#### Directory structure"
   ]
  },
  {
   "cell_type": "code",
   "execution_count": 3,
   "metadata": {},
   "outputs": [],
   "source": [
    "'''\n",
    "- appData (dir.)\n",
    "- Data Pre-processing.ipynb\n",
    "- input\n",
    "    |-- Distribution \n",
    "    |-- geoData\n",
    "    |-- SchoolData\n",
    "    |-- HousePriceData\n",
    "            |-- Raw\n",
    "            |-- Processed\n",
    "'''\n",
    "\n",
    "os.makedirs(cfg['appData dir'], exist_ok=True)\n",
    "os.makedirs(cfg['pp_processed dir'], exist_ok=True)"
   ]
  },
  {
   "cell_type": "code",
   "execution_count": 33,
   "metadata": {},
   "outputs": [],
   "source": [
    "t0 = time.time()"
   ]
  },
  {
   "cell_type": "markdown",
   "metadata": {},
   "source": [
    "#### Download Data"
   ]
  },
  {
   "cell_type": "code",
   "execution_count": 34,
   "metadata": {},
   "outputs": [],
   "source": [
    "# Download and unzip postcode shape files\n",
    "if cfg['download data']:\n",
    "    !wget https://www.opendoorlogistics.com/wp-content/uploads/Data/UK-postcode-boundaries-Jan-2015.zip\n",
    "    !unzip UK-postcode-boundaries-Jan-2015.zip -d input\n",
    "    !rm UK-postcode-boundaries-Jan-2015.zip\n",
    "    clear_output()"
   ]
  },
  {
   "cell_type": "code",
   "execution_count": 35,
   "metadata": {},
   "outputs": [],
   "source": [
    "# Download postcode data\n",
    "if cfg['download data']:\n",
    "    !wget https://www.freemaptools.com/download/full-postcodes/ukpostcodes.zip\n",
    "    !unzip ukpostcodes.zip -d input/geoData\n",
    "    !rm ukpostcodes.zip\n",
    "    clear_output()"
   ]
  },
  {
   "cell_type": "markdown",
   "metadata": {},
   "source": [
    "##### Uncomment to download all files (The 1995 - 2017 file is 3.7GB)"
   ]
  },
  {
   "cell_type": "code",
   "execution_count": 36,
   "metadata": {},
   "outputs": [],
   "source": [
    "# Download and House paid-price files\n",
    "if cfg['download data']:\n",
    "    !wget http://prod.publicdata.landregistry.gov.uk.s3-website-eu-west-1.amazonaws.com/pp-2020.csv -P input/HousePriceData/Raw/\n",
    "    !wget http://prod.publicdata.landregistry.gov.uk.s3-website-eu-west-1.amazonaws.com/pp-2019.csv -P input/HousePriceData/Raw/\n",
    "    !wget http://prod.publicdata.landregistry.gov.uk.s3-website-eu-west-1.amazonaws.com/pp-2018.csv -P input/HousePriceData/Raw/\n",
    "    !wget http://prod.publicdata.landregistry.gov.uk.s3-website-eu-west-1.amazonaws.com/pp-complete.csv -P input/HousePriceData/Raw/\n",
    "    clear_output()"
   ]
  },
  {
   "cell_type": "markdown",
   "metadata": {},
   "source": [
    "### Post Code Data - Lookup dictionaries to speed up processing"
   ]
  },
  {
   "cell_type": "code",
   "execution_count": 4,
   "metadata": {},
   "outputs": [],
   "source": [
    "postcodes_df = pd.read_csv(os.path.join(cfg['geodata dir'], 'ukpostcodes.csv'))\n",
    "\n",
    "postcodes = dict()\n",
    "for (postcode, latitude, longitude) in postcodes_df[['postcode', 'latitude', 'longitude']].values:\n",
    "    postcodes[postcode] = [latitude, longitude]\n",
    "\n",
    "#-----------------------------------------------------#\n",
    "\n",
    "postcode_region_df = pd.read_csv(os.path.join(cfg['geodata dir'], 'PostCode Region.csv'))\n",
    "\n",
    "postcode_region = dict()\n",
    "for (prefix, region) in postcode_region_df[['Prefix', 'Region']].values:\n",
    "    postcode_region[prefix] = cfg['regions_lookup'][region]"
   ]
  },
  {
   "cell_type": "markdown",
   "metadata": {},
   "source": [
    "### House Price Data"
   ]
  },
  {
   "cell_type": "markdown",
   "metadata": {},
   "source": [
    "#### Processing raw data"
   ]
  },
  {
   "cell_type": "code",
   "execution_count": 5,
   "metadata": {},
   "outputs": [],
   "source": [
    "def lookup_postcode(postcodes, x):\n",
    "    if x in postcodes:\n",
    "        return postcodes[x]\n",
    "    else:\n",
    "        return ''    \n",
    "\n",
    "pattern=re.compile(r\"\\d\")\n",
    "def lookup_region(postcode_region, x, pattern=pattern):\n",
    "    m = pattern.search(x)\n",
    "    if m is None:\n",
    "        return ''\n",
    "    else:\n",
    "        x = x[:m.start()]          \n",
    "        if x in postcode_region:\n",
    "            return postcode_region[x]\n",
    "        else:\n",
    "            return '' "
   ]
  },
  {
   "cell_type": "code",
   "execution_count": 6,
   "metadata": {},
   "outputs": [],
   "source": [
    "def clean_pp_df(df, postcodes, postcode_region):\n",
    "    col = {1:'Price', 2:'Date', 3:'Post Code', 4:'Property Type', 5:'Old/New', 6:'Duration'}\n",
    "    \n",
    "    df.rename(columns = col, inplace = True)\n",
    "    df.fillna('', inplace=True)\n",
    "    df['Address'] = df[7] + ' ' + df[8] + ' ' + df[9] + ' ' + df[10] + ' ' + df[11] + ' ' + df[12] + ' ' + df[13]\n",
    "    df['Address'] = df['Address'].apply(lambda x: ' '.join(x.split()))    \n",
    "    \n",
    "    cols_to_drop = [col for col in df.columns if isinstance(col, int)]\n",
    "    df.drop(cols_to_drop, axis=1, inplace=True)\n",
    "    \n",
    "    # Drop suspiciously low house price data: (Note: These have Property Type \"Other\". What is it?) \n",
    "    df = df.loc[df.Price > cfg['price_threshold']]\n",
    "    \n",
    "    # Exclude property type Other (O)\n",
    "    df = df.loc[df['Property Type']!='O']\n",
    "    \n",
    "    # Sort by Date:\n",
    "    df.sort_values(by=['Date'], inplace=True, ignore_index=True)\n",
    "    \n",
    "    # Get Latitude and Longitude by Post Code:\n",
    "    df['Post Code Coords'] = df['Post Code'].apply(lambda x: lookup_postcode(postcodes, x))\n",
    "    \n",
    "    # Get year-month:\n",
    "    df['Year-Month'] = df['Date'].apply(lambda s: s[:7])\n",
    "    df['Year']       = df['Date'].apply(lambda s: s[:4])\n",
    "    df['Month']      = df['Date'].apply(lambda s: s[5:7])\n",
    "    \n",
    "    # Get Post code sector\n",
    "    df['Sector'] =  df['Post Code'].apply(lambda s: s[:s.find(' ')+2])\n",
    "    \n",
    "    # Get Region\n",
    "    df['Region'] = df['Post Code'].apply(lambda s: lookup_region(postcode_region, s))    \n",
    "        \n",
    "    return df"
   ]
  },
  {
   "cell_type": "code",
   "execution_count": 7,
   "metadata": {},
   "outputs": [
    {
     "name": "stdout",
     "output_type": "stream",
     "text": [
      "CPU times: user 4 µs, sys: 0 ns, total: 4 µs\n",
      "Wall time: 7.39 µs\n"
     ]
    }
   ],
   "source": [
    "%%time\n",
    "def process_and_save_houseprice(infile, postcodes, postcode_region):\n",
    "    print(f\"Processing {infile}\")\n",
    "                \n",
    "    df = pd.read_csv(os.path.join(cfg['pp_raw dir'], infile), header=None)\n",
    "    df = clean_pp_df(df, postcodes, postcode_region)\n",
    "    print(f'Number of transactions in {infile}: {len(df) :,}')\n",
    "        \n",
    "    for year in df.Year.unique():        \n",
    "        fname = f'pp-{year}.csv'                   \n",
    "        df[df.Year==year].to_csv(os.path.join(cfg['pp_processed dir'], fname), index=False)  \n",
    "        print(f\"{fname} saved\")\n",
    "    \n",
    "#-------------------------------------------------------#\n",
    "if cfg['process_raw_pp']:\n",
    "    for infile in cfg['raw price files']:           \n",
    "        process_and_save_houseprice(infile, postcodes, postcode_region)    "
   ]
  },
  {
   "cell_type": "markdown",
   "metadata": {},
   "source": [
    "#### Loading processed data"
   ]
  },
  {
   "cell_type": "code",
   "execution_count": 8,
   "metadata": {},
   "outputs": [
    {
     "name": "stdout",
     "output_type": "stream",
     "text": [
      "Transaction count in 1995: 791,428\n",
      "Transaction count in 1996: 958,613\n",
      "Transaction count in 1997: 1,088,301\n",
      "Transaction count in 1998: 1,046,548\n",
      "Transaction count in 1999: 1,190,704\n",
      "Transaction count in 2000: 1,125,331\n",
      "Transaction count in 2001: 1,241,785\n",
      "Transaction count in 2002: 1,348,336\n",
      "Transaction count in 2003: 1,233,679\n",
      "Transaction count in 2004: 1,230,885\n",
      "Transaction count in 2005: 1,060,732\n",
      "Transaction count in 2006: 1,325,298\n",
      "Transaction count in 2007: 1,271,602\n",
      "Transaction count in 2008: 649,200\n",
      "Transaction count in 2009: 624,926\n",
      "Transaction count in 2010: 662,919\n",
      "Transaction count in 2011: 660,748\n",
      "Transaction count in 2012: 668,335\n",
      "Transaction count in 2013: 806,108\n",
      "Transaction count in 2014: 971,344\n",
      "Transaction count in 2015: 990,104\n",
      "Transaction count in 2016: 999,686\n",
      "Transaction count in 2017: 989,828\n",
      "Transaction count in 2018: 963,597\n",
      "Transaction count in 2019: 922,052\n",
      "Transaction count in 2020: 304,022\n",
      "Total transaction count: 25,126,111\n",
      "CPU times: user 4min 2s, sys: 1min 1s, total: 5min 3s\n",
      "Wall time: 5min 7s\n"
     ]
    }
   ],
   "source": [
    "%%time\n",
    "def load_processed_houseprice_data():\n",
    "    house_price_df = pd.DataFrame()\n",
    "    for year in cfg['Years']:\n",
    "        fname = os.path.join(cfg['pp_processed dir'], f'pp-{str(year)}.csv')       \n",
    "        if os.path.isfile(fname) :\n",
    "            df = pd.read_csv(fname)\n",
    "            house_price_df = pd.concat([house_price_df, df], ignore_index=True)       \n",
    "            print(f'Transaction count in {year}: {len(df) :,}')\n",
    "        \n",
    "    print(f\"Total transaction count: {len(house_price_df) :,}\")    \n",
    "    return house_price_df\n",
    "\n",
    "#----------------------------------------#\n",
    "house_price_df = load_processed_houseprice_data()"
   ]
  },
  {
   "cell_type": "code",
   "execution_count": 9,
   "metadata": {},
   "outputs": [
    {
     "data": {
      "text/html": [
       "<div>\n",
       "<style scoped>\n",
       "    .dataframe tbody tr th:only-of-type {\n",
       "        vertical-align: middle;\n",
       "    }\n",
       "\n",
       "    .dataframe tbody tr th {\n",
       "        vertical-align: top;\n",
       "    }\n",
       "\n",
       "    .dataframe thead th {\n",
       "        text-align: right;\n",
       "    }\n",
       "</style>\n",
       "<table border=\"1\" class=\"dataframe\">\n",
       "  <thead>\n",
       "    <tr style=\"text-align: right;\">\n",
       "      <th></th>\n",
       "      <th>Price</th>\n",
       "      <th>Date</th>\n",
       "      <th>Post Code</th>\n",
       "      <th>Property Type</th>\n",
       "      <th>Old/New</th>\n",
       "      <th>Duration</th>\n",
       "      <th>Address</th>\n",
       "      <th>Post Code Coords</th>\n",
       "      <th>Year-Month</th>\n",
       "      <th>Year</th>\n",
       "      <th>Month</th>\n",
       "      <th>Sector</th>\n",
       "      <th>Region</th>\n",
       "    </tr>\n",
       "  </thead>\n",
       "  <tbody>\n",
       "    <tr>\n",
       "      <th>0</th>\n",
       "      <td>17000</td>\n",
       "      <td>1995-01-01 00:00</td>\n",
       "      <td>HU5 5NY</td>\n",
       "      <td>T</td>\n",
       "      <td>N</td>\n",
       "      <td>F</td>\n",
       "      <td>147 WESTLANDS ROAD HULL HULL KINGSTON UPON HULL HUMBERSIDE</td>\n",
       "      <td>[53.7536744770554, -0.414045315055496]</td>\n",
       "      <td>1995-01</td>\n",
       "      <td>1995</td>\n",
       "      <td>1</td>\n",
       "      <td>HU5 5</td>\n",
       "      <td>North England</td>\n",
       "    </tr>\n",
       "    <tr>\n",
       "      <th>1</th>\n",
       "      <td>61000</td>\n",
       "      <td>1995-01-01 00:00</td>\n",
       "      <td>CT9 5HW</td>\n",
       "      <td>D</td>\n",
       "      <td>N</td>\n",
       "      <td>F</td>\n",
       "      <td>15 WENTWORTH AVENUE WESTBROOK MARGATE THANET KENT</td>\n",
       "      <td>[51.3821987268994, 1.3493702654861102]</td>\n",
       "      <td>1995-01</td>\n",
       "      <td>1995</td>\n",
       "      <td>1</td>\n",
       "      <td>CT9 5</td>\n",
       "      <td>South East</td>\n",
       "    </tr>\n",
       "  </tbody>\n",
       "</table>\n",
       "</div>"
      ],
      "text/plain": [
       "   Price              Date Post Code Property Type Old/New Duration  \\\n",
       "0  17000  1995-01-01 00:00   HU5 5NY             T       N        F   \n",
       "1  61000  1995-01-01 00:00   CT9 5HW             D       N        F   \n",
       "\n",
       "                                                      Address  \\\n",
       "0  147 WESTLANDS ROAD HULL HULL KINGSTON UPON HULL HUMBERSIDE   \n",
       "1           15 WENTWORTH AVENUE WESTBROOK MARGATE THANET KENT   \n",
       "\n",
       "                         Post Code Coords Year-Month  Year  Month Sector  \\\n",
       "0  [53.7536744770554, -0.414045315055496]    1995-01  1995      1  HU5 5   \n",
       "1  [51.3821987268994, 1.3493702654861102]    1995-01  1995      1  CT9 5   \n",
       "\n",
       "          Region  \n",
       "0  North England  \n",
       "1     South East  "
      ]
     },
     "execution_count": 9,
     "metadata": {},
     "output_type": "execute_result"
    }
   ],
   "source": [
    "house_price_df.head(2)"
   ]
  },
  {
   "cell_type": "markdown",
   "metadata": {},
   "source": [
    "#### Average price by month"
   ]
  },
  {
   "cell_type": "code",
   "execution_count": 13,
   "metadata": {},
   "outputs": [],
   "source": [
    "P = house_price_df[['Year-Month', 'Price']].groupby(by=['Year-Month']).mean()\n",
    "V = house_price_df[['Year-Month', 'Price']].groupby(by=['Year-Month']).count()\n",
    "\n",
    "P = pd.merge(P, V, how='inner', on=['Year-Month'])    \n",
    "P.rename(columns={'Price_x':'Price', 'Price_y':'Volume'}, inplace=True)\n",
    "P.reset_index(inplace=True)"
   ]
  },
  {
   "cell_type": "code",
   "execution_count": 57,
   "metadata": {},
   "outputs": [
    {
     "data": {
      "application/vnd.plotly.v1+json": {
       "config": {
        "plotlyServerURL": "https://plot.ly"
       },
       "data": [
        {
         "hovertemplate": "Year-Month=%{x}<br>Price=%{y}<extra></extra>",
         "legendgroup": "",
         "line": {
          "color": "cornflowerblue",
          "dash": "solid"
         },
         "mode": "lines",
         "name": "",
         "orientation": "v",
         "showlegend": false,
         "type": "scatter",
         "x": [
          "1995-01",
          "1995-02",
          "1995-03",
          "1995-04",
          "1995-05",
          "1995-06",
          "1995-07",
          "1995-08",
          "1995-09",
          "1995-10",
          "1995-11",
          "1995-12",
          "1996-01",
          "1996-02",
          "1996-03",
          "1996-04",
          "1996-05",
          "1996-06",
          "1996-07",
          "1996-08",
          "1996-09",
          "1996-10",
          "1996-11",
          "1996-12",
          "1997-01",
          "1997-02",
          "1997-03",
          "1997-04",
          "1997-05",
          "1997-06",
          "1997-07",
          "1997-08",
          "1997-09",
          "1997-10",
          "1997-11",
          "1997-12",
          "1998-01",
          "1998-02",
          "1998-03",
          "1998-04",
          "1998-05",
          "1998-06",
          "1998-07",
          "1998-08",
          "1998-09",
          "1998-10",
          "1998-11",
          "1998-12",
          "1999-01",
          "1999-02",
          "1999-03",
          "1999-04",
          "1999-05",
          "1999-06",
          "1999-07",
          "1999-08",
          "1999-09",
          "1999-10",
          "1999-11",
          "1999-12",
          "2000-01",
          "2000-02",
          "2000-03",
          "2000-04",
          "2000-05",
          "2000-06",
          "2000-07",
          "2000-08",
          "2000-09",
          "2000-10",
          "2000-11",
          "2000-12",
          "2001-01",
          "2001-02",
          "2001-03",
          "2001-04",
          "2001-05",
          "2001-06",
          "2001-07",
          "2001-08",
          "2001-09",
          "2001-10",
          "2001-11",
          "2001-12",
          "2002-01",
          "2002-02",
          "2002-03",
          "2002-04",
          "2002-05",
          "2002-06",
          "2002-07",
          "2002-08",
          "2002-09",
          "2002-10",
          "2002-11",
          "2002-12",
          "2003-01",
          "2003-02",
          "2003-03",
          "2003-04",
          "2003-05",
          "2003-06",
          "2003-07",
          "2003-08",
          "2003-09",
          "2003-10",
          "2003-11",
          "2003-12",
          "2004-01",
          "2004-02",
          "2004-03",
          "2004-04",
          "2004-05",
          "2004-06",
          "2004-07",
          "2004-08",
          "2004-09",
          "2004-10",
          "2004-11",
          "2004-12",
          "2005-01",
          "2005-02",
          "2005-03",
          "2005-04",
          "2005-05",
          "2005-06",
          "2005-07",
          "2005-08",
          "2005-09",
          "2005-10",
          "2005-11",
          "2005-12",
          "2006-01",
          "2006-02",
          "2006-03",
          "2006-04",
          "2006-05",
          "2006-06",
          "2006-07",
          "2006-08",
          "2006-09",
          "2006-10",
          "2006-11",
          "2006-12",
          "2007-01",
          "2007-02",
          "2007-03",
          "2007-04",
          "2007-05",
          "2007-06",
          "2007-07",
          "2007-08",
          "2007-09",
          "2007-10",
          "2007-11",
          "2007-12",
          "2008-01",
          "2008-02",
          "2008-03",
          "2008-04",
          "2008-05",
          "2008-06",
          "2008-07",
          "2008-08",
          "2008-09",
          "2008-10",
          "2008-11",
          "2008-12",
          "2009-01",
          "2009-02",
          "2009-03",
          "2009-04",
          "2009-05",
          "2009-06",
          "2009-07",
          "2009-08",
          "2009-09",
          "2009-10",
          "2009-11",
          "2009-12",
          "2010-01",
          "2010-02",
          "2010-03",
          "2010-04",
          "2010-05",
          "2010-06",
          "2010-07",
          "2010-08",
          "2010-09",
          "2010-10",
          "2010-11",
          "2010-12",
          "2011-01",
          "2011-02",
          "2011-03",
          "2011-04",
          "2011-05",
          "2011-06",
          "2011-07",
          "2011-08",
          "2011-09",
          "2011-10",
          "2011-11",
          "2011-12",
          "2012-01",
          "2012-02",
          "2012-03",
          "2012-04",
          "2012-05",
          "2012-06",
          "2012-07",
          "2012-08",
          "2012-09",
          "2012-10",
          "2012-11",
          "2012-12",
          "2013-01",
          "2013-02",
          "2013-03",
          "2013-04",
          "2013-05",
          "2013-06",
          "2013-07",
          "2013-08",
          "2013-09",
          "2013-10",
          "2013-11",
          "2013-12",
          "2014-01",
          "2014-02",
          "2014-03",
          "2014-04",
          "2014-05",
          "2014-06",
          "2014-07",
          "2014-08",
          "2014-09",
          "2014-10",
          "2014-11",
          "2014-12",
          "2015-01",
          "2015-02",
          "2015-03",
          "2015-04",
          "2015-05",
          "2015-06",
          "2015-07",
          "2015-08",
          "2015-09",
          "2015-10",
          "2015-11",
          "2015-12",
          "2016-01",
          "2016-02",
          "2016-03",
          "2016-04",
          "2016-05",
          "2016-06",
          "2016-07",
          "2016-08",
          "2016-09",
          "2016-10",
          "2016-11",
          "2016-12",
          "2017-01",
          "2017-02",
          "2017-03",
          "2017-04",
          "2017-05",
          "2017-06",
          "2017-07",
          "2017-08",
          "2017-09",
          "2017-10",
          "2017-11",
          "2017-12",
          "2018-01",
          "2018-02",
          "2018-03",
          "2018-04",
          "2018-05",
          "2018-06",
          "2018-07",
          "2018-08",
          "2018-09",
          "2018-10",
          "2018-11",
          "2018-12",
          "2019-01",
          "2019-02",
          "2019-03",
          "2019-04",
          "2019-05",
          "2019-06",
          "2019-07",
          "2019-08",
          "2019-09",
          "2019-10",
          "2019-11",
          "2019-12",
          "2020-01",
          "2020-02",
          "2020-03",
          "2020-04",
          "2020-05",
          "2020-06",
          "2020-07",
          "2020-08"
         ],
         "xaxis": "x",
         "y": [
          68733.05536587801,
          66077.39185306996,
          66111.69476091652,
          68191.70592753381,
          67433.63011747954,
          68377.22992476284,
          70636.58907701196,
          70951.38554233403,
          68757.92196234704,
          68012.7133207325,
          67528.85481644225,
          68408.2975345843,
          68819.36506473126,
          66972.93542834934,
          66806.3722107994,
          70161.42907780469,
          69887.4579719572,
          71398.62804947095,
          74068.11723914958,
          75063.19076596055,
          74115.64076472403,
          73189.75448601725,
          72991.64161644806,
          74298.64581917063,
          74992.4835777585,
          73860.32852486204,
          73682.46193194455,
          76970.99624792553,
          77491.40065693355,
          79422.57735259898,
          81899.26290611552,
          81017.2336693297,
          81851.33682094685,
          79990.15323169889,
          79947.93407167486,
          81501.26816150291,
          82519.95400623382,
          80614.03634166604,
          82635.31377466347,
          84622.2532553088,
          84372.74696858702,
          86471.16166384332,
          88302.8427748308,
          89471.01154083434,
          88746.1626275652,
          85674.11767977072,
          85025.36275315833,
          86307.84374788894,
          87253.26116420503,
          87071.34431146842,
          88922.14191769678,
          91040.09244153852,
          91729.14022674963,
          96541.839206508,
          98858.47137956228,
          100463.61615329325,
          102790.96507266109,
          98837.87892261952,
          100140.45462497267,
          100979.39377841722,
          103810.6981508968,
          101333.9606852739,
          104742.69205236594,
          106373.27179171618,
          106988.62591434759,
          107239.01173203811,
          110443.95555314384,
          111531.29196368126,
          108680.7531670478,
          108936.87386797353,
          110464.17904190942,
          110570.23757739898,
          112613.4923970663,
          110408.9760732076,
          111881.85350145894,
          117148.9723088716,
          117347.13266710323,
          119791.16991410189,
          123998.45452352833,
          124743.04957723958,
          124165.7494949495,
          120062.68690956965,
          117801.80282210275,
          122318.16726647633,
          122485.72568373164,
          121348.92272335885,
          124855.31689897686,
          130842.02518510156,
          131977.4412163746,
          140529.2211709526,
          144367.75870877673,
          146778.1356847768,
          146916.1585416441,
          145350.6715221948,
          143642.36478422116,
          147806.38901769594,
          148198.98096300647,
          144802.60967278847,
          144218.3728354601,
          148362.68658562642,
          148211.1299940856,
          151770.6000613995,
          158340.7932873647,
          161471.28704935277,
          162981.65453322913,
          161259.02912998447,
          163758.75601048602,
          166662.3351089629,
          166184.17154212148,
          164813.78573593294,
          168129.68699469368,
          172840.88690628356,
          174553.54144722203,
          180786.93053607317,
          185831.4984643499,
          189467.79950193444,
          189639.3394700283,
          182589.79635966977,
          183452.81496228752,
          185339.4365400636,
          184379.11337286019,
          181347.52181275567,
          183851.2457418898,
          182180.76103233462,
          185062.53275201542,
          188703.99650020467,
          193335.03776540878,
          196139.31732136995,
          193862.0352683075,
          190455.94677790868,
          191811.61826933955,
          192209.0367989953,
          195935.67016795865,
          190343.31415148277,
          192385.0228791579,
          198198.75823143992,
          198181.02649136577,
          201690.52146070224,
          209912.33530113197,
          213244.57048400314,
          209795.64977584794,
          207643.94713742402,
          207401.10865590905,
          207167.87037621264,
          212997.81845113082,
          208708.2295659763,
          209215.17275347514,
          213519.76652640567,
          216133.4007829616,
          217433.89697411994,
          228791.37876900076,
          229453.71497204615,
          228607.43351859346,
          224936.00378873557,
          220276.9648068258,
          217056.8592839202,
          222917.14876615745,
          215250.80534591194,
          216383.5647592614,
          218846.91531161123,
          219523.2955699501,
          219590.7610238549,
          227705.74375966424,
          223755.4677710481,
          218731.57173000672,
          210350.59371853375,
          203083.95187690677,
          198583.86335238922,
          204513.10287691187,
          197703.6614017769,
          193468.22726178053,
          199545.95711353308,
          202413.5404010111,
          206559.73915770443,
          219289.4445679051,
          224421.26996815935,
          225641.6794380372,
          222484.31994409882,
          223106.7194003784,
          212808.34218218472,
          247542.39468465987,
          230593.55639885456,
          227023.31801787976,
          228835.39226958132,
          227552.81494183184,
          235167.2799174907,
          247182.4921699567,
          246684.49316500482,
          243887.09120291573,
          234839.9517639923,
          231893.2578917799,
          229696.79584143969,
          239202.1190020201,
          229003.17450535193,
          234778.73308826637,
          237906.92108854145,
          220171.95725218585,
          225018.97934380142,
          240493.7465054959,
          242525.38247324395,
          238519.3756813156,
          230454.79003364244,
          228295.52221311475,
          224678.70736524524,
          231919.45769717227,
          228090.17057668115,
          220672.33944376252,
          236760.28830474798,
          237009.86302532098,
          240422.4797040029,
          251577.02317830885,
          248804.88306543764,
          247215.54817854732,
          240322.01902620718,
          235475.0319081146,
          236292.97244806573,
          245229.61947777317,
          235005.34622337847,
          235214.36525823307,
          242878.2714854422,
          237456.67672814516,
          243552.83782568958,
          256903.23005915884,
          255960.5911713755,
          256734.60933519944,
          247949.13302296711,
          244122.44078811636,
          246555.32481177928,
          253653.9996527426,
          247769.35885403803,
          244703.0154217737,
          255358.874460557,
          252531.8248395621,
          260181.15969983066,
          270676.19170190394,
          268020.40927530586,
          266988.68715593027,
          262096.5494524729,
          254521.5111893033,
          257507.26143728328,
          265454.5914271718,
          257601.98222831983,
          254450.6033843141,
          264504.76326453546,
          257804.29724112587,
          265906.2067129274,
          277983.1352010366,
          279396.7613816509,
          280030.6263907179,
          271941.35048667295,
          274406.48232474533,
          274865.67136809387,
          281959.8160772849,
          272444.220395182,
          285401.22704210517,
          269053.59167761565,
          270859.9920428393,
          280684.6870740049,
          282148.32382906304,
          280628.4510420187,
          282805.24905803456,
          280919.41431963426,
          279328.2185487955,
          286500.0119847608,
          288347.4073496487,
          282733.68594654655,
          281103.5750994695,
          293251.8259371144,
          286851.685081881,
          289781.0869410484,
          294845.6728883008,
          299653.71247653774,
          295119.83244617464,
          289670.81930066715,
          286293.84245668567,
          292177.2269867777,
          298674.1149102192,
          287220.80819875037,
          289834.5175067432,
          291787.880056514,
          289296.9164009409,
          292354.77190908184,
          305266.23412370024,
          300016.9533403587,
          300357.91226523573,
          294310.9465229024,
          290356.0011056841,
          289890.6554970066,
          292894.63610411686,
          282213.41196195583,
          284108.36709745484,
          288803.5269100978,
          286048.4369265004,
          296288.62792352046,
          304596.8234372741,
          304336.3548094168,
          301754.9451451659,
          300396.95160204795,
          295153.04855190834,
          301342.2986611607,
          300197.00559710496,
          289987.46025454486,
          301811.90801800066,
          301424.96480250295,
          275809.7813573737,
          291073.65810840466,
          314965.95979432744,
          345822.27773749095
         ],
         "yaxis": "y2"
        },
        {
         "alignmentgroup": "True",
         "hovertemplate": "Year-Month=%{x}<br>Volume=%{y}<extra></extra>",
         "legendgroup": "",
         "marker": {
          "color": "violet"
         },
         "name": "",
         "offsetgroup": "",
         "orientation": "v",
         "showlegend": false,
         "textposition": "auto",
         "type": "bar",
         "x": [
          "1995-01",
          "1995-02",
          "1995-03",
          "1995-04",
          "1995-05",
          "1995-06",
          "1995-07",
          "1995-08",
          "1995-09",
          "1995-10",
          "1995-11",
          "1995-12",
          "1996-01",
          "1996-02",
          "1996-03",
          "1996-04",
          "1996-05",
          "1996-06",
          "1996-07",
          "1996-08",
          "1996-09",
          "1996-10",
          "1996-11",
          "1996-12",
          "1997-01",
          "1997-02",
          "1997-03",
          "1997-04",
          "1997-05",
          "1997-06",
          "1997-07",
          "1997-08",
          "1997-09",
          "1997-10",
          "1997-11",
          "1997-12",
          "1998-01",
          "1998-02",
          "1998-03",
          "1998-04",
          "1998-05",
          "1998-06",
          "1998-07",
          "1998-08",
          "1998-09",
          "1998-10",
          "1998-11",
          "1998-12",
          "1999-01",
          "1999-02",
          "1999-03",
          "1999-04",
          "1999-05",
          "1999-06",
          "1999-07",
          "1999-08",
          "1999-09",
          "1999-10",
          "1999-11",
          "1999-12",
          "2000-01",
          "2000-02",
          "2000-03",
          "2000-04",
          "2000-05",
          "2000-06",
          "2000-07",
          "2000-08",
          "2000-09",
          "2000-10",
          "2000-11",
          "2000-12",
          "2001-01",
          "2001-02",
          "2001-03",
          "2001-04",
          "2001-05",
          "2001-06",
          "2001-07",
          "2001-08",
          "2001-09",
          "2001-10",
          "2001-11",
          "2001-12",
          "2002-01",
          "2002-02",
          "2002-03",
          "2002-04",
          "2002-05",
          "2002-06",
          "2002-07",
          "2002-08",
          "2002-09",
          "2002-10",
          "2002-11",
          "2002-12",
          "2003-01",
          "2003-02",
          "2003-03",
          "2003-04",
          "2003-05",
          "2003-06",
          "2003-07",
          "2003-08",
          "2003-09",
          "2003-10",
          "2003-11",
          "2003-12",
          "2004-01",
          "2004-02",
          "2004-03",
          "2004-04",
          "2004-05",
          "2004-06",
          "2004-07",
          "2004-08",
          "2004-09",
          "2004-10",
          "2004-11",
          "2004-12",
          "2005-01",
          "2005-02",
          "2005-03",
          "2005-04",
          "2005-05",
          "2005-06",
          "2005-07",
          "2005-08",
          "2005-09",
          "2005-10",
          "2005-11",
          "2005-12",
          "2006-01",
          "2006-02",
          "2006-03",
          "2006-04",
          "2006-05",
          "2006-06",
          "2006-07",
          "2006-08",
          "2006-09",
          "2006-10",
          "2006-11",
          "2006-12",
          "2007-01",
          "2007-02",
          "2007-03",
          "2007-04",
          "2007-05",
          "2007-06",
          "2007-07",
          "2007-08",
          "2007-09",
          "2007-10",
          "2007-11",
          "2007-12",
          "2008-01",
          "2008-02",
          "2008-03",
          "2008-04",
          "2008-05",
          "2008-06",
          "2008-07",
          "2008-08",
          "2008-09",
          "2008-10",
          "2008-11",
          "2008-12",
          "2009-01",
          "2009-02",
          "2009-03",
          "2009-04",
          "2009-05",
          "2009-06",
          "2009-07",
          "2009-08",
          "2009-09",
          "2009-10",
          "2009-11",
          "2009-12",
          "2010-01",
          "2010-02",
          "2010-03",
          "2010-04",
          "2010-05",
          "2010-06",
          "2010-07",
          "2010-08",
          "2010-09",
          "2010-10",
          "2010-11",
          "2010-12",
          "2011-01",
          "2011-02",
          "2011-03",
          "2011-04",
          "2011-05",
          "2011-06",
          "2011-07",
          "2011-08",
          "2011-09",
          "2011-10",
          "2011-11",
          "2011-12",
          "2012-01",
          "2012-02",
          "2012-03",
          "2012-04",
          "2012-05",
          "2012-06",
          "2012-07",
          "2012-08",
          "2012-09",
          "2012-10",
          "2012-11",
          "2012-12",
          "2013-01",
          "2013-02",
          "2013-03",
          "2013-04",
          "2013-05",
          "2013-06",
          "2013-07",
          "2013-08",
          "2013-09",
          "2013-10",
          "2013-11",
          "2013-12",
          "2014-01",
          "2014-02",
          "2014-03",
          "2014-04",
          "2014-05",
          "2014-06",
          "2014-07",
          "2014-08",
          "2014-09",
          "2014-10",
          "2014-11",
          "2014-12",
          "2015-01",
          "2015-02",
          "2015-03",
          "2015-04",
          "2015-05",
          "2015-06",
          "2015-07",
          "2015-08",
          "2015-09",
          "2015-10",
          "2015-11",
          "2015-12",
          "2016-01",
          "2016-02",
          "2016-03",
          "2016-04",
          "2016-05",
          "2016-06",
          "2016-07",
          "2016-08",
          "2016-09",
          "2016-10",
          "2016-11",
          "2016-12",
          "2017-01",
          "2017-02",
          "2017-03",
          "2017-04",
          "2017-05",
          "2017-06",
          "2017-07",
          "2017-08",
          "2017-09",
          "2017-10",
          "2017-11",
          "2017-12",
          "2018-01",
          "2018-02",
          "2018-03",
          "2018-04",
          "2018-05",
          "2018-06",
          "2018-07",
          "2018-08",
          "2018-09",
          "2018-10",
          "2018-11",
          "2018-12",
          "2019-01",
          "2019-02",
          "2019-03",
          "2019-04",
          "2019-05",
          "2019-06",
          "2019-07",
          "2019-08",
          "2019-09",
          "2019-10",
          "2019-11",
          "2019-12",
          "2020-01",
          "2020-02",
          "2020-03",
          "2020-04",
          "2020-05",
          "2020-06",
          "2020-07",
          "2020-08"
         ],
         "xaxis": "x",
         "y": [
          50085,
          50473,
          70833,
          59890,
          67416,
          76425,
          67509,
          72861,
          71017,
          64546,
          67363,
          73010,
          50980,
          54033,
          72467,
          67708,
          83016,
          79481,
          89697,
          95971,
          84318,
          91005,
          98735,
          91202,
          70301,
          69946,
          80934,
          83154,
          96509,
          100559,
          108282,
          104267,
          94525,
          101278,
          86139,
          92407,
          64487,
          66205,
          81345,
          84247,
          91459,
          96812,
          109340,
          94014,
          89954,
          93508,
          86359,
          88818,
          63305,
          65676,
          88502,
          93908,
          93848,
          105962,
          125924,
          114082,
          107967,
          113349,
          109752,
          108429,
          72089,
          76816,
          102433,
          94256,
          97884,
          112001,
          101357,
          100444,
          94015,
          88558,
          88739,
          96739,
          68855,
          71468,
          95960,
          93929,
          105369,
          120608,
          120238,
          132581,
          104445,
          112418,
          116438,
          99476,
          76492,
          82457,
          110054,
          106293,
          140779,
          111294,
          134663,
          134584,
          110892,
          113067,
          118640,
          109121,
          85150,
          80804,
          86046,
          88927,
          98066,
          100978,
          109495,
          115029,
          110054,
          123584,
          115964,
          119582,
          89325,
          89091,
          103650,
          117354,
          107848,
          121905,
          130238,
          112435,
          97175,
          93508,
          83129,
          85227,
          56839,
          59644,
          72039,
          84275,
          85094,
          97720,
          102766,
          100529,
          102103,
          94209,
          97223,
          108291,
          77400,
          80458,
          105642,
          96915,
          107016,
          128048,
          119084,
          125681,
          120677,
          117796,
          119791,
          126790,
          90466,
          89373,
          109636,
          98388,
          111372,
          127434,
          120390,
          128426,
          101299,
          106104,
          104310,
          84404,
          59570,
          63600,
          60169,
          64696,
          67155,
          60868,
          54324,
          49862,
          43127,
          46677,
          37695,
          41457,
          27460,
          28364,
          37371,
          40922,
          46682,
          54209,
          63898,
          59044,
          59221,
          66546,
          61839,
          79370,
          36310,
          42953,
          52126,
          52882,
          52778,
          63508,
          68135,
          62180,
          58167,
          59354,
          56958,
          57568,
          38117,
          40079,
          47334,
          51298,
          49523,
          58336,
          62956,
          65032,
          64214,
          58557,
          61000,
          64302,
          44276,
          45311,
          61916,
          43787,
          53039,
          60406,
          59711,
          65635,
          53364,
          59602,
          64341,
          56947,
          43506,
          45358,
          54931,
          51244,
          66690,
          66743,
          74207,
          80239,
          71450,
          80550,
          87246,
          83944,
          69113,
          68833,
          72041,
          74614,
          82119,
          86218,
          89394,
          92439,
          83377,
          91411,
          78155,
          83630,
          61240,
          62684,
          72511,
          68849,
          78909,
          91078,
          98017,
          89574,
          88084,
          97396,
          88457,
          93305,
          67387,
          73890,
          140529,
          57844,
          66481,
          82454,
          85786,
          88770,
          84398,
          79178,
          82938,
          90031,
          64765,
          68396,
          84448,
          70509,
          77979,
          95536,
          86151,
          92702,
          88109,
          86940,
          86865,
          87428,
          65103,
          67059,
          78227,
          67240,
          76520,
          90499,
          83379,
          95843,
          78270,
          87458,
          93155,
          80844,
          62353,
          65608,
          75830,
          69342,
          76395,
          80126,
          82996,
          88098,
          77222,
          83206,
          83869,
          77007,
          62175,
          59793,
          57109,
          23013,
          29395,
          41013,
          30145,
          1379
         ],
         "yaxis": "y"
        }
       ],
       "layout": {
        "template": {
         "data": {
          "bar": [
           {
            "error_x": {
             "color": "#2a3f5f"
            },
            "error_y": {
             "color": "#2a3f5f"
            },
            "marker": {
             "line": {
              "color": "#E5ECF6",
              "width": 0.5
             }
            },
            "type": "bar"
           }
          ],
          "barpolar": [
           {
            "marker": {
             "line": {
              "color": "#E5ECF6",
              "width": 0.5
             }
            },
            "type": "barpolar"
           }
          ],
          "carpet": [
           {
            "aaxis": {
             "endlinecolor": "#2a3f5f",
             "gridcolor": "white",
             "linecolor": "white",
             "minorgridcolor": "white",
             "startlinecolor": "#2a3f5f"
            },
            "baxis": {
             "endlinecolor": "#2a3f5f",
             "gridcolor": "white",
             "linecolor": "white",
             "minorgridcolor": "white",
             "startlinecolor": "#2a3f5f"
            },
            "type": "carpet"
           }
          ],
          "choropleth": [
           {
            "colorbar": {
             "outlinewidth": 0,
             "ticks": ""
            },
            "type": "choropleth"
           }
          ],
          "contour": [
           {
            "colorbar": {
             "outlinewidth": 0,
             "ticks": ""
            },
            "colorscale": [
             [
              0,
              "#0d0887"
             ],
             [
              0.1111111111111111,
              "#46039f"
             ],
             [
              0.2222222222222222,
              "#7201a8"
             ],
             [
              0.3333333333333333,
              "#9c179e"
             ],
             [
              0.4444444444444444,
              "#bd3786"
             ],
             [
              0.5555555555555556,
              "#d8576b"
             ],
             [
              0.6666666666666666,
              "#ed7953"
             ],
             [
              0.7777777777777778,
              "#fb9f3a"
             ],
             [
              0.8888888888888888,
              "#fdca26"
             ],
             [
              1,
              "#f0f921"
             ]
            ],
            "type": "contour"
           }
          ],
          "contourcarpet": [
           {
            "colorbar": {
             "outlinewidth": 0,
             "ticks": ""
            },
            "type": "contourcarpet"
           }
          ],
          "heatmap": [
           {
            "colorbar": {
             "outlinewidth": 0,
             "ticks": ""
            },
            "colorscale": [
             [
              0,
              "#0d0887"
             ],
             [
              0.1111111111111111,
              "#46039f"
             ],
             [
              0.2222222222222222,
              "#7201a8"
             ],
             [
              0.3333333333333333,
              "#9c179e"
             ],
             [
              0.4444444444444444,
              "#bd3786"
             ],
             [
              0.5555555555555556,
              "#d8576b"
             ],
             [
              0.6666666666666666,
              "#ed7953"
             ],
             [
              0.7777777777777778,
              "#fb9f3a"
             ],
             [
              0.8888888888888888,
              "#fdca26"
             ],
             [
              1,
              "#f0f921"
             ]
            ],
            "type": "heatmap"
           }
          ],
          "heatmapgl": [
           {
            "colorbar": {
             "outlinewidth": 0,
             "ticks": ""
            },
            "colorscale": [
             [
              0,
              "#0d0887"
             ],
             [
              0.1111111111111111,
              "#46039f"
             ],
             [
              0.2222222222222222,
              "#7201a8"
             ],
             [
              0.3333333333333333,
              "#9c179e"
             ],
             [
              0.4444444444444444,
              "#bd3786"
             ],
             [
              0.5555555555555556,
              "#d8576b"
             ],
             [
              0.6666666666666666,
              "#ed7953"
             ],
             [
              0.7777777777777778,
              "#fb9f3a"
             ],
             [
              0.8888888888888888,
              "#fdca26"
             ],
             [
              1,
              "#f0f921"
             ]
            ],
            "type": "heatmapgl"
           }
          ],
          "histogram": [
           {
            "marker": {
             "colorbar": {
              "outlinewidth": 0,
              "ticks": ""
             }
            },
            "type": "histogram"
           }
          ],
          "histogram2d": [
           {
            "colorbar": {
             "outlinewidth": 0,
             "ticks": ""
            },
            "colorscale": [
             [
              0,
              "#0d0887"
             ],
             [
              0.1111111111111111,
              "#46039f"
             ],
             [
              0.2222222222222222,
              "#7201a8"
             ],
             [
              0.3333333333333333,
              "#9c179e"
             ],
             [
              0.4444444444444444,
              "#bd3786"
             ],
             [
              0.5555555555555556,
              "#d8576b"
             ],
             [
              0.6666666666666666,
              "#ed7953"
             ],
             [
              0.7777777777777778,
              "#fb9f3a"
             ],
             [
              0.8888888888888888,
              "#fdca26"
             ],
             [
              1,
              "#f0f921"
             ]
            ],
            "type": "histogram2d"
           }
          ],
          "histogram2dcontour": [
           {
            "colorbar": {
             "outlinewidth": 0,
             "ticks": ""
            },
            "colorscale": [
             [
              0,
              "#0d0887"
             ],
             [
              0.1111111111111111,
              "#46039f"
             ],
             [
              0.2222222222222222,
              "#7201a8"
             ],
             [
              0.3333333333333333,
              "#9c179e"
             ],
             [
              0.4444444444444444,
              "#bd3786"
             ],
             [
              0.5555555555555556,
              "#d8576b"
             ],
             [
              0.6666666666666666,
              "#ed7953"
             ],
             [
              0.7777777777777778,
              "#fb9f3a"
             ],
             [
              0.8888888888888888,
              "#fdca26"
             ],
             [
              1,
              "#f0f921"
             ]
            ],
            "type": "histogram2dcontour"
           }
          ],
          "mesh3d": [
           {
            "colorbar": {
             "outlinewidth": 0,
             "ticks": ""
            },
            "type": "mesh3d"
           }
          ],
          "parcoords": [
           {
            "line": {
             "colorbar": {
              "outlinewidth": 0,
              "ticks": ""
             }
            },
            "type": "parcoords"
           }
          ],
          "pie": [
           {
            "automargin": true,
            "type": "pie"
           }
          ],
          "scatter": [
           {
            "marker": {
             "colorbar": {
              "outlinewidth": 0,
              "ticks": ""
             }
            },
            "type": "scatter"
           }
          ],
          "scatter3d": [
           {
            "line": {
             "colorbar": {
              "outlinewidth": 0,
              "ticks": ""
             }
            },
            "marker": {
             "colorbar": {
              "outlinewidth": 0,
              "ticks": ""
             }
            },
            "type": "scatter3d"
           }
          ],
          "scattercarpet": [
           {
            "marker": {
             "colorbar": {
              "outlinewidth": 0,
              "ticks": ""
             }
            },
            "type": "scattercarpet"
           }
          ],
          "scattergeo": [
           {
            "marker": {
             "colorbar": {
              "outlinewidth": 0,
              "ticks": ""
             }
            },
            "type": "scattergeo"
           }
          ],
          "scattergl": [
           {
            "marker": {
             "colorbar": {
              "outlinewidth": 0,
              "ticks": ""
             }
            },
            "type": "scattergl"
           }
          ],
          "scattermapbox": [
           {
            "marker": {
             "colorbar": {
              "outlinewidth": 0,
              "ticks": ""
             }
            },
            "type": "scattermapbox"
           }
          ],
          "scatterpolar": [
           {
            "marker": {
             "colorbar": {
              "outlinewidth": 0,
              "ticks": ""
             }
            },
            "type": "scatterpolar"
           }
          ],
          "scatterpolargl": [
           {
            "marker": {
             "colorbar": {
              "outlinewidth": 0,
              "ticks": ""
             }
            },
            "type": "scatterpolargl"
           }
          ],
          "scatterternary": [
           {
            "marker": {
             "colorbar": {
              "outlinewidth": 0,
              "ticks": ""
             }
            },
            "type": "scatterternary"
           }
          ],
          "surface": [
           {
            "colorbar": {
             "outlinewidth": 0,
             "ticks": ""
            },
            "colorscale": [
             [
              0,
              "#0d0887"
             ],
             [
              0.1111111111111111,
              "#46039f"
             ],
             [
              0.2222222222222222,
              "#7201a8"
             ],
             [
              0.3333333333333333,
              "#9c179e"
             ],
             [
              0.4444444444444444,
              "#bd3786"
             ],
             [
              0.5555555555555556,
              "#d8576b"
             ],
             [
              0.6666666666666666,
              "#ed7953"
             ],
             [
              0.7777777777777778,
              "#fb9f3a"
             ],
             [
              0.8888888888888888,
              "#fdca26"
             ],
             [
              1,
              "#f0f921"
             ]
            ],
            "type": "surface"
           }
          ],
          "table": [
           {
            "cells": {
             "fill": {
              "color": "#EBF0F8"
             },
             "line": {
              "color": "white"
             }
            },
            "header": {
             "fill": {
              "color": "#C8D4E3"
             },
             "line": {
              "color": "white"
             }
            },
            "type": "table"
           }
          ]
         },
         "layout": {
          "annotationdefaults": {
           "arrowcolor": "#2a3f5f",
           "arrowhead": 0,
           "arrowwidth": 1
          },
          "coloraxis": {
           "colorbar": {
            "outlinewidth": 0,
            "ticks": ""
           }
          },
          "colorscale": {
           "diverging": [
            [
             0,
             "#8e0152"
            ],
            [
             0.1,
             "#c51b7d"
            ],
            [
             0.2,
             "#de77ae"
            ],
            [
             0.3,
             "#f1b6da"
            ],
            [
             0.4,
             "#fde0ef"
            ],
            [
             0.5,
             "#f7f7f7"
            ],
            [
             0.6,
             "#e6f5d0"
            ],
            [
             0.7,
             "#b8e186"
            ],
            [
             0.8,
             "#7fbc41"
            ],
            [
             0.9,
             "#4d9221"
            ],
            [
             1,
             "#276419"
            ]
           ],
           "sequential": [
            [
             0,
             "#0d0887"
            ],
            [
             0.1111111111111111,
             "#46039f"
            ],
            [
             0.2222222222222222,
             "#7201a8"
            ],
            [
             0.3333333333333333,
             "#9c179e"
            ],
            [
             0.4444444444444444,
             "#bd3786"
            ],
            [
             0.5555555555555556,
             "#d8576b"
            ],
            [
             0.6666666666666666,
             "#ed7953"
            ],
            [
             0.7777777777777778,
             "#fb9f3a"
            ],
            [
             0.8888888888888888,
             "#fdca26"
            ],
            [
             1,
             "#f0f921"
            ]
           ],
           "sequentialminus": [
            [
             0,
             "#0d0887"
            ],
            [
             0.1111111111111111,
             "#46039f"
            ],
            [
             0.2222222222222222,
             "#7201a8"
            ],
            [
             0.3333333333333333,
             "#9c179e"
            ],
            [
             0.4444444444444444,
             "#bd3786"
            ],
            [
             0.5555555555555556,
             "#d8576b"
            ],
            [
             0.6666666666666666,
             "#ed7953"
            ],
            [
             0.7777777777777778,
             "#fb9f3a"
            ],
            [
             0.8888888888888888,
             "#fdca26"
            ],
            [
             1,
             "#f0f921"
            ]
           ]
          },
          "colorway": [
           "#636efa",
           "#EF553B",
           "#00cc96",
           "#ab63fa",
           "#FFA15A",
           "#19d3f3",
           "#FF6692",
           "#B6E880",
           "#FF97FF",
           "#FECB52"
          ],
          "font": {
           "color": "#2a3f5f"
          },
          "geo": {
           "bgcolor": "white",
           "lakecolor": "white",
           "landcolor": "#E5ECF6",
           "showlakes": true,
           "showland": true,
           "subunitcolor": "white"
          },
          "hoverlabel": {
           "align": "left"
          },
          "hovermode": "closest",
          "mapbox": {
           "style": "light"
          },
          "paper_bgcolor": "white",
          "plot_bgcolor": "#E5ECF6",
          "polar": {
           "angularaxis": {
            "gridcolor": "white",
            "linecolor": "white",
            "ticks": ""
           },
           "bgcolor": "#E5ECF6",
           "radialaxis": {
            "gridcolor": "white",
            "linecolor": "white",
            "ticks": ""
           }
          },
          "scene": {
           "xaxis": {
            "backgroundcolor": "#E5ECF6",
            "gridcolor": "white",
            "gridwidth": 2,
            "linecolor": "white",
            "showbackground": true,
            "ticks": "",
            "zerolinecolor": "white"
           },
           "yaxis": {
            "backgroundcolor": "#E5ECF6",
            "gridcolor": "white",
            "gridwidth": 2,
            "linecolor": "white",
            "showbackground": true,
            "ticks": "",
            "zerolinecolor": "white"
           },
           "zaxis": {
            "backgroundcolor": "#E5ECF6",
            "gridcolor": "white",
            "gridwidth": 2,
            "linecolor": "white",
            "showbackground": true,
            "ticks": "",
            "zerolinecolor": "white"
           }
          },
          "shapedefaults": {
           "line": {
            "color": "#2a3f5f"
           }
          },
          "ternary": {
           "aaxis": {
            "gridcolor": "white",
            "linecolor": "white",
            "ticks": ""
           },
           "baxis": {
            "gridcolor": "white",
            "linecolor": "white",
            "ticks": ""
           },
           "bgcolor": "#E5ECF6",
           "caxis": {
            "gridcolor": "white",
            "linecolor": "white",
            "ticks": ""
           }
          },
          "title": {
           "x": 0.05
          },
          "xaxis": {
           "automargin": true,
           "gridcolor": "white",
           "linecolor": "white",
           "ticks": "",
           "title": {
            "standoff": 15
           },
           "zerolinecolor": "white",
           "zerolinewidth": 2
          },
          "yaxis": {
           "automargin": true,
           "gridcolor": "white",
           "linecolor": "white",
           "ticks": "",
           "title": {
            "standoff": 15
           },
           "zerolinecolor": "white",
           "zerolinewidth": 2
          }
         }
        },
        "title": {
         "text": "England & Wales average house price and sales volume from 1995"
        },
        "xaxis": {
         "anchor": "y",
         "domain": [
          0,
          0.94
         ],
         "showgrid": false
        },
        "yaxis": {
         "anchor": "x",
         "domain": [
          0,
          1
         ],
         "showgrid": false,
         "title": {
          "text": "Sales Volume (Bar Chart)"
         }
        },
        "yaxis2": {
         "anchor": "x",
         "overlaying": "y",
         "side": "right",
         "title": {
          "text": "Avg. Price (£)"
         }
        }
       }
      },
      "text/html": [
       "<div>                            <div id=\"893df668-ce1c-4c78-8ee1-48f7cd88c1ab\" class=\"plotly-graph-div\" style=\"height:525px; width:100%;\"></div>            <script type=\"text/javascript\">                require([\"plotly\"], function(Plotly) {                    window.PLOTLYENV=window.PLOTLYENV || {};                                    if (document.getElementById(\"893df668-ce1c-4c78-8ee1-48f7cd88c1ab\")) {                    Plotly.newPlot(                        \"893df668-ce1c-4c78-8ee1-48f7cd88c1ab\",                        [{\"hovertemplate\": \"Year-Month=%{x}<br>Price=%{y}<extra></extra>\", \"legendgroup\": \"\", \"line\": {\"color\": \"cornflowerblue\", \"dash\": \"solid\"}, \"mode\": \"lines\", \"name\": \"\", \"orientation\": \"v\", \"showlegend\": false, \"type\": \"scatter\", \"x\": [\"1995-01\", \"1995-02\", \"1995-03\", \"1995-04\", \"1995-05\", \"1995-06\", \"1995-07\", \"1995-08\", \"1995-09\", \"1995-10\", \"1995-11\", \"1995-12\", \"1996-01\", \"1996-02\", \"1996-03\", \"1996-04\", \"1996-05\", \"1996-06\", \"1996-07\", \"1996-08\", \"1996-09\", \"1996-10\", \"1996-11\", \"1996-12\", \"1997-01\", \"1997-02\", \"1997-03\", \"1997-04\", \"1997-05\", \"1997-06\", \"1997-07\", \"1997-08\", \"1997-09\", \"1997-10\", \"1997-11\", \"1997-12\", \"1998-01\", \"1998-02\", \"1998-03\", \"1998-04\", \"1998-05\", \"1998-06\", \"1998-07\", \"1998-08\", \"1998-09\", \"1998-10\", \"1998-11\", \"1998-12\", \"1999-01\", \"1999-02\", \"1999-03\", \"1999-04\", \"1999-05\", \"1999-06\", \"1999-07\", \"1999-08\", \"1999-09\", \"1999-10\", \"1999-11\", \"1999-12\", \"2000-01\", \"2000-02\", \"2000-03\", \"2000-04\", \"2000-05\", \"2000-06\", \"2000-07\", \"2000-08\", \"2000-09\", \"2000-10\", \"2000-11\", \"2000-12\", \"2001-01\", \"2001-02\", \"2001-03\", \"2001-04\", \"2001-05\", \"2001-06\", \"2001-07\", \"2001-08\", \"2001-09\", \"2001-10\", \"2001-11\", \"2001-12\", \"2002-01\", \"2002-02\", \"2002-03\", \"2002-04\", \"2002-05\", \"2002-06\", \"2002-07\", \"2002-08\", \"2002-09\", \"2002-10\", \"2002-11\", \"2002-12\", \"2003-01\", \"2003-02\", \"2003-03\", \"2003-04\", \"2003-05\", \"2003-06\", \"2003-07\", \"2003-08\", \"2003-09\", \"2003-10\", \"2003-11\", \"2003-12\", \"2004-01\", \"2004-02\", \"2004-03\", \"2004-04\", \"2004-05\", \"2004-06\", \"2004-07\", \"2004-08\", \"2004-09\", \"2004-10\", \"2004-11\", \"2004-12\", \"2005-01\", \"2005-02\", \"2005-03\", \"2005-04\", \"2005-05\", \"2005-06\", \"2005-07\", \"2005-08\", \"2005-09\", \"2005-10\", \"2005-11\", \"2005-12\", \"2006-01\", \"2006-02\", \"2006-03\", \"2006-04\", \"2006-05\", \"2006-06\", \"2006-07\", \"2006-08\", \"2006-09\", \"2006-10\", \"2006-11\", \"2006-12\", \"2007-01\", \"2007-02\", \"2007-03\", \"2007-04\", \"2007-05\", \"2007-06\", \"2007-07\", \"2007-08\", \"2007-09\", \"2007-10\", \"2007-11\", \"2007-12\", \"2008-01\", \"2008-02\", \"2008-03\", \"2008-04\", \"2008-05\", \"2008-06\", \"2008-07\", \"2008-08\", \"2008-09\", \"2008-10\", \"2008-11\", \"2008-12\", \"2009-01\", \"2009-02\", \"2009-03\", \"2009-04\", \"2009-05\", \"2009-06\", \"2009-07\", \"2009-08\", \"2009-09\", \"2009-10\", \"2009-11\", \"2009-12\", \"2010-01\", \"2010-02\", \"2010-03\", \"2010-04\", \"2010-05\", \"2010-06\", \"2010-07\", \"2010-08\", \"2010-09\", \"2010-10\", \"2010-11\", \"2010-12\", \"2011-01\", \"2011-02\", \"2011-03\", \"2011-04\", \"2011-05\", \"2011-06\", \"2011-07\", \"2011-08\", \"2011-09\", \"2011-10\", \"2011-11\", \"2011-12\", \"2012-01\", \"2012-02\", \"2012-03\", \"2012-04\", \"2012-05\", \"2012-06\", \"2012-07\", \"2012-08\", \"2012-09\", \"2012-10\", \"2012-11\", \"2012-12\", \"2013-01\", \"2013-02\", \"2013-03\", \"2013-04\", \"2013-05\", \"2013-06\", \"2013-07\", \"2013-08\", \"2013-09\", \"2013-10\", \"2013-11\", \"2013-12\", \"2014-01\", \"2014-02\", \"2014-03\", \"2014-04\", \"2014-05\", \"2014-06\", \"2014-07\", \"2014-08\", \"2014-09\", \"2014-10\", \"2014-11\", \"2014-12\", \"2015-01\", \"2015-02\", \"2015-03\", \"2015-04\", \"2015-05\", \"2015-06\", \"2015-07\", \"2015-08\", \"2015-09\", \"2015-10\", \"2015-11\", \"2015-12\", \"2016-01\", \"2016-02\", \"2016-03\", \"2016-04\", \"2016-05\", \"2016-06\", \"2016-07\", \"2016-08\", \"2016-09\", \"2016-10\", \"2016-11\", \"2016-12\", \"2017-01\", \"2017-02\", \"2017-03\", \"2017-04\", \"2017-05\", \"2017-06\", \"2017-07\", \"2017-08\", \"2017-09\", \"2017-10\", \"2017-11\", \"2017-12\", \"2018-01\", \"2018-02\", \"2018-03\", \"2018-04\", \"2018-05\", \"2018-06\", \"2018-07\", \"2018-08\", \"2018-09\", \"2018-10\", \"2018-11\", \"2018-12\", \"2019-01\", \"2019-02\", \"2019-03\", \"2019-04\", \"2019-05\", \"2019-06\", \"2019-07\", \"2019-08\", \"2019-09\", \"2019-10\", \"2019-11\", \"2019-12\", \"2020-01\", \"2020-02\", \"2020-03\", \"2020-04\", \"2020-05\", \"2020-06\", \"2020-07\", \"2020-08\"], \"xaxis\": \"x\", \"y\": [68733.05536587801, 66077.39185306996, 66111.69476091652, 68191.70592753381, 67433.63011747954, 68377.22992476284, 70636.58907701196, 70951.38554233403, 68757.92196234704, 68012.7133207325, 67528.85481644225, 68408.2975345843, 68819.36506473126, 66972.93542834934, 66806.3722107994, 70161.42907780469, 69887.4579719572, 71398.62804947095, 74068.11723914958, 75063.19076596055, 74115.64076472403, 73189.75448601725, 72991.64161644806, 74298.64581917063, 74992.4835777585, 73860.32852486204, 73682.46193194455, 76970.99624792553, 77491.40065693355, 79422.57735259898, 81899.26290611552, 81017.2336693297, 81851.33682094685, 79990.15323169889, 79947.93407167486, 81501.26816150291, 82519.95400623382, 80614.03634166604, 82635.31377466347, 84622.2532553088, 84372.74696858702, 86471.16166384332, 88302.8427748308, 89471.01154083434, 88746.1626275652, 85674.11767977072, 85025.36275315833, 86307.84374788894, 87253.26116420503, 87071.34431146842, 88922.14191769678, 91040.09244153852, 91729.14022674963, 96541.839206508, 98858.47137956228, 100463.61615329325, 102790.96507266109, 98837.87892261952, 100140.45462497267, 100979.39377841722, 103810.6981508968, 101333.9606852739, 104742.69205236594, 106373.27179171618, 106988.62591434759, 107239.01173203811, 110443.95555314384, 111531.29196368126, 108680.7531670478, 108936.87386797353, 110464.17904190942, 110570.23757739898, 112613.4923970663, 110408.9760732076, 111881.85350145894, 117148.9723088716, 117347.13266710323, 119791.16991410189, 123998.45452352833, 124743.04957723958, 124165.7494949495, 120062.68690956965, 117801.80282210275, 122318.16726647633, 122485.72568373164, 121348.92272335885, 124855.31689897686, 130842.02518510156, 131977.4412163746, 140529.2211709526, 144367.75870877673, 146778.1356847768, 146916.1585416441, 145350.6715221948, 143642.36478422116, 147806.38901769594, 148198.98096300647, 144802.60967278847, 144218.3728354601, 148362.68658562642, 148211.1299940856, 151770.6000613995, 158340.7932873647, 161471.28704935277, 162981.65453322913, 161259.02912998447, 163758.75601048602, 166662.3351089629, 166184.17154212148, 164813.78573593294, 168129.68699469368, 172840.88690628356, 174553.54144722203, 180786.93053607317, 185831.4984643499, 189467.79950193444, 189639.3394700283, 182589.79635966977, 183452.81496228752, 185339.4365400636, 184379.11337286019, 181347.52181275567, 183851.2457418898, 182180.76103233462, 185062.53275201542, 188703.99650020467, 193335.03776540878, 196139.31732136995, 193862.0352683075, 190455.94677790868, 191811.61826933955, 192209.0367989953, 195935.67016795865, 190343.31415148277, 192385.0228791579, 198198.75823143992, 198181.02649136577, 201690.52146070224, 209912.33530113197, 213244.57048400314, 209795.64977584794, 207643.94713742402, 207401.10865590905, 207167.87037621264, 212997.81845113082, 208708.2295659763, 209215.17275347514, 213519.76652640567, 216133.4007829616, 217433.89697411994, 228791.37876900076, 229453.71497204615, 228607.43351859346, 224936.00378873557, 220276.9648068258, 217056.8592839202, 222917.14876615745, 215250.80534591194, 216383.5647592614, 218846.91531161123, 219523.2955699501, 219590.7610238549, 227705.74375966424, 223755.4677710481, 218731.57173000672, 210350.59371853375, 203083.95187690677, 198583.86335238922, 204513.10287691187, 197703.6614017769, 193468.22726178053, 199545.95711353308, 202413.5404010111, 206559.73915770443, 219289.4445679051, 224421.26996815935, 225641.6794380372, 222484.31994409882, 223106.7194003784, 212808.34218218472, 247542.39468465987, 230593.55639885456, 227023.31801787976, 228835.39226958132, 227552.81494183184, 235167.2799174907, 247182.4921699567, 246684.49316500482, 243887.09120291573, 234839.9517639923, 231893.2578917799, 229696.79584143969, 239202.1190020201, 229003.17450535193, 234778.73308826637, 237906.92108854145, 220171.95725218585, 225018.97934380142, 240493.7465054959, 242525.38247324395, 238519.3756813156, 230454.79003364244, 228295.52221311475, 224678.70736524524, 231919.45769717227, 228090.17057668115, 220672.33944376252, 236760.28830474798, 237009.86302532098, 240422.4797040029, 251577.02317830885, 248804.88306543764, 247215.54817854732, 240322.01902620718, 235475.0319081146, 236292.97244806573, 245229.61947777317, 235005.34622337847, 235214.36525823307, 242878.2714854422, 237456.67672814516, 243552.83782568958, 256903.23005915884, 255960.5911713755, 256734.60933519944, 247949.13302296711, 244122.44078811636, 246555.32481177928, 253653.9996527426, 247769.35885403803, 244703.0154217737, 255358.874460557, 252531.8248395621, 260181.15969983066, 270676.19170190394, 268020.40927530586, 266988.68715593027, 262096.5494524729, 254521.5111893033, 257507.26143728328, 265454.5914271718, 257601.98222831983, 254450.6033843141, 264504.76326453546, 257804.29724112587, 265906.2067129274, 277983.1352010366, 279396.7613816509, 280030.6263907179, 271941.35048667295, 274406.48232474533, 274865.67136809387, 281959.8160772849, 272444.220395182, 285401.22704210517, 269053.59167761565, 270859.9920428393, 280684.6870740049, 282148.32382906304, 280628.4510420187, 282805.24905803456, 280919.41431963426, 279328.2185487955, 286500.0119847608, 288347.4073496487, 282733.68594654655, 281103.5750994695, 293251.8259371144, 286851.685081881, 289781.0869410484, 294845.6728883008, 299653.71247653774, 295119.83244617464, 289670.81930066715, 286293.84245668567, 292177.2269867777, 298674.1149102192, 287220.80819875037, 289834.5175067432, 291787.880056514, 289296.9164009409, 292354.77190908184, 305266.23412370024, 300016.9533403587, 300357.91226523573, 294310.9465229024, 290356.0011056841, 289890.6554970066, 292894.63610411686, 282213.41196195583, 284108.36709745484, 288803.5269100978, 286048.4369265004, 296288.62792352046, 304596.8234372741, 304336.3548094168, 301754.9451451659, 300396.95160204795, 295153.04855190834, 301342.2986611607, 300197.00559710496, 289987.46025454486, 301811.90801800066, 301424.96480250295, 275809.7813573737, 291073.65810840466, 314965.95979432744, 345822.27773749095], \"yaxis\": \"y2\"}, {\"alignmentgroup\": \"True\", \"hovertemplate\": \"Year-Month=%{x}<br>Volume=%{y}<extra></extra>\", \"legendgroup\": \"\", \"marker\": {\"color\": \"violet\"}, \"name\": \"\", \"offsetgroup\": \"\", \"orientation\": \"v\", \"showlegend\": false, \"textposition\": \"auto\", \"type\": \"bar\", \"x\": [\"1995-01\", \"1995-02\", \"1995-03\", \"1995-04\", \"1995-05\", \"1995-06\", \"1995-07\", \"1995-08\", \"1995-09\", \"1995-10\", \"1995-11\", \"1995-12\", \"1996-01\", \"1996-02\", \"1996-03\", \"1996-04\", \"1996-05\", \"1996-06\", \"1996-07\", \"1996-08\", \"1996-09\", \"1996-10\", \"1996-11\", \"1996-12\", \"1997-01\", \"1997-02\", \"1997-03\", \"1997-04\", \"1997-05\", \"1997-06\", \"1997-07\", \"1997-08\", \"1997-09\", \"1997-10\", \"1997-11\", \"1997-12\", \"1998-01\", \"1998-02\", \"1998-03\", \"1998-04\", \"1998-05\", \"1998-06\", \"1998-07\", \"1998-08\", \"1998-09\", \"1998-10\", \"1998-11\", \"1998-12\", \"1999-01\", \"1999-02\", \"1999-03\", \"1999-04\", \"1999-05\", \"1999-06\", \"1999-07\", \"1999-08\", \"1999-09\", \"1999-10\", \"1999-11\", \"1999-12\", \"2000-01\", \"2000-02\", \"2000-03\", \"2000-04\", \"2000-05\", \"2000-06\", \"2000-07\", \"2000-08\", \"2000-09\", \"2000-10\", \"2000-11\", \"2000-12\", \"2001-01\", \"2001-02\", \"2001-03\", \"2001-04\", \"2001-05\", \"2001-06\", \"2001-07\", \"2001-08\", \"2001-09\", \"2001-10\", \"2001-11\", \"2001-12\", \"2002-01\", \"2002-02\", \"2002-03\", \"2002-04\", \"2002-05\", \"2002-06\", \"2002-07\", \"2002-08\", \"2002-09\", \"2002-10\", \"2002-11\", \"2002-12\", \"2003-01\", \"2003-02\", \"2003-03\", \"2003-04\", \"2003-05\", \"2003-06\", \"2003-07\", \"2003-08\", \"2003-09\", \"2003-10\", \"2003-11\", \"2003-12\", \"2004-01\", \"2004-02\", \"2004-03\", \"2004-04\", \"2004-05\", \"2004-06\", \"2004-07\", \"2004-08\", \"2004-09\", \"2004-10\", \"2004-11\", \"2004-12\", \"2005-01\", \"2005-02\", \"2005-03\", \"2005-04\", \"2005-05\", \"2005-06\", \"2005-07\", \"2005-08\", \"2005-09\", \"2005-10\", \"2005-11\", \"2005-12\", \"2006-01\", \"2006-02\", \"2006-03\", \"2006-04\", \"2006-05\", \"2006-06\", \"2006-07\", \"2006-08\", \"2006-09\", \"2006-10\", \"2006-11\", \"2006-12\", \"2007-01\", \"2007-02\", \"2007-03\", \"2007-04\", \"2007-05\", \"2007-06\", \"2007-07\", \"2007-08\", \"2007-09\", \"2007-10\", \"2007-11\", \"2007-12\", \"2008-01\", \"2008-02\", \"2008-03\", \"2008-04\", \"2008-05\", \"2008-06\", \"2008-07\", \"2008-08\", \"2008-09\", \"2008-10\", \"2008-11\", \"2008-12\", \"2009-01\", \"2009-02\", \"2009-03\", \"2009-04\", \"2009-05\", \"2009-06\", \"2009-07\", \"2009-08\", \"2009-09\", \"2009-10\", \"2009-11\", \"2009-12\", \"2010-01\", \"2010-02\", \"2010-03\", \"2010-04\", \"2010-05\", \"2010-06\", \"2010-07\", \"2010-08\", \"2010-09\", \"2010-10\", \"2010-11\", \"2010-12\", \"2011-01\", \"2011-02\", \"2011-03\", \"2011-04\", \"2011-05\", \"2011-06\", \"2011-07\", \"2011-08\", \"2011-09\", \"2011-10\", \"2011-11\", \"2011-12\", \"2012-01\", \"2012-02\", \"2012-03\", \"2012-04\", \"2012-05\", \"2012-06\", \"2012-07\", \"2012-08\", \"2012-09\", \"2012-10\", \"2012-11\", \"2012-12\", \"2013-01\", \"2013-02\", \"2013-03\", \"2013-04\", \"2013-05\", \"2013-06\", \"2013-07\", \"2013-08\", \"2013-09\", \"2013-10\", \"2013-11\", \"2013-12\", \"2014-01\", \"2014-02\", \"2014-03\", \"2014-04\", \"2014-05\", \"2014-06\", \"2014-07\", \"2014-08\", \"2014-09\", \"2014-10\", \"2014-11\", \"2014-12\", \"2015-01\", \"2015-02\", \"2015-03\", \"2015-04\", \"2015-05\", \"2015-06\", \"2015-07\", \"2015-08\", \"2015-09\", \"2015-10\", \"2015-11\", \"2015-12\", \"2016-01\", \"2016-02\", \"2016-03\", \"2016-04\", \"2016-05\", \"2016-06\", \"2016-07\", \"2016-08\", \"2016-09\", \"2016-10\", \"2016-11\", \"2016-12\", \"2017-01\", \"2017-02\", \"2017-03\", \"2017-04\", \"2017-05\", \"2017-06\", \"2017-07\", \"2017-08\", \"2017-09\", \"2017-10\", \"2017-11\", \"2017-12\", \"2018-01\", \"2018-02\", \"2018-03\", \"2018-04\", \"2018-05\", \"2018-06\", \"2018-07\", \"2018-08\", \"2018-09\", \"2018-10\", \"2018-11\", \"2018-12\", \"2019-01\", \"2019-02\", \"2019-03\", \"2019-04\", \"2019-05\", \"2019-06\", \"2019-07\", \"2019-08\", \"2019-09\", \"2019-10\", \"2019-11\", \"2019-12\", \"2020-01\", \"2020-02\", \"2020-03\", \"2020-04\", \"2020-05\", \"2020-06\", \"2020-07\", \"2020-08\"], \"xaxis\": \"x\", \"y\": [50085, 50473, 70833, 59890, 67416, 76425, 67509, 72861, 71017, 64546, 67363, 73010, 50980, 54033, 72467, 67708, 83016, 79481, 89697, 95971, 84318, 91005, 98735, 91202, 70301, 69946, 80934, 83154, 96509, 100559, 108282, 104267, 94525, 101278, 86139, 92407, 64487, 66205, 81345, 84247, 91459, 96812, 109340, 94014, 89954, 93508, 86359, 88818, 63305, 65676, 88502, 93908, 93848, 105962, 125924, 114082, 107967, 113349, 109752, 108429, 72089, 76816, 102433, 94256, 97884, 112001, 101357, 100444, 94015, 88558, 88739, 96739, 68855, 71468, 95960, 93929, 105369, 120608, 120238, 132581, 104445, 112418, 116438, 99476, 76492, 82457, 110054, 106293, 140779, 111294, 134663, 134584, 110892, 113067, 118640, 109121, 85150, 80804, 86046, 88927, 98066, 100978, 109495, 115029, 110054, 123584, 115964, 119582, 89325, 89091, 103650, 117354, 107848, 121905, 130238, 112435, 97175, 93508, 83129, 85227, 56839, 59644, 72039, 84275, 85094, 97720, 102766, 100529, 102103, 94209, 97223, 108291, 77400, 80458, 105642, 96915, 107016, 128048, 119084, 125681, 120677, 117796, 119791, 126790, 90466, 89373, 109636, 98388, 111372, 127434, 120390, 128426, 101299, 106104, 104310, 84404, 59570, 63600, 60169, 64696, 67155, 60868, 54324, 49862, 43127, 46677, 37695, 41457, 27460, 28364, 37371, 40922, 46682, 54209, 63898, 59044, 59221, 66546, 61839, 79370, 36310, 42953, 52126, 52882, 52778, 63508, 68135, 62180, 58167, 59354, 56958, 57568, 38117, 40079, 47334, 51298, 49523, 58336, 62956, 65032, 64214, 58557, 61000, 64302, 44276, 45311, 61916, 43787, 53039, 60406, 59711, 65635, 53364, 59602, 64341, 56947, 43506, 45358, 54931, 51244, 66690, 66743, 74207, 80239, 71450, 80550, 87246, 83944, 69113, 68833, 72041, 74614, 82119, 86218, 89394, 92439, 83377, 91411, 78155, 83630, 61240, 62684, 72511, 68849, 78909, 91078, 98017, 89574, 88084, 97396, 88457, 93305, 67387, 73890, 140529, 57844, 66481, 82454, 85786, 88770, 84398, 79178, 82938, 90031, 64765, 68396, 84448, 70509, 77979, 95536, 86151, 92702, 88109, 86940, 86865, 87428, 65103, 67059, 78227, 67240, 76520, 90499, 83379, 95843, 78270, 87458, 93155, 80844, 62353, 65608, 75830, 69342, 76395, 80126, 82996, 88098, 77222, 83206, 83869, 77007, 62175, 59793, 57109, 23013, 29395, 41013, 30145, 1379], \"yaxis\": \"y\"}],                        {\"template\": {\"data\": {\"bar\": [{\"error_x\": {\"color\": \"#2a3f5f\"}, \"error_y\": {\"color\": \"#2a3f5f\"}, \"marker\": {\"line\": {\"color\": \"#E5ECF6\", \"width\": 0.5}}, \"type\": \"bar\"}], \"barpolar\": [{\"marker\": {\"line\": {\"color\": \"#E5ECF6\", \"width\": 0.5}}, \"type\": \"barpolar\"}], \"carpet\": [{\"aaxis\": {\"endlinecolor\": \"#2a3f5f\", \"gridcolor\": \"white\", \"linecolor\": \"white\", \"minorgridcolor\": \"white\", \"startlinecolor\": \"#2a3f5f\"}, \"baxis\": {\"endlinecolor\": \"#2a3f5f\", \"gridcolor\": \"white\", \"linecolor\": \"white\", \"minorgridcolor\": \"white\", \"startlinecolor\": \"#2a3f5f\"}, \"type\": \"carpet\"}], \"choropleth\": [{\"colorbar\": {\"outlinewidth\": 0, \"ticks\": \"\"}, \"type\": \"choropleth\"}], \"contour\": [{\"colorbar\": {\"outlinewidth\": 0, \"ticks\": \"\"}, \"colorscale\": [[0.0, \"#0d0887\"], [0.1111111111111111, \"#46039f\"], [0.2222222222222222, \"#7201a8\"], [0.3333333333333333, \"#9c179e\"], [0.4444444444444444, \"#bd3786\"], [0.5555555555555556, \"#d8576b\"], [0.6666666666666666, \"#ed7953\"], [0.7777777777777778, \"#fb9f3a\"], [0.8888888888888888, \"#fdca26\"], [1.0, \"#f0f921\"]], \"type\": \"contour\"}], \"contourcarpet\": [{\"colorbar\": {\"outlinewidth\": 0, \"ticks\": \"\"}, \"type\": \"contourcarpet\"}], \"heatmap\": [{\"colorbar\": {\"outlinewidth\": 0, \"ticks\": \"\"}, \"colorscale\": [[0.0, \"#0d0887\"], [0.1111111111111111, \"#46039f\"], [0.2222222222222222, \"#7201a8\"], [0.3333333333333333, \"#9c179e\"], [0.4444444444444444, \"#bd3786\"], [0.5555555555555556, \"#d8576b\"], [0.6666666666666666, \"#ed7953\"], [0.7777777777777778, \"#fb9f3a\"], [0.8888888888888888, \"#fdca26\"], [1.0, \"#f0f921\"]], \"type\": \"heatmap\"}], \"heatmapgl\": [{\"colorbar\": {\"outlinewidth\": 0, \"ticks\": \"\"}, \"colorscale\": [[0.0, \"#0d0887\"], [0.1111111111111111, \"#46039f\"], [0.2222222222222222, \"#7201a8\"], [0.3333333333333333, \"#9c179e\"], [0.4444444444444444, \"#bd3786\"], [0.5555555555555556, \"#d8576b\"], [0.6666666666666666, \"#ed7953\"], [0.7777777777777778, \"#fb9f3a\"], [0.8888888888888888, \"#fdca26\"], [1.0, \"#f0f921\"]], \"type\": \"heatmapgl\"}], \"histogram\": [{\"marker\": {\"colorbar\": {\"outlinewidth\": 0, \"ticks\": \"\"}}, \"type\": \"histogram\"}], \"histogram2d\": [{\"colorbar\": {\"outlinewidth\": 0, \"ticks\": \"\"}, \"colorscale\": [[0.0, \"#0d0887\"], [0.1111111111111111, \"#46039f\"], [0.2222222222222222, \"#7201a8\"], [0.3333333333333333, \"#9c179e\"], [0.4444444444444444, \"#bd3786\"], [0.5555555555555556, \"#d8576b\"], [0.6666666666666666, \"#ed7953\"], [0.7777777777777778, \"#fb9f3a\"], [0.8888888888888888, \"#fdca26\"], [1.0, \"#f0f921\"]], \"type\": \"histogram2d\"}], \"histogram2dcontour\": [{\"colorbar\": {\"outlinewidth\": 0, \"ticks\": \"\"}, \"colorscale\": [[0.0, \"#0d0887\"], [0.1111111111111111, \"#46039f\"], [0.2222222222222222, \"#7201a8\"], [0.3333333333333333, \"#9c179e\"], [0.4444444444444444, \"#bd3786\"], [0.5555555555555556, \"#d8576b\"], [0.6666666666666666, \"#ed7953\"], [0.7777777777777778, \"#fb9f3a\"], [0.8888888888888888, \"#fdca26\"], [1.0, \"#f0f921\"]], \"type\": \"histogram2dcontour\"}], \"mesh3d\": [{\"colorbar\": {\"outlinewidth\": 0, \"ticks\": \"\"}, \"type\": \"mesh3d\"}], \"parcoords\": [{\"line\": {\"colorbar\": {\"outlinewidth\": 0, \"ticks\": \"\"}}, \"type\": \"parcoords\"}], \"pie\": [{\"automargin\": true, \"type\": \"pie\"}], \"scatter\": [{\"marker\": {\"colorbar\": {\"outlinewidth\": 0, \"ticks\": \"\"}}, \"type\": \"scatter\"}], \"scatter3d\": [{\"line\": {\"colorbar\": {\"outlinewidth\": 0, \"ticks\": \"\"}}, \"marker\": {\"colorbar\": {\"outlinewidth\": 0, \"ticks\": \"\"}}, \"type\": \"scatter3d\"}], \"scattercarpet\": [{\"marker\": {\"colorbar\": {\"outlinewidth\": 0, \"ticks\": \"\"}}, \"type\": \"scattercarpet\"}], \"scattergeo\": [{\"marker\": {\"colorbar\": {\"outlinewidth\": 0, \"ticks\": \"\"}}, \"type\": \"scattergeo\"}], \"scattergl\": [{\"marker\": {\"colorbar\": {\"outlinewidth\": 0, \"ticks\": \"\"}}, \"type\": \"scattergl\"}], \"scattermapbox\": [{\"marker\": {\"colorbar\": {\"outlinewidth\": 0, \"ticks\": \"\"}}, \"type\": \"scattermapbox\"}], \"scatterpolar\": [{\"marker\": {\"colorbar\": {\"outlinewidth\": 0, \"ticks\": \"\"}}, \"type\": \"scatterpolar\"}], \"scatterpolargl\": [{\"marker\": {\"colorbar\": {\"outlinewidth\": 0, \"ticks\": \"\"}}, \"type\": \"scatterpolargl\"}], \"scatterternary\": [{\"marker\": {\"colorbar\": {\"outlinewidth\": 0, \"ticks\": \"\"}}, \"type\": \"scatterternary\"}], \"surface\": [{\"colorbar\": {\"outlinewidth\": 0, \"ticks\": \"\"}, \"colorscale\": [[0.0, \"#0d0887\"], [0.1111111111111111, \"#46039f\"], [0.2222222222222222, \"#7201a8\"], [0.3333333333333333, \"#9c179e\"], [0.4444444444444444, \"#bd3786\"], [0.5555555555555556, \"#d8576b\"], [0.6666666666666666, \"#ed7953\"], [0.7777777777777778, \"#fb9f3a\"], [0.8888888888888888, \"#fdca26\"], [1.0, \"#f0f921\"]], \"type\": \"surface\"}], \"table\": [{\"cells\": {\"fill\": {\"color\": \"#EBF0F8\"}, \"line\": {\"color\": \"white\"}}, \"header\": {\"fill\": {\"color\": \"#C8D4E3\"}, \"line\": {\"color\": \"white\"}}, \"type\": \"table\"}]}, \"layout\": {\"annotationdefaults\": {\"arrowcolor\": \"#2a3f5f\", \"arrowhead\": 0, \"arrowwidth\": 1}, \"coloraxis\": {\"colorbar\": {\"outlinewidth\": 0, \"ticks\": \"\"}}, \"colorscale\": {\"diverging\": [[0, \"#8e0152\"], [0.1, \"#c51b7d\"], [0.2, \"#de77ae\"], [0.3, \"#f1b6da\"], [0.4, \"#fde0ef\"], [0.5, \"#f7f7f7\"], [0.6, \"#e6f5d0\"], [0.7, \"#b8e186\"], [0.8, \"#7fbc41\"], [0.9, \"#4d9221\"], [1, \"#276419\"]], \"sequential\": [[0.0, \"#0d0887\"], [0.1111111111111111, \"#46039f\"], [0.2222222222222222, \"#7201a8\"], [0.3333333333333333, \"#9c179e\"], [0.4444444444444444, \"#bd3786\"], [0.5555555555555556, \"#d8576b\"], [0.6666666666666666, \"#ed7953\"], [0.7777777777777778, \"#fb9f3a\"], [0.8888888888888888, \"#fdca26\"], [1.0, \"#f0f921\"]], \"sequentialminus\": [[0.0, \"#0d0887\"], [0.1111111111111111, \"#46039f\"], [0.2222222222222222, \"#7201a8\"], [0.3333333333333333, \"#9c179e\"], [0.4444444444444444, \"#bd3786\"], [0.5555555555555556, \"#d8576b\"], [0.6666666666666666, \"#ed7953\"], [0.7777777777777778, \"#fb9f3a\"], [0.8888888888888888, \"#fdca26\"], [1.0, \"#f0f921\"]]}, \"colorway\": [\"#636efa\", \"#EF553B\", \"#00cc96\", \"#ab63fa\", \"#FFA15A\", \"#19d3f3\", \"#FF6692\", \"#B6E880\", \"#FF97FF\", \"#FECB52\"], \"font\": {\"color\": \"#2a3f5f\"}, \"geo\": {\"bgcolor\": \"white\", \"lakecolor\": \"white\", \"landcolor\": \"#E5ECF6\", \"showlakes\": true, \"showland\": true, \"subunitcolor\": \"white\"}, \"hoverlabel\": {\"align\": \"left\"}, \"hovermode\": \"closest\", \"mapbox\": {\"style\": \"light\"}, \"paper_bgcolor\": \"white\", \"plot_bgcolor\": \"#E5ECF6\", \"polar\": {\"angularaxis\": {\"gridcolor\": \"white\", \"linecolor\": \"white\", \"ticks\": \"\"}, \"bgcolor\": \"#E5ECF6\", \"radialaxis\": {\"gridcolor\": \"white\", \"linecolor\": \"white\", \"ticks\": \"\"}}, \"scene\": {\"xaxis\": {\"backgroundcolor\": \"#E5ECF6\", \"gridcolor\": \"white\", \"gridwidth\": 2, \"linecolor\": \"white\", \"showbackground\": true, \"ticks\": \"\", \"zerolinecolor\": \"white\"}, \"yaxis\": {\"backgroundcolor\": \"#E5ECF6\", \"gridcolor\": \"white\", \"gridwidth\": 2, \"linecolor\": \"white\", \"showbackground\": true, \"ticks\": \"\", \"zerolinecolor\": \"white\"}, \"zaxis\": {\"backgroundcolor\": \"#E5ECF6\", \"gridcolor\": \"white\", \"gridwidth\": 2, \"linecolor\": \"white\", \"showbackground\": true, \"ticks\": \"\", \"zerolinecolor\": \"white\"}}, \"shapedefaults\": {\"line\": {\"color\": \"#2a3f5f\"}}, \"ternary\": {\"aaxis\": {\"gridcolor\": \"white\", \"linecolor\": \"white\", \"ticks\": \"\"}, \"baxis\": {\"gridcolor\": \"white\", \"linecolor\": \"white\", \"ticks\": \"\"}, \"bgcolor\": \"#E5ECF6\", \"caxis\": {\"gridcolor\": \"white\", \"linecolor\": \"white\", \"ticks\": \"\"}}, \"title\": {\"x\": 0.05}, \"xaxis\": {\"automargin\": true, \"gridcolor\": \"white\", \"linecolor\": \"white\", \"ticks\": \"\", \"title\": {\"standoff\": 15}, \"zerolinecolor\": \"white\", \"zerolinewidth\": 2}, \"yaxis\": {\"automargin\": true, \"gridcolor\": \"white\", \"linecolor\": \"white\", \"ticks\": \"\", \"title\": {\"standoff\": 15}, \"zerolinecolor\": \"white\", \"zerolinewidth\": 2}}}, \"title\": {\"text\": \"England & Wales average house price and sales volume from 1995\"}, \"xaxis\": {\"anchor\": \"y\", \"domain\": [0.0, 0.94], \"showgrid\": false}, \"yaxis\": {\"anchor\": \"x\", \"domain\": [0.0, 1.0], \"showgrid\": false, \"title\": {\"text\": \"Sales Volume (Bar Chart)\"}}, \"yaxis2\": {\"anchor\": \"x\", \"overlaying\": \"y\", \"side\": \"right\", \"title\": {\"text\": \"Avg. Price (\\u00a3)\"}}},                        {\"responsive\": true}                    ).then(function(){\n",
       "                            \n",
       "var gd = document.getElementById('893df668-ce1c-4c78-8ee1-48f7cd88c1ab');\n",
       "var x = new MutationObserver(function (mutations, observer) {{\n",
       "        var display = window.getComputedStyle(gd).display;\n",
       "        if (!display || display === 'none') {{\n",
       "            console.log([gd, 'removed!']);\n",
       "            Plotly.purge(gd);\n",
       "            observer.disconnect();\n",
       "        }}\n",
       "}});\n",
       "\n",
       "// Listen for the removal of the full notebook cells\n",
       "var notebookContainer = gd.closest('#notebook-container');\n",
       "if (notebookContainer) {{\n",
       "    x.observe(notebookContainer, {childList: true});\n",
       "}}\n",
       "\n",
       "// Listen for the clearing of the current output cell\n",
       "var outputEl = gd.closest('.output');\n",
       "if (outputEl) {{\n",
       "    x.observe(outputEl, {childList: true});\n",
       "}}\n",
       "\n",
       "                        })                };                });            </script>        </div>"
      ]
     },
     "metadata": {},
     "output_type": "display_data"
    }
   ],
   "source": [
    "fig = make_subplots(specs=[[{\"secondary_y\": True}]])\n",
    "\n",
    "fig.add_trace(px.line(P, x=\"Year-Month\", y=\"Price\", color_discrete_sequence=['cornflowerblue']).data[0], secondary_y=True)\n",
    "fig.add_trace(px.bar(P, x=\"Year-Month\", y=\"Volume\", color_discrete_sequence=['violet']).data[0], secondary_y=False)\n",
    "\n",
    "fig.update_xaxes(showgrid=False)\n",
    "fig.update_yaxes(title_text=\"Avg. Price (£)\", secondary_y=True)\n",
    "fig.update_yaxes(title_text=\"Sales Volume (Bar Chart)\", secondary_y=False, showgrid=False)\n",
    "fig.update_layout(title='England & Wales average house price and sales volume from 1995')\n",
    "                  \n",
    "fig.show()"
   ]
  },
  {
   "cell_type": "markdown",
   "metadata": {},
   "source": [
    "#### Getting and saving sector_price by year (for Chropleth)"
   ]
  },
  {
   "cell_type": "code",
   "execution_count": 10,
   "metadata": {},
   "outputs": [],
   "source": [
    "def get_sector_df(house_price_df):\n",
    "\n",
    "    P = house_price_df[['Year', 'Sector', 'Price']].groupby(by=['Year', 'Sector']).mean()\n",
    "    V = house_price_df[['Year', 'Sector', 'Price']].groupby(by=['Year', 'Sector']).count()\n",
    "    V.rename(columns={'Price': 'Volume'}, inplace=True)\n",
    "    \n",
    "    P = pd.merge(P, V, how='inner', on=['Year','Sector'])\n",
    "    \n",
    "    P.reset_index(inplace=True)\n",
    "    P = P.loc[P['Sector'] != '']\n",
    "        \n",
    "    # Get Region\n",
    "    P['Region'] = P['Sector'].apply(lambda s: lookup_region(postcode_region, s))\n",
    "    \n",
    "    P['Price'] = P['Price'].apply(lambda s: int(np.round(s/1000)*1000))\n",
    "    P['Display Price'] = P['Price'].apply(lambda x: f\"{int(np.round(x/1000)) :,}K\")\n",
    "    P['text']  = P['Sector'] + '<br>' + 'Avg. Price: ' + P['Display Price'] + '<br>' + 'Sales Volume: ' + P['Volume'].astype(str)\n",
    "    P.drop(columns=['Display Price'], inplace=True)\n",
    "    \n",
    "    return P"
   ]
  },
  {
   "cell_type": "code",
   "execution_count": 44,
   "metadata": {},
   "outputs": [
    {
     "name": "stdout",
     "output_type": "stream",
     "text": [
      "CPU times: user 16.8 s, sys: 3.29 s, total: 20.1 s\n",
      "Wall time: 20.1 s\n"
     ]
    },
    {
     "data": {
      "text/html": [
       "<div>\n",
       "<style scoped>\n",
       "    .dataframe tbody tr th:only-of-type {\n",
       "        vertical-align: middle;\n",
       "    }\n",
       "\n",
       "    .dataframe tbody tr th {\n",
       "        vertical-align: top;\n",
       "    }\n",
       "\n",
       "    .dataframe thead th {\n",
       "        text-align: right;\n",
       "    }\n",
       "</style>\n",
       "<table border=\"1\" class=\"dataframe\">\n",
       "  <thead>\n",
       "    <tr style=\"text-align: right;\">\n",
       "      <th></th>\n",
       "      <th>Year</th>\n",
       "      <th>Sector</th>\n",
       "      <th>Price</th>\n",
       "      <th>Volume</th>\n",
       "      <th>Region</th>\n",
       "      <th>text</th>\n",
       "    </tr>\n",
       "  </thead>\n",
       "  <tbody>\n",
       "    <tr>\n",
       "      <th>0</th>\n",
       "      <td>1995</td>\n",
       "      <td>AL1 1</td>\n",
       "      <td>90000</td>\n",
       "      <td>164</td>\n",
       "      <td>South East</td>\n",
       "      <td>AL1 1&lt;br&gt;Avg. Price: 90K&lt;br&gt;Sales Volume: 164</td>\n",
       "    </tr>\n",
       "    <tr>\n",
       "      <th>1</th>\n",
       "      <td>1995</td>\n",
       "      <td>AL1 2</td>\n",
       "      <td>81000</td>\n",
       "      <td>70</td>\n",
       "      <td>South East</td>\n",
       "      <td>AL1 2&lt;br&gt;Avg. Price: 81K&lt;br&gt;Sales Volume: 70</td>\n",
       "    </tr>\n",
       "    <tr>\n",
       "      <th>2</th>\n",
       "      <td>1995</td>\n",
       "      <td>AL1 3</td>\n",
       "      <td>89000</td>\n",
       "      <td>94</td>\n",
       "      <td>South East</td>\n",
       "      <td>AL1 3&lt;br&gt;Avg. Price: 89K&lt;br&gt;Sales Volume: 94</td>\n",
       "    </tr>\n",
       "    <tr>\n",
       "      <th>3</th>\n",
       "      <td>1995</td>\n",
       "      <td>AL1 4</td>\n",
       "      <td>128000</td>\n",
       "      <td>180</td>\n",
       "      <td>South East</td>\n",
       "      <td>AL1 4&lt;br&gt;Avg. Price: 128K&lt;br&gt;Sales Volume: 180</td>\n",
       "    </tr>\n",
       "    <tr>\n",
       "      <th>4</th>\n",
       "      <td>1995</td>\n",
       "      <td>AL1 5</td>\n",
       "      <td>73000</td>\n",
       "      <td>173</td>\n",
       "      <td>South East</td>\n",
       "      <td>AL1 5&lt;br&gt;Avg. Price: 73K&lt;br&gt;Sales Volume: 173</td>\n",
       "    </tr>\n",
       "  </tbody>\n",
       "</table>\n",
       "</div>"
      ],
      "text/plain": [
       "   Year Sector   Price  Volume      Region  \\\n",
       "0  1995  AL1 1   90000     164  South East   \n",
       "1  1995  AL1 2   81000      70  South East   \n",
       "2  1995  AL1 3   89000      94  South East   \n",
       "3  1995  AL1 4  128000     180  South East   \n",
       "4  1995  AL1 5   73000     173  South East   \n",
       "\n",
       "                                             text  \n",
       "0   AL1 1<br>Avg. Price: 90K<br>Sales Volume: 164  \n",
       "1    AL1 2<br>Avg. Price: 81K<br>Sales Volume: 70  \n",
       "2    AL1 3<br>Avg. Price: 89K<br>Sales Volume: 94  \n",
       "3  AL1 4<br>Avg. Price: 128K<br>Sales Volume: 180  \n",
       "4   AL1 5<br>Avg. Price: 73K<br>Sales Volume: 173  "
      ]
     },
     "execution_count": 44,
     "metadata": {},
     "output_type": "execute_result"
    }
   ],
   "source": [
    "%%time\n",
    "sector_df = get_sector_df(house_price_df) \n",
    "sector_df.head()"
   ]
  },
  {
   "cell_type": "code",
   "execution_count": 45,
   "metadata": {},
   "outputs": [
    {
     "name": "stdout",
     "output_type": "stream",
     "text": [
      "CPU times: user 700 ms, sys: 27.8 ms, total: 728 ms\n",
      "Wall time: 727 ms\n"
     ]
    }
   ],
   "source": [
    "%%time\n",
    "\n",
    "sector_by_year = dict()\n",
    "for year in cfg['Years']:    \n",
    "    sector_by_year[year] = sector_df[sector_df.Year==year].reset_index(drop=True)  \n",
    "    \n",
    "    if cfg['to save']:\n",
    "        fname = os.path.join(cfg['appData dir'], f'sector_price_{year}.csv')\n",
    "        sector_by_year[year].to_csv(fname, index=False)            "
   ]
  },
  {
   "cell_type": "markdown",
   "metadata": {},
   "source": [
    "#### Getting and saving sector_percentage_delta by year (for Chropleth)"
   ]
  },
  {
   "cell_type": "code",
   "execution_count": 46,
   "metadata": {},
   "outputs": [
    {
     "name": "stdout",
     "output_type": "stream",
     "text": [
      "CPU times: user 3.35 s, sys: 43.1 ms, total: 3.39 s\n",
      "Wall time: 3.39 s\n"
     ]
    }
   ],
   "source": [
    "%%time\n",
    "\n",
    "# Building sector_price[year] {sector: price} dict for quick lookup\n",
    "sector_price   = dict()\n",
    "for year in cfg['Years']:\n",
    "    sector_price[year] = dict()\n",
    "    for sector, region, price in sector_by_year[year][['Sector', 'Region', 'Price']].values:             \n",
    "        sector_price[year][sector] = [region, price]\n",
    "\n",
    "#-------------------------------#\n",
    "sector_delta = dict()\n",
    "\n",
    "sector_delta[1995] = dict()\n",
    "for sector, [region, price] in sector_price[1995].items():\n",
    "    sector_delta[1995][sector] = [0, region]\n",
    "    \n",
    "for y1, y2 in zip(cfg['Years'][1:], cfg['Years'][:-1]):    \n",
    "    sector_delta[y1] = dict()\n",
    "    for sector, [region, price] in sector_price[y1].items():        \n",
    "        if sector in sector_price[y2]:\n",
    "            last_year_price = sector_price[y2][sector][1]\n",
    "            delta = int(np.round(100 * (price - last_year_price) / last_year_price))\n",
    "            sector_delta[y1][sector] = [delta, region]\n",
    "    \n",
    "#----------------------------------------------#\n",
    "for year in cfg['Years']:\n",
    "    tmp = pd.DataFrame.from_dict(sector_delta[year], orient='index', columns=['Percentage Change', 'Region'])\n",
    "    tmp.reset_index(inplace=True)\n",
    "    tmp.rename(columns={'index':'Sector'}, inplace=True)\n",
    "    tmp['text'] = tmp['Sector'] + '<br>' + 'Price Change: ' + tmp['Percentage Change'].apply(lambda s: str(s)) + '%'\n",
    "    \n",
    "    if cfg['to save']:\n",
    "        fname = os.path.join(cfg['appData dir'], f'sector_percentage_delta_{year}.csv')\n",
    "        tmp.to_csv(fname, index=False)"
   ]
  },
  {
   "cell_type": "markdown",
   "metadata": {},
   "source": [
    "#### Get Price and Volume by Year and Property Type df (For time-series)"
   ]
  },
  {
   "cell_type": "code",
   "execution_count": 47,
   "metadata": {},
   "outputs": [
    {
     "name": "stdout",
     "output_type": "stream",
     "text": [
      "CPU times: user 13.9 s, sys: 1.75 s, total: 15.7 s\n",
      "Wall time: 15.7 s\n"
     ]
    }
   ],
   "source": [
    "%%time\n",
    "\n",
    "def get_price_volume_df(house_price_df):\n",
    "    P = house_price_df[['Year', 'Sector', 'Property Type', 'Price']].groupby(by=['Year', 'Sector', 'Property Type']).count()\n",
    "    P.rename(columns={'Price': 'Count'}, inplace=True)\n",
    "    P.reset_index(inplace=True)\n",
    "    \n",
    "    Q = house_price_df[['Year', 'Sector', 'Property Type', 'Price']].groupby(by=['Year', 'Sector', 'Property Type']).mean()\n",
    "    Q.reset_index(inplace=True)\n",
    "    \n",
    "    P['Average Price'] = Q.Price.values\n",
    "    \n",
    "    P = P.loc[P['Sector'] != '']\n",
    "        \n",
    "    return P\n",
    "    \n",
    "#------------------------------------#\n",
    "price_volume_df = get_price_volume_df(house_price_df)\n",
    "if cfg['to save']:\n",
    "    price_volume_df.to_csv(os.path.join(cfg['appData dir'], 'price_volume.csv'), index=False)  "
   ]
  },
  {
   "cell_type": "code",
   "execution_count": 48,
   "metadata": {},
   "outputs": [
    {
     "data": {
      "text/html": [
       "<div>\n",
       "<style scoped>\n",
       "    .dataframe tbody tr th:only-of-type {\n",
       "        vertical-align: middle;\n",
       "    }\n",
       "\n",
       "    .dataframe tbody tr th {\n",
       "        vertical-align: top;\n",
       "    }\n",
       "\n",
       "    .dataframe thead th {\n",
       "        text-align: right;\n",
       "    }\n",
       "</style>\n",
       "<table border=\"1\" class=\"dataframe\">\n",
       "  <thead>\n",
       "    <tr style=\"text-align: right;\">\n",
       "      <th></th>\n",
       "      <th>Year</th>\n",
       "      <th>Sector</th>\n",
       "      <th>Property Type</th>\n",
       "      <th>Count</th>\n",
       "      <th>Average Price</th>\n",
       "    </tr>\n",
       "  </thead>\n",
       "  <tbody>\n",
       "    <tr>\n",
       "      <th>0</th>\n",
       "      <td>1995</td>\n",
       "      <td>AL1 1</td>\n",
       "      <td>D</td>\n",
       "      <td>17</td>\n",
       "      <td>165320.588235</td>\n",
       "    </tr>\n",
       "    <tr>\n",
       "      <th>1</th>\n",
       "      <td>1995</td>\n",
       "      <td>AL1 1</td>\n",
       "      <td>F</td>\n",
       "      <td>55</td>\n",
       "      <td>64719.000000</td>\n",
       "    </tr>\n",
       "    <tr>\n",
       "      <th>2</th>\n",
       "      <td>1995</td>\n",
       "      <td>AL1 1</td>\n",
       "      <td>S</td>\n",
       "      <td>19</td>\n",
       "      <td>91328.947368</td>\n",
       "    </tr>\n",
       "    <tr>\n",
       "      <th>3</th>\n",
       "      <td>1995</td>\n",
       "      <td>AL1 1</td>\n",
       "      <td>T</td>\n",
       "      <td>73</td>\n",
       "      <td>91739.315068</td>\n",
       "    </tr>\n",
       "    <tr>\n",
       "      <th>4</th>\n",
       "      <td>1995</td>\n",
       "      <td>AL1 2</td>\n",
       "      <td>D</td>\n",
       "      <td>4</td>\n",
       "      <td>119375.000000</td>\n",
       "    </tr>\n",
       "  </tbody>\n",
       "</table>\n",
       "</div>"
      ],
      "text/plain": [
       "   Year Sector Property Type  Count  Average Price\n",
       "0  1995  AL1 1             D     17  165320.588235\n",
       "1  1995  AL1 1             F     55   64719.000000\n",
       "2  1995  AL1 1             S     19   91328.947368\n",
       "3  1995  AL1 1             T     73   91739.315068\n",
       "4  1995  AL1 2             D      4  119375.000000"
      ]
     },
     "execution_count": 48,
     "metadata": {},
     "output_type": "execute_result"
    }
   ],
   "source": [
    "price_volume_df.head()"
   ]
  },
  {
   "cell_type": "markdown",
   "metadata": {},
   "source": [
    "#### Regional Price data by year"
   ]
  },
  {
   "cell_type": "code",
   "execution_count": 16,
   "metadata": {},
   "outputs": [
    {
     "name": "stdout",
     "output_type": "stream",
     "text": [
      "Regions: ['North England', 'South East', 'Greater London', 'Midlands', 'South West', 'Wales', 'Scotland']\n"
     ]
    }
   ],
   "source": [
    "regions = [r for r in house_price_df.Region.unique() if isinstance(r, str)]\n",
    "print(f\"Regions: {regions}\")\n",
    "\n",
    "def get_regional_price_data(sector_df, regions):\n",
    "    def inner(region):\n",
    "        if region == 'South East': #Include Greater London in South East graph\n",
    "            mask = (sector_df.Region==region) | (sector_df.Region=='Greater London')\n",
    "            df = sector_df[mask]\n",
    "        else:\n",
    "            df = sector_df[sector_df.Region==region]\n",
    "        return df\n",
    "    \n",
    "    ###########################################\n",
    "    regional_price_data = dict()\n",
    "    \n",
    "    for r in regions:\n",
    "        regional_price_data[r] = inner(r)\n",
    "    \n",
    "    return regional_price_data"
   ]
  },
  {
   "cell_type": "code",
   "execution_count": 140,
   "metadata": {},
   "outputs": [],
   "source": [
    "# Breaking price/volume data up by region:\n",
    "regional_price_data = dict()\n",
    "for year in cfg['Years']:\n",
    "    regional_price_data[year] = get_regional_price_data(sector_by_year[year], regions)"
   ]
  },
  {
   "cell_type": "markdown",
   "metadata": {},
   "source": [
    "### Geo Data"
   ]
  },
  {
   "cell_type": "markdown",
   "metadata": {},
   "source": [
    "#### Simplify the shapely file"
   ]
  },
  {
   "cell_type": "code",
   "execution_count": 22,
   "metadata": {},
   "outputs": [
    {
     "name": "stdout",
     "output_type": "stream",
     "text": [
      "Average discrepancy: 1.11%\n",
      "CPU times: user 7.8 s, sys: 141 ms, total: 7.94 s\n",
      "Wall time: 7.85 s\n"
     ]
    }
   ],
   "source": [
    "%%time\n",
    "#ref: https://shapely.readthedocs.io/en/stable/manual.html#object.simplify\n",
    "\n",
    "# Let's enable speedups to make queries faster\n",
    "shapely.speedups.enable()\n",
    "\n",
    "infile  = os.path.join(cfg['distribution dir'], 'Sectors.shp')\n",
    "outfile = os.path.join(cfg['geodata dir'], 'ukpostcode_geojson.json')\n",
    "\n",
    "shape_gdf = gpd.read_file(infile)\n",
    "\n",
    "polygons, discrepancies = [], []\n",
    "for i, x in enumerate(shape_gdf.geometry.values):\n",
    "    tolerance = cfg['tolerance']\n",
    "    \n",
    "    while True:\n",
    "        y = x.simplify(tolerance, preserve_topology=True)\n",
    "        discrepancy = 100 * np.abs(y.area - x.area)/x.area\n",
    "        if discrepancy <= cfg['max discrepancy']:\n",
    "            break\n",
    "        else:\n",
    "            tolerance /= 2\n",
    "        \n",
    "    polygons.append(y)\n",
    "    discrepancies.append(discrepancy)\n",
    "    \n",
    "    if i%1000 == 0:\n",
    "        print(f\"{i :,} records processed\")        \n",
    "        clear_output(wait=True)\n",
    "    \n",
    "print(f'Average discrepancy: {np.mean(discrepancies):.2f}%')\n",
    "simplified_shape_gdf = deepcopy(shape_gdf)\n",
    "simplified_shape_gdf['geometry'] = polygons\n",
    "\n",
    "simplified_shape_gdf.to_file(outfile, driver='GeoJSON')"
   ]
  },
  {
   "cell_type": "code",
   "execution_count": 23,
   "metadata": {},
   "outputs": [
    {
     "data": {
      "text/html": [
       "<div>\n",
       "<style scoped>\n",
       "    .dataframe tbody tr th:only-of-type {\n",
       "        vertical-align: middle;\n",
       "    }\n",
       "\n",
       "    .dataframe tbody tr th {\n",
       "        vertical-align: top;\n",
       "    }\n",
       "\n",
       "    .dataframe thead th {\n",
       "        text-align: right;\n",
       "    }\n",
       "</style>\n",
       "<table border=\"1\" class=\"dataframe\">\n",
       "  <thead>\n",
       "    <tr style=\"text-align: right;\">\n",
       "      <th></th>\n",
       "      <th>name</th>\n",
       "      <th>geometry</th>\n",
       "    </tr>\n",
       "  </thead>\n",
       "  <tbody>\n",
       "    <tr>\n",
       "      <th>0</th>\n",
       "      <td>AB10 1</td>\n",
       "      <td>POLYGON ((-2.11645 57.14656, -2.11583 57.14766, -2.11395 57.14652, -2.11165 57.14777, -2.10377 57.14751, -2.10373 57.14903, -2.09775 57.14906, -2.09803 57.15094, -2.09646 57.15123, -2.09371 57.14812, -2.09695 57.14864, -2.09555 57.14771, -2.11322 57.14217, -2.12625 57.14282, -2.12625 57.14431, -2.11645 57.14656), (-2.11693 57.14420, -2.11586 57.14427, -2.11546 57.14460, -2.11697 57.14539, -2.11693 57.14420))</td>\n",
       "    </tr>\n",
       "    <tr>\n",
       "      <th>1</th>\n",
       "      <td>AB10 6</td>\n",
       "      <td>MULTIPOLYGON (((-2.12239 57.12887, -2.13145 57.13252, -2.13938 57.12999, -2.13797 57.13170, -2.13949 57.13272, -2.12639 57.13522, -2.12999 57.13833, -2.13075 57.14128, -2.12758 57.14116, -2.12698 57.14281, -2.11128 57.14257, -2.11344 57.14020, -2.11213 57.13855, -2.11786 57.13373, -2.11734 57.13057, -2.12239 57.12887)), ((-2.11045 57.13424, -2.10832 57.13334, -2.10931 57.13035, -2.11274 57.13119, -2.11441 57.13071, -2.11453 57.12889, -2.11685 57.13053, -2.11381 57.13528, -2.11496 57.13583, -2.11248 57.13657, -2.11045 57.13424)))</td>\n",
       "    </tr>\n",
       "    <tr>\n",
       "      <th>2</th>\n",
       "      <td>AB10 7</td>\n",
       "      <td>POLYGON ((-2.12239 57.12887, -2.11734 57.13057, -2.11786 57.13373, -2.11384 57.13720, -2.11685 57.13053, -2.11453 57.12889, -2.11441 57.13071, -2.11259 57.13120, -2.10758 57.12912, -2.11786 57.12481, -2.11904 57.12277, -2.12245 57.12201, -2.12401 57.11864, -2.12836 57.11650, -2.13955 57.11597, -2.14342 57.11290, -2.15238 57.11489, -2.15094 57.11811, -2.15359 57.12111, -2.15122 57.12279, -2.13783 57.12459, -2.14130 57.12723, -2.13943 57.12997, -2.13729 57.13008, -2.13756 57.13138, -2.13145 57.13252, -2.12239 57.12887))</td>\n",
       "    </tr>\n",
       "    <tr>\n",
       "      <th>3</th>\n",
       "      <td>AB11 5</td>\n",
       "      <td>POLYGON ((-2.05528 57.14547, -2.05841 57.14103, -2.08875 57.14039, -2.09510 57.13647, -2.09732 57.13699, -2.09693 57.14273, -2.09853 57.14319, -2.09491 57.14516, -2.09779 57.14668, -2.09195 57.14968, -2.08563 57.14946, -2.08576 57.15074, -2.08315 57.15144, -2.07916 57.14868, -2.06920 57.14897, -2.06420 57.14366, -2.05528 57.14547), (-2.07494 57.14169, -2.07589 57.14199, -2.07591 57.14132, -2.07569 57.14132, -2.07494 57.14169))</td>\n",
       "    </tr>\n",
       "    <tr>\n",
       "      <th>4</th>\n",
       "      <td>AB11 6</td>\n",
       "      <td>POLYGON ((-2.09818 57.13769, -2.10157 57.13917, -2.10650 57.13626, -2.11416 57.13740, -2.11213 57.13855, -2.11349 57.13890, -2.11325 57.14099, -2.11094 57.14332, -2.09801 57.14678, -2.09491 57.14516, -2.09853 57.14319, -2.09693 57.14273, -2.09732 57.13699, -2.09520 57.13591, -2.09919 57.13627, -2.09818 57.13769))</td>\n",
       "    </tr>\n",
       "  </tbody>\n",
       "</table>\n",
       "</div>"
      ],
      "text/plain": [
       "     name  \\\n",
       "0  AB10 1   \n",
       "1  AB10 6   \n",
       "2  AB10 7   \n",
       "3  AB11 5   \n",
       "4  AB11 6   \n",
       "\n",
       "                                                                                                                                                                                                                                                                                                                                                                                                                                                                                                                                                 geometry  \n",
       "0                                                                                                                             POLYGON ((-2.11645 57.14656, -2.11583 57.14766, -2.11395 57.14652, -2.11165 57.14777, -2.10377 57.14751, -2.10373 57.14903, -2.09775 57.14906, -2.09803 57.15094, -2.09646 57.15123, -2.09371 57.14812, -2.09695 57.14864, -2.09555 57.14771, -2.11322 57.14217, -2.12625 57.14282, -2.12625 57.14431, -2.11645 57.14656), (-2.11693 57.14420, -2.11586 57.14427, -2.11546 57.14460, -2.11697 57.14539, -2.11693 57.14420))  \n",
       "1  MULTIPOLYGON (((-2.12239 57.12887, -2.13145 57.13252, -2.13938 57.12999, -2.13797 57.13170, -2.13949 57.13272, -2.12639 57.13522, -2.12999 57.13833, -2.13075 57.14128, -2.12758 57.14116, -2.12698 57.14281, -2.11128 57.14257, -2.11344 57.14020, -2.11213 57.13855, -2.11786 57.13373, -2.11734 57.13057, -2.12239 57.12887)), ((-2.11045 57.13424, -2.10832 57.13334, -2.10931 57.13035, -2.11274 57.13119, -2.11441 57.13071, -2.11453 57.12889, -2.11685 57.13053, -2.11381 57.13528, -2.11496 57.13583, -2.11248 57.13657, -2.11045 57.13424)))  \n",
       "2             POLYGON ((-2.12239 57.12887, -2.11734 57.13057, -2.11786 57.13373, -2.11384 57.13720, -2.11685 57.13053, -2.11453 57.12889, -2.11441 57.13071, -2.11259 57.13120, -2.10758 57.12912, -2.11786 57.12481, -2.11904 57.12277, -2.12245 57.12201, -2.12401 57.11864, -2.12836 57.11650, -2.13955 57.11597, -2.14342 57.11290, -2.15238 57.11489, -2.15094 57.11811, -2.15359 57.12111, -2.15122 57.12279, -2.13783 57.12459, -2.14130 57.12723, -2.13943 57.12997, -2.13729 57.13008, -2.13756 57.13138, -2.13145 57.13252, -2.12239 57.12887))  \n",
       "3                                                                                                          POLYGON ((-2.05528 57.14547, -2.05841 57.14103, -2.08875 57.14039, -2.09510 57.13647, -2.09732 57.13699, -2.09693 57.14273, -2.09853 57.14319, -2.09491 57.14516, -2.09779 57.14668, -2.09195 57.14968, -2.08563 57.14946, -2.08576 57.15074, -2.08315 57.15144, -2.07916 57.14868, -2.06920 57.14897, -2.06420 57.14366, -2.05528 57.14547), (-2.07494 57.14169, -2.07589 57.14199, -2.07591 57.14132, -2.07569 57.14132, -2.07494 57.14169))  \n",
       "4                                                                                                                                                                                                                              POLYGON ((-2.09818 57.13769, -2.10157 57.13917, -2.10650 57.13626, -2.11416 57.13740, -2.11213 57.13855, -2.11349 57.13890, -2.11325 57.14099, -2.11094 57.14332, -2.09801 57.14678, -2.09491 57.14516, -2.09853 57.14319, -2.09693 57.14273, -2.09732 57.13699, -2.09520 57.13591, -2.09919 57.13627, -2.09818 57.13769))  "
      ]
     },
     "execution_count": 23,
     "metadata": {},
     "output_type": "execute_result"
    }
   ],
   "source": [
    "simplified_shape_gdf.head()"
   ]
  },
  {
   "cell_type": "code",
   "execution_count": 138,
   "metadata": {},
   "outputs": [],
   "source": [
    "# No longer needed - the simplified geojson version is much faster to load\n",
    "# Convert Shape file to Geojson    \n",
    "# Code modified from https://github.com/akkana/scripts/blob/master/mapping/polidistmap.py\n",
    "\n",
    "# infile  = os.path.join(cfg['distribution dir'], 'Sectors.shp')\n",
    "# outfile = os.path.join(cfg['geodata dir'], 'ukpostcode_geojson.json')\n",
    "\n",
    "# if not os.path.isfile(outfile):  \n",
    "#     options = gdal.VectorTranslateOptions(format=\"GeoJSON\", dstSRS=\"EPSG:4326\")\n",
    "#     gdal.VectorTranslate(outfile, infile, options=options)\n",
    "#     print(\"Translated GEOJSON file\", outfile)"
   ]
  },
  {
   "cell_type": "code",
   "execution_count": 24,
   "metadata": {},
   "outputs": [],
   "source": [
    "def load_geo_data(infile):\n",
    "    with open(infile, \"r\") as read_file:    \n",
    "        geo_data = json.load(read_file)        \n",
    "    return geo_data\n",
    "\n",
    "#---------------------------------------------#\n",
    "infile = os.path.join(cfg['geodata dir'], 'ukpostcode_geojson.json')\n",
    "geo_data = load_geo_data(infile)"
   ]
  },
  {
   "cell_type": "code",
   "execution_count": 25,
   "metadata": {},
   "outputs": [],
   "source": [
    "def get_regional_geo_data(geo_data, postcode_region, regions=cfg['Regions']):\n",
    "    \n",
    "    pattern = re.compile(r\"\\d\")\n",
    "    \n",
    "    def inner(region):\n",
    "        Y = dict()\n",
    "        Y['features'] = []\n",
    "        for k in geo_data.keys():\n",
    "            if k != 'features':\n",
    "                Y[k] = geo_data[k]\n",
    "            else:            \n",
    "                for i, d in enumerate(geo_data['features']):\n",
    "                    for k, v in d.items():\n",
    "                        if k == 'properties':\n",
    "                            sector = v['name']\n",
    "                            m = pattern.search(sector)\n",
    "                            district = sector[:m.start()]\n",
    "                            \n",
    "                            if region == 'South East':\n",
    "                                if postcode_region[district] in [region, 'Greater London']:\n",
    "                                    Y['features'].append(geo_data['features'][i])\n",
    "                            else:\n",
    "                                if postcode_region[district] == region:\n",
    "                                    Y['features'].append(geo_data['features'][i])                                    \n",
    "        return Y\n",
    "        \n",
    "    ###########################################\n",
    "    regional_geo_data = dict()    \n",
    "    for r in regions:\n",
    "        regional_geo_data[r] = inner(r)\n",
    "    \n",
    "    return regional_geo_data\n",
    "    "
   ]
  },
  {
   "cell_type": "code",
   "execution_count": 26,
   "metadata": {},
   "outputs": [
    {
     "name": "stdout",
     "output_type": "stream",
     "text": [
      "CPU times: user 2.67 s, sys: 27.7 ms, total: 2.7 s\n",
      "Wall time: 2.7 s\n"
     ]
    }
   ],
   "source": [
    "%%time\n",
    "# Breaking geo_data up by region:\n",
    "regional_geo_data = get_regional_geo_data(geo_data, postcode_region)\n",
    "\n",
    "for region, value in regional_geo_data.items():\n",
    "    fname = os.path.join(cfg['assets dir'], f'geodata_{region}.json')        \n",
    "    with open(fname, \"w\") as f:    \n",
    "        json.dump(value, f)         "
   ]
  },
  {
   "cell_type": "markdown",
   "metadata": {},
   "source": [
    "#### School Data\n",
    "https://www.gov.uk/school-performance-tables"
   ]
  },
  {
   "cell_type": "code",
   "execution_count": 89,
   "metadata": {},
   "outputs": [],
   "source": [
    "regnumber = re.compile(r'\\d+')\n",
    "def num_2_str(x):\n",
    "    if x is not None and regnumber.match(x):\n",
    "        return float(x)\n",
    "    else:\n",
    "        return 0.0    "
   ]
  },
  {
   "cell_type": "code",
   "execution_count": 90,
   "metadata": {},
   "outputs": [
    {
     "name": "stdout",
     "output_type": "stream",
     "text": [
      "gcse_df: (4522, 7)\n",
      "alevel_df: (2624, 7)\n"
     ]
    }
   ],
   "source": [
    "#Import GCSE and ALevel data, filter and basic cleaning\n",
    "\n",
    "fields = ['URN', 'SCHNAME', 'PCODE', 'EGENDER', 'AGERANGE', 'ATT8SCR']\n",
    "gcse_df = pd.read_csv(os.path.join(cfg['school dir'], 'england_ks4final.csv'), usecols=fields, dtype={'URN':str})\n",
    "gcse_df.dropna(inplace=True)\n",
    "gcse_df['ATT8SCR'] = gcse_df['ATT8SCR'].apply(lambda x: num_2_str(x))\n",
    "gcse_df = gcse_df[gcse_df['ATT8SCR']>0]\n",
    "gcse_df.sort_values(by=['ATT8SCR'], ascending=False, ignore_index=True, inplace=True)\n",
    "gcse_df['GCSE rank'] = gcse_df.index+1\n",
    "gcse_df.rename(columns={'EGENDER': 'GENDER'}, inplace=True)\n",
    "\n",
    "print(f\"gcse_df: {gcse_df.shape}\")\n",
    "\n",
    "fields = ['URN', 'SCHNAME', 'PCODE', 'GEND1618', 'AGERANGE', 'TALLPPE_ALEV_1618']\n",
    "alevel_df = pd.read_csv(os.path.join(cfg['school dir'], 'england_ks5final.csv'), usecols=fields, dtype={'URN':str})\n",
    "alevel_df.dropna(inplace=True)\n",
    "alevel_df['TALLPPE_ALEV_1618'] = alevel_df['TALLPPE_ALEV_1618'].apply(lambda x: num_2_str(x))\n",
    "alevel_df = alevel_df[alevel_df['TALLPPE_ALEV_1618']>0]\n",
    "alevel_df.sort_values(by=['TALLPPE_ALEV_1618'], ascending=False, ignore_index=True, inplace=True)\n",
    "alevel_df['A-Level rank'] = alevel_df.index+1\n",
    "alevel_df.rename(columns={'GEND1618': 'GENDER'}, inplace=True)\n",
    "\n",
    "print(f\"alevel_df: {alevel_df.shape}\")"
   ]
  },
  {
   "cell_type": "code",
   "execution_count": 91,
   "metadata": {},
   "outputs": [],
   "source": [
    "def merge_df(df_x, df_y, key):    \n",
    "    col_x = df_x.columns\n",
    "    col_y = df_y.columns\n",
    "    cols = set(col_x).intersection(set(col_y))\n",
    "    cols.discard(key)\n",
    "    \n",
    "    df_z = df_x.merge(df_y, how='outer', on=key)\n",
    "    \n",
    "    for col in cols:        \n",
    "        tmp = []\n",
    "        C = [f'{col}_x', f'{col}_y']\n",
    "        for a, b in df_z[C].values:            \n",
    "            if isinstance(a, str):\n",
    "                tmp.append(a)\n",
    "            else:\n",
    "                tmp.append(b)\n",
    "        df_z[col] = tmp\n",
    "        df_z.drop(columns=[*C], inplace=True)\n",
    "                    \n",
    "    return df_z"
   ]
  },
  {
   "cell_type": "code",
   "execution_count": 92,
   "metadata": {},
   "outputs": [],
   "source": [
    "# Merge GCSE and ALevel data into school_df\n",
    "school_df = merge_df(gcse_df, alevel_df, 'URN')\n",
    "school_df['GENDER'] = school_df['GENDER'].apply(lambda s: s.capitalize())"
   ]
  },
  {
   "cell_type": "code",
   "execution_count": 93,
   "metadata": {},
   "outputs": [],
   "source": [
    "# Get best of GCSE and Alevel Rank:\n",
    "tmp = []\n",
    "for gcse_rank, alevel_rank in school_df[['GCSE rank', 'A-Level rank']].values:\n",
    "    tmp.append(int(np.nanmin([gcse_rank, alevel_rank])))\n",
    "    \n",
    "school_df['Best Rank'] = tmp"
   ]
  },
  {
   "cell_type": "code",
   "execution_count": 94,
   "metadata": {},
   "outputs": [],
   "source": [
    "# Merge school status into school_df\n",
    "school_info_df = pd.read_csv(os.path.join(cfg['school dir'], 'england_school_information.csv'), \n",
    "                             dtype={'URN':str})\n",
    "school_df = school_df.merge(school_info_df[['URN', 'MINORGROUP']], how='left', on='URN')\n",
    "school_df.rename(columns={'MINORGROUP':'Status'}, inplace=True)"
   ]
  },
  {
   "cell_type": "code",
   "execution_count": 95,
   "metadata": {},
   "outputs": [],
   "source": [
    "# Merge lat, long into school_df\n",
    "fields = ['URN', 'Easting', 'Northing']\n",
    "school_loc_df = pd.read_csv(os.path.join(cfg['geodata dir'], 'EduBase Extract - 2016-0005414.csv'),\n",
    "                            usecols=fields, encoding = \"ISO-8859-1\", dtype={'URN':str})\n",
    "\n",
    "school_df = school_df.merge(school_loc_df[['URN', 'Easting', 'Northing']], how='left', on='URN')\n",
    "school_df = school_df[pd.notna(school_df.Easting) | pd.notna(school_df.Northing)]\n",
    "\n",
    "long, lat = convert_lonlat(school_df.Easting.values, school_df.Northing.values)\n",
    "school_df['Latitude'] = lat\n",
    "school_df['Longitude'] = long\n",
    "school_df.drop(columns=['Easting', 'Northing'], inplace=True)"
   ]
  },
  {
   "cell_type": "code",
   "execution_count": 96,
   "metadata": {},
   "outputs": [],
   "source": [
    "# Get Hover label text\n",
    "tmp = []\n",
    "cols = ['SCHNAME', 'AGERANGE', 'GENDER', 'Status', \n",
    "        'ATT8SCR', 'GCSE rank', 'TALLPPE_ALEV_1618', 'A-Level rank']\n",
    "\n",
    "for row in school_df[cols].values:\n",
    "    text = row[0] + '<br>' + row[1] + ' ' + row[2] + ' ' +  row[3] + ' '\n",
    "    if ~np.isnan(row[4]):\n",
    "        text += '<br>' + 'GCSE: A8S ' + str(row[4]) + ', #' + f\"{int(row[5]) :,}\"\n",
    "    if ~np.isnan(row[6]):\n",
    "        text += '<br>' + 'A-level: APS ' + str(row[6]) + ', #' + f\"{int(row[7]) :,}\"\n",
    "        \n",
    "    tmp.append(text)\n",
    "    \n",
    "school_df['Info'] = tmp\n",
    "\n",
    "cols.remove('ATT8SCR')\n",
    "cols.remove('TALLPPE_ALEV_1618')\n",
    "school_df.drop(columns=cols, inplace=True)"
   ]
  },
  {
   "cell_type": "code",
   "execution_count": 97,
   "metadata": {},
   "outputs": [
    {
     "data": {
      "text/html": [
       "<div>\n",
       "<style scoped>\n",
       "    .dataframe tbody tr th:only-of-type {\n",
       "        vertical-align: middle;\n",
       "    }\n",
       "\n",
       "    .dataframe tbody tr th {\n",
       "        vertical-align: top;\n",
       "    }\n",
       "\n",
       "    .dataframe thead th {\n",
       "        text-align: right;\n",
       "    }\n",
       "</style>\n",
       "<table border=\"1\" class=\"dataframe\">\n",
       "  <thead>\n",
       "    <tr style=\"text-align: right;\">\n",
       "      <th></th>\n",
       "      <th>URN</th>\n",
       "      <th>ATT8SCR</th>\n",
       "      <th>TALLPPE_ALEV_1618</th>\n",
       "      <th>PCODE</th>\n",
       "      <th>Best Rank</th>\n",
       "      <th>Latitude</th>\n",
       "      <th>Longitude</th>\n",
       "      <th>Info</th>\n",
       "    </tr>\n",
       "  </thead>\n",
       "  <tbody>\n",
       "    <tr>\n",
       "      <th>0</th>\n",
       "      <td>138051</td>\n",
       "      <td>85.2</td>\n",
       "      <td>49.25</td>\n",
       "      <td>NW11 7BN</td>\n",
       "      <td>1</td>\n",
       "      <td>51.581087</td>\n",
       "      <td>-0.189161</td>\n",
       "      <td>The Henrietta Barnett School&lt;br&gt;11-18 Girls Academy &lt;br&gt;GCSE: A8S 85.2, #1&lt;br&gt;A-level: APS 49.25, #30</td>\n",
       "    </tr>\n",
       "    <tr>\n",
       "      <th>1</th>\n",
       "      <td>136615</td>\n",
       "      <td>85.1</td>\n",
       "      <td>48.99</td>\n",
       "      <td>KT2 5PL</td>\n",
       "      <td>2</td>\n",
       "      <td>51.425579</td>\n",
       "      <td>-0.302869</td>\n",
       "      <td>The Tiffin Girls' School&lt;br&gt;11-18 Girls Academy &lt;br&gt;GCSE: A8S 85.1, #2&lt;br&gt;A-level: APS 48.99, #35</td>\n",
       "    </tr>\n",
       "  </tbody>\n",
       "</table>\n",
       "</div>"
      ],
      "text/plain": [
       "      URN  ATT8SCR  TALLPPE_ALEV_1618     PCODE  Best Rank   Latitude  \\\n",
       "0  138051     85.2              49.25  NW11 7BN          1  51.581087   \n",
       "1  136615     85.1              48.99   KT2 5PL          2  51.425579   \n",
       "\n",
       "   Longitude  \\\n",
       "0  -0.189161   \n",
       "1  -0.302869   \n",
       "\n",
       "                                                                                                    Info  \n",
       "0  The Henrietta Barnett School<br>11-18 Girls Academy <br>GCSE: A8S 85.2, #1<br>A-level: APS 49.25, #30  \n",
       "1      The Tiffin Girls' School<br>11-18 Girls Academy <br>GCSE: A8S 85.1, #2<br>A-level: APS 48.99, #35  "
      ]
     },
     "execution_count": 97,
     "metadata": {},
     "output_type": "execute_result"
    }
   ],
   "source": [
    "school_df.head(2)"
   ]
  },
  {
   "cell_type": "code",
   "execution_count": 98,
   "metadata": {},
   "outputs": [
    {
     "name": "stdout",
     "output_type": "stream",
     "text": [
      "(784, 9)\n"
     ]
    }
   ],
   "source": [
    "for n in [500]:\n",
    "    gcse_df = school_df.sort_values(by=['ATT8SCR'], ascending=False, ignore_index=True)[:n]\n",
    "    alevel_df = school_df.sort_values(by=['TALLPPE_ALEV_1618'], ascending=False, ignore_index=True)[:n]\n",
    "    \n",
    "    school_topN = pd.concat([gcse_df, alevel_df])\n",
    "    school_topN.drop_duplicates(subset=['URN'], inplace=True)\n",
    "    school_topN['Region'] = school_topN['PCODE'].apply(lambda x: lookup_region(postcode_region, x))\n",
    "    \n",
    "    print(school_topN.shape)\n",
    "    \n",
    "    school_topN.to_csv(os.path.join(cfg['appData dir'], f'schools_top_{n}.csv'), index=False)"
   ]
  },
  {
   "cell_type": "code",
   "execution_count": 99,
   "metadata": {},
   "outputs": [],
   "source": [
    "Regions = ['South East', 'North England', 'Midlands', 'South West', 'Greater London', 'Wales']\n",
    "\n",
    "for region in Regions:\n",
    "    if region != 'South East':\n",
    "        mask = school_topN.Region==region        \n",
    "    else:\n",
    "        mask = (school_topN.Region=='South East') | (school_topN.Region=='Greater London')    \n",
    "        \n",
    "    school_topN[mask].to_csv(os.path.join(cfg['appData dir'], f'schools_{region}.csv'), index=False)    \n",
    "    "
   ]
  },
  {
   "cell_type": "code",
   "execution_count": 100,
   "metadata": {},
   "outputs": [],
   "source": [
    "# print(f'Data Preparation completed in {(time.time()-t0)/60 :.1f} minutes')"
   ]
  },
  {
   "cell_type": "code",
   "execution_count": null,
   "metadata": {},
   "outputs": [],
   "source": []
  }
 ],
 "metadata": {
  "kernelspec": {
   "display_name": "geo",
   "language": "python",
   "name": "geo"
  },
  "language_info": {
   "codemirror_mode": {
    "name": "ipython",
    "version": 3
   },
   "file_extension": ".py",
   "mimetype": "text/x-python",
   "name": "python",
   "nbconvert_exporter": "python",
   "pygments_lexer": "ipython3",
   "version": "3.8.5"
  }
 },
 "nbformat": 4,
 "nbformat_minor": 4
}
