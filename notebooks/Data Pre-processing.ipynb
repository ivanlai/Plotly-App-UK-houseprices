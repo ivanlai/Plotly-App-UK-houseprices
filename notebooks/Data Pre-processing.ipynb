{
 "cells": [
  {
   "cell_type": "markdown",
   "metadata": {},
   "source": [
    "https://www.gov.uk/government/statistical-data-sets/price-paid-data-downloads"
   ]
  },
  {
   "cell_type": "code",
   "execution_count": 45,
   "metadata": {},
   "outputs": [],
   "source": [
    "#!pip install convertbng"
   ]
  },
  {
   "cell_type": "code",
   "execution_count": 46,
   "metadata": {},
   "outputs": [],
   "source": [
    "import os\n",
    "import re\n",
    "import time\n",
    "\n",
    "# import gdal\n",
    "import json\n",
    "import datetime\n",
    "from json import dumps\n",
    "from copy import deepcopy\n",
    "from convertbng.util import convert_lonlat\n",
    "\n",
    "from multiprocessing import Pool, cpu_count\n",
    "\n",
    "import numpy as np\n",
    "import pandas as pd\n",
    "import geopandas as gpd\n",
    "import shapely.speedups\n",
    "# import swifter\n",
    "\n",
    "import plotly.express as px\n",
    "from plotly.subplots import make_subplots\n",
    "from IPython.display import clear_output\n",
    "\n",
    "import warnings\n",
    "\n",
    "warnings.filterwarnings(\"ignore\")\n",
    "pd.set_option(\"max_colwidth\", None)"
   ]
  },
  {
   "cell_type": "markdown",
   "metadata": {},
   "source": [
    "### Configurations"
   ]
  },
  {
   "cell_type": "code",
   "execution_count": 47,
   "metadata": {},
   "outputs": [],
   "source": [
    "cfg = dict()\n",
    "\n",
    "cfg[\"download data\"] = False\n",
    "cfg[\"to save\"] = True\n",
    "cfg[\"process geodata\"] = False\n",
    "\n",
    "cfg[\"start_year\"] = 1995\n",
    "cfg[\"end_year\"] = 2024\n",
    "cfg[\"Years\"] = list(range(cfg[\"start_year\"], cfg[\"end_year\"] + 1))\n",
    "\n",
    "cfg[\"geodata dir\"] = \"../input/geoData\"\n",
    "cfg[\"distribution dir\"] = \"../input/Distribution\"\n",
    "cfg[\"houseprice dir\"] = \"../input/HousePriceData\"\n",
    "cfg[\"school dir\"] = \"../input/SchoolData\"\n",
    "\n",
    "cfg[\"pp_raw dir\"] = os.path.join(cfg[\"houseprice dir\"], \"Raw\")\n",
    "cfg[\"pp_processed dir\"] = os.path.join(cfg[\"houseprice dir\"], \"Processed\")\n",
    "\n",
    "cfg[\"appData dir\"] = \"../appData\"\n",
    "cfg[\"assets dir\"] = \"../assets\"\n",
    "\n",
    "cfg[\"process_raw_pp\"] = True\n",
    "# cfg['process_raw_pp']   = False\n",
    "\n",
    "cfg[\"raw price files\"] = [\"pp-2024.csv\"]\n",
    "# cfg['raw price files']  = ['pp-1995-2017.csv', 'pp-2018.csv', 'pp-2019.csv', 'pp-2020.csv', 'pp-2021.csv', 'pp-2022.csv']]\n",
    "\n",
    "cfg[\"year\"] = [2024]  # Additonal check - only process years in this list\n",
    "# cfg['year']             = list(range(1995, 2021)) #Additonal check - only process years in this list\n",
    "\n",
    "cfg[\"price_threshold\"] = 10000  # Filter out transactions below this value\n",
    "\n",
    "cfg[\"tolerance\"] = (\n",
    "\t0.001  # Initial Tolerance threshold for shapely polygons simplification\n",
    ")\n",
    "cfg[\"max discrepancy\"] = (\n",
    "\t5  # Maximum discrepancy (%) allowed for changes in polygon area after simplification.\n",
    ")\n",
    "\n",
    "cfg[\"regions_lookup\"] = {\n",
    "\t\"North East\": \"North England\",\n",
    "\t\"North West\": \"North England\",\n",
    "\t\"East Midlands\": \"Midlands\",\n",
    "\t\"West Midlands\": \"Midlands\",\n",
    "\t\"Greater London\": \"Greater London\",\n",
    "\t\"South East\": \"South East\",\n",
    "\t\"South West\": \"South West\",\n",
    "\t\"Wales\": \"Wales\",\n",
    "\t\"Scotland\": \"Scotland\",\n",
    "\t\"Northern Ireland\": \"Northern Ireland\",\n",
    "}\n",
    "\n",
    "cfg[\"Regions\"] = [\n",
    "\t\"North England\",\n",
    "\t\"South East\",\n",
    "\t\"Greater London\",\n",
    "\t\"Midlands\",\n",
    "\t\"South West\",\n",
    "\t\"Wales\",\n",
    "\t\"Scotland\",\n",
    "]"
   ]
  },
  {
   "cell_type": "markdown",
   "metadata": {
    "heading_collapsed": true
   },
   "source": [
    "#### Directory structure"
   ]
  },
  {
   "cell_type": "code",
   "execution_count": 48,
   "metadata": {
    "hidden": true
   },
   "outputs": [],
   "source": [
    "\"\"\"\n",
    "- appData (dir.)\n",
    "- Data Pre-processing.ipynb\n",
    "- input\n",
    "    |-- Distribution \n",
    "    |-- geoData\n",
    "    |-- SchoolData\n",
    "    |-- HousePriceData\n",
    "            |-- Raw\n",
    "            |-- Processed\n",
    "\"\"\"\n",
    "\n",
    "os.makedirs(cfg[\"appData dir\"], exist_ok=True)\n",
    "os.makedirs(cfg[\"pp_processed dir\"], exist_ok=True)"
   ]
  },
  {
   "cell_type": "code",
   "execution_count": 49,
   "metadata": {
    "hidden": true
   },
   "outputs": [],
   "source": [
    "t0 = time.time()"
   ]
  },
  {
   "cell_type": "markdown",
   "metadata": {},
   "source": [
    "#### Download Data"
   ]
  },
  {
   "cell_type": "code",
   "execution_count": 50,
   "metadata": {},
   "outputs": [],
   "source": [
    "# Download and unzip postcode shape files\n",
    "if cfg[\"download data\"]:\n",
    "\t!wget https://www.opendoorlogistics.com/wp-content/uploads/Data/UK-postcode-boundaries-Jan-2015.zip\n",
    "\t!unzip UK-postcode-boundaries-Jan-2015.zip -d ../input\n",
    "\t!rm UK-postcode-boundaries-Jan-2015.zip\n",
    "\tclear_output()"
   ]
  },
  {
   "cell_type": "code",
   "execution_count": 51,
   "metadata": {},
   "outputs": [],
   "source": [
    "# Download postcode data\n",
    "if cfg[\"download data\"]:\n",
    "\t!wget https://www.freemaptools.com/download/full-postcodes/ukpostcodes.zip\n",
    "\t!unzip ukpostcodes.zip -d ../input/geoData\n",
    "\t!rm ukpostcodes.zip\n",
    "\tclear_output()"
   ]
  },
  {
   "cell_type": "markdown",
   "metadata": {},
   "source": [
    "##### Uncomment to download all files (The 1995 - 2017 file is 3.7GB)"
   ]
  },
  {
   "cell_type": "code",
   "execution_count": 52,
   "metadata": {},
   "outputs": [],
   "source": [
    "# Download and House paid-price files\n",
    "if cfg[\"download data\"]:\n",
    "\t!wget http://prod.publicdata.landregistry.gov.uk.s3-website-eu-west-1.amazonaws.com/pp-2020.csv -P ../input/HousePriceData/Raw/\n",
    "\t!wget http://prod.publicdata.landregistry.gov.uk.s3-website-eu-west-1.amazonaws.com/pp-2019.csv -P ../input/HousePriceData/Raw/\n",
    "\t!wget http://prod.publicdata.landregistry.gov.uk.s3-website-eu-west-1.amazonaws.com/pp-2018.csv -P ../input/HousePriceData/Raw/\n",
    "\t!wget http://prod.publicdata.landregistry.gov.uk.s3-website-eu-west-1.amazonaws.com/pp-complete.csv -P ../input/HousePriceData/Raw/\n",
    "\tclear_output()"
   ]
  },
  {
   "cell_type": "markdown",
   "metadata": {},
   "source": [
    "### Post Code Data - Lookup dictionaries to speed up processing"
   ]
  },
  {
   "cell_type": "code",
   "execution_count": 53,
   "metadata": {},
   "outputs": [],
   "source": [
    "postcodes_df = pd.read_csv(os.path.join(cfg[\"geodata dir\"], \"ukpostcodes.csv\"))\n",
    "\n",
    "postcodes = dict()\n",
    "for postcode, latitude, longitude in postcodes_df[\n",
    "\t[\"postcode\", \"latitude\", \"longitude\"]\n",
    "].values:\n",
    "\tpostcodes[postcode] = [latitude, longitude]\n",
    "\n",
    "# -----------------------------------------------------#\n",
    "\n",
    "postcode_region_df = pd.read_csv(\n",
    "\tos.path.join(cfg[\"geodata dir\"], \"PostCode Region.csv\")\n",
    ")\n",
    "\n",
    "postcode_region = dict()\n",
    "for prefix, region in postcode_region_df[[\"Prefix\", \"Region\"]].values:\n",
    "\tpostcode_region[prefix] = cfg[\"regions_lookup\"][region]"
   ]
  },
  {
   "cell_type": "markdown",
   "metadata": {},
   "source": [
    "### House Price Data"
   ]
  },
  {
   "cell_type": "markdown",
   "metadata": {},
   "source": [
    "#### Processing raw data"
   ]
  },
  {
   "cell_type": "code",
   "execution_count": 54,
   "metadata": {},
   "outputs": [],
   "source": [
    "def lookup_postcode(postcodes, x):\n",
    "\tif x in postcodes:\n",
    "\t\treturn postcodes[x]\n",
    "\telse:\n",
    "\t\treturn \"\"\n",
    "\n",
    "\n",
    "pattern = re.compile(r\"\\d\")\n",
    "\n",
    "\n",
    "def lookup_region(postcode_region, x, pattern=pattern):\n",
    "\tm = pattern.search(x)\n",
    "\tif m is None:\n",
    "\t\treturn \"\"\n",
    "\telse:\n",
    "\t\tx = x[: m.start()]\n",
    "\t\tif x in postcode_region:\n",
    "\t\t\treturn postcode_region[x]\n",
    "\t\telse:\n",
    "\t\t\treturn \"\""
   ]
  },
  {
   "cell_type": "code",
   "execution_count": 55,
   "metadata": {},
   "outputs": [],
   "source": [
    "def clean_pp_df(df, postcodes, postcode_region):\n",
    "\tcol = {\n",
    "\t\t1: \"Price\",\n",
    "\t\t2: \"Date\",\n",
    "\t\t3: \"Post Code\",\n",
    "\t\t4: \"Property Type\",\n",
    "\t\t5: \"Old/New\",\n",
    "\t\t6: \"Duration\",\n",
    "\t}\n",
    "\n",
    "\tdf.rename(columns=col, inplace=True)\n",
    "\tdf.fillna(\"\", inplace=True)\n",
    "\tdf[\"Address\"] = (\n",
    "\t\tdf[7]\n",
    "\t\t+ \" \"\n",
    "\t\t+ df[8]\n",
    "\t\t+ \" \"\n",
    "\t\t+ df[9]\n",
    "\t\t+ \" \"\n",
    "\t\t+ df[10]\n",
    "\t\t+ \" \"\n",
    "\t\t+ df[11]\n",
    "\t\t+ \" \"\n",
    "\t\t+ df[12]\n",
    "\t\t+ \" \"\n",
    "\t\t+ df[13]\n",
    "\t)\n",
    "\tdf[\"Address\"] = df[\"Address\"].apply(lambda x: \" \".join(x.split()))\n",
    "\n",
    "\tcols_to_drop = [col for col in df.columns if isinstance(col, int)]\n",
    "\tdf.drop(cols_to_drop, axis=1, inplace=True)\n",
    "\n",
    "\t# Drop suspiciously low house price data: (Note: These have Property Type \"Other\". What is it?)\n",
    "\tdf = df.loc[df.Price > cfg[\"price_threshold\"]]\n",
    "\n",
    "\t# Exclude property type Other (O)\n",
    "\tdf = df.loc[df[\"Property Type\"] != \"O\"]\n",
    "\n",
    "\t# Sort by Date:\n",
    "\tdf.sort_values(by=[\"Date\"], inplace=True, ignore_index=True)\n",
    "\n",
    "\t# Get Latitude and Longitude by Post Code:\n",
    "\tdf[\"Post Code Coords\"] = df[\"Post Code\"].apply(\n",
    "\t\tlambda x: lookup_postcode(postcodes, x)\n",
    "\t)\n",
    "\n",
    "\t# Get year-month:\n",
    "\tdf[\"Year-Month\"] = df[\"Date\"].apply(lambda s: s[:7])\n",
    "\tdf[\"Year\"] = df[\"Date\"].apply(lambda s: s[:4])\n",
    "\tdf[\"Month\"] = df[\"Date\"].apply(lambda s: s[5:7])\n",
    "\n",
    "\t# Get Post code sector\n",
    "\tdf[\"Sector\"] = df[\"Post Code\"].apply(lambda s: s[: s.find(\" \") + 2])\n",
    "\n",
    "\t# Get Region\n",
    "\tdf[\"Region\"] = df[\"Post Code\"].apply(lambda s: lookup_region(postcode_region, s))\n",
    "\n",
    "\treturn df"
   ]
  },
  {
   "cell_type": "code",
   "execution_count": 56,
   "metadata": {},
   "outputs": [
    {
     "name": "stdout",
     "output_type": "stream",
     "text": [
      "Processing pp-2024.csv\n",
      "Number of transactions in pp-2024.csv: 641,336\n",
      "\n",
      "pp-2024.csv saved\n",
      "CPU times: user 4.62 s, sys: 369 ms, total: 4.99 s\n",
      "Wall time: 4.99 s\n"
     ]
    }
   ],
   "source": [
    "%%time\n",
    "\n",
    "\n",
    "def process_and_save_houseprice(infile, postcodes, postcode_region):\n",
    "\tprint(f\"Processing {infile}\")\n",
    "\n",
    "\tdf = pd.read_csv(os.path.join(cfg[\"pp_raw dir\"], infile), header=None)\n",
    "\tdf = clean_pp_df(df, postcodes, postcode_region)\n",
    "\tprint(f\"Number of transactions in {infile}: {len(df):,}\\n\")\n",
    "\n",
    "\tfor year in df.Year.unique():\n",
    "\t\tif int(year) in cfg[\"year\"]:\n",
    "\t\t\tfname = f\"pp-{year}.csv\"\n",
    "\t\t\tdf[df.Year == year].to_csv(\n",
    "\t\t\t\tos.path.join(cfg[\"pp_processed dir\"], fname), index=False\n",
    "\t\t\t)\n",
    "\t\t\tprint(f\"{fname} saved\")\n",
    "\t\telse:\n",
    "\t\t\tprint(\n",
    "\t\t\t\tf\"Are you sure you want to process year {year}? Change configurations.\"\n",
    "\t\t\t)\n",
    "\n",
    "\n",
    "# -------------------------------------------------------#\n",
    "if cfg[\"process_raw_pp\"]:\n",
    "\tfor infile in cfg[\"raw price files\"]:\n",
    "\t\tprocess_and_save_houseprice(infile, postcodes, postcode_region)"
   ]
  },
  {
   "cell_type": "code",
   "execution_count": 57,
   "metadata": {},
   "outputs": [
    {
     "data": {
      "text/plain": [
       "'../input/HousePriceData/Processed'"
      ]
     },
     "execution_count": 57,
     "metadata": {},
     "output_type": "execute_result"
    }
   ],
   "source": [
    "cfg[\"pp_processed dir\"]"
   ]
  },
  {
   "cell_type": "markdown",
   "metadata": {},
   "source": [
    "#### Loading processed data"
   ]
  },
  {
   "cell_type": "code",
   "execution_count": 58,
   "metadata": {},
   "outputs": [
    {
     "name": "stdout",
     "output_type": "stream",
     "text": [
      "Transaction count in 2008: 649,200\n",
      "Transaction count in 2009: 624,926\n",
      "Transaction count in 1995: 791,428\n",
      "Transaction count in 1996: 958,613\n",
      "Transaction count in 1998: 1,046,548\n",
      "Transaction count in 2005: 1,060,732\n",
      "Transaction count in 2000: 1,125,331\n",
      "Transaction count in 1997: 1,088,301\n",
      "Transaction count in 2001: 1,241,785\n",
      "Transaction count in 1999: 1,190,704\n",
      "Transaction count in 2004: 1,230,885\n",
      "Transaction count in 2007: 1,271,602\n",
      "Transaction count in 2003: 1,233,679\n",
      "Transaction count in 2002: 1,348,336\n",
      "Transaction count in 2006: 1,325,298\n",
      "Transaction count in 2010: 662,919\n",
      "Transaction count in 2011: 660,748\n",
      "Transaction count in 2012: 668,335\n",
      "Transaction count in 2013: 806,108\n",
      "Transaction count in 2014: 971,344\n",
      "Transaction count in 2015: 990,104\n",
      "Transaction count in 2016: 999,686\n",
      "Transaction count in 2017: 989,828\n",
      "Transaction count in 2018: 963,597\n",
      "Transaction count in 2019: 922,052\n",
      "Transaction count in 2020: 700,217\n",
      "Transaction count in 2021: 1,059,362\n",
      "Transaction count in 2022: 651,481\n",
      "Transaction count in 2023: 554,692\n",
      "Transaction count in 2024: 641,336\n",
      "\n",
      "Number of rows in house_price_df: 28,429,177\n",
      "CPU times: user 10.3 s, sys: 11.6 s, total: 21.9 s\n",
      "Wall time: 23.8 s\n"
     ]
    }
   ],
   "source": [
    "%%time\n",
    "\n",
    "\n",
    "def load_processed_houseprice_data(year):\n",
    "\tfname = os.path.join(cfg[\"pp_processed dir\"], f\"pp-{str(year)}.csv\")\n",
    "\tif os.path.isfile(fname):\n",
    "\t\tdf = pd.read_csv(fname)\n",
    "\t\tprint(f\"Transaction count in {year}: {len(df):,}\")\n",
    "\t\treturn df\n",
    "\telse:\n",
    "\t\treturn None\n",
    "\n",
    "\n",
    "# ----------------------------------------#\n",
    "with Pool(cpu_count() - 1) as p:\n",
    "\tresults = p.map(load_processed_houseprice_data, cfg[\"Years\"])\n",
    "\n",
    "house_price_df = pd.concat(results, ignore_index=True)\n",
    "del results\n",
    "\n",
    "print(\"\")\n",
    "print(f\"Number of rows in house_price_df: {len(house_price_df):,}\")"
   ]
  },
  {
   "cell_type": "code",
   "execution_count": 59,
   "metadata": {},
   "outputs": [
    {
     "data": {
      "text/html": [
       "<div>\n",
       "<style scoped>\n",
       "    .dataframe tbody tr th:only-of-type {\n",
       "        vertical-align: middle;\n",
       "    }\n",
       "\n",
       "    .dataframe tbody tr th {\n",
       "        vertical-align: top;\n",
       "    }\n",
       "\n",
       "    .dataframe thead th {\n",
       "        text-align: right;\n",
       "    }\n",
       "</style>\n",
       "<table border=\"1\" class=\"dataframe\">\n",
       "  <thead>\n",
       "    <tr style=\"text-align: right;\">\n",
       "      <th></th>\n",
       "      <th>Price</th>\n",
       "      <th>Date</th>\n",
       "      <th>Post Code</th>\n",
       "      <th>Property Type</th>\n",
       "      <th>Old/New</th>\n",
       "      <th>Duration</th>\n",
       "      <th>Address</th>\n",
       "      <th>Post Code Coords</th>\n",
       "      <th>Year-Month</th>\n",
       "      <th>Year</th>\n",
       "      <th>Month</th>\n",
       "      <th>Sector</th>\n",
       "      <th>Region</th>\n",
       "    </tr>\n",
       "  </thead>\n",
       "  <tbody>\n",
       "    <tr>\n",
       "      <th>0</th>\n",
       "      <td>17000</td>\n",
       "      <td>1995-01-01 00:00</td>\n",
       "      <td>HU5 5NY</td>\n",
       "      <td>T</td>\n",
       "      <td>N</td>\n",
       "      <td>F</td>\n",
       "      <td>147 WESTLANDS ROAD HULL HULL KINGSTON UPON HULL HUMBERSIDE</td>\n",
       "      <td>[53.7536744770554, -0.414045315055496]</td>\n",
       "      <td>1995-01</td>\n",
       "      <td>1995</td>\n",
       "      <td>1</td>\n",
       "      <td>HU5 5</td>\n",
       "      <td>North England</td>\n",
       "    </tr>\n",
       "    <tr>\n",
       "      <th>1</th>\n",
       "      <td>61000</td>\n",
       "      <td>1995-01-01 00:00</td>\n",
       "      <td>CT9 5HW</td>\n",
       "      <td>D</td>\n",
       "      <td>N</td>\n",
       "      <td>F</td>\n",
       "      <td>15 WENTWORTH AVENUE WESTBROOK MARGATE THANET KENT</td>\n",
       "      <td>[51.3821987268994, 1.3493702654861102]</td>\n",
       "      <td>1995-01</td>\n",
       "      <td>1995</td>\n",
       "      <td>1</td>\n",
       "      <td>CT9 5</td>\n",
       "      <td>South East</td>\n",
       "    </tr>\n",
       "  </tbody>\n",
       "</table>\n",
       "</div>"
      ],
      "text/plain": [
       "   Price              Date Post Code Property Type Old/New Duration  \\\n",
       "0  17000  1995-01-01 00:00   HU5 5NY             T       N        F   \n",
       "1  61000  1995-01-01 00:00   CT9 5HW             D       N        F   \n",
       "\n",
       "                                                      Address  \\\n",
       "0  147 WESTLANDS ROAD HULL HULL KINGSTON UPON HULL HUMBERSIDE   \n",
       "1           15 WENTWORTH AVENUE WESTBROOK MARGATE THANET KENT   \n",
       "\n",
       "                         Post Code Coords Year-Month  Year  Month Sector  \\\n",
       "0  [53.7536744770554, -0.414045315055496]    1995-01  1995      1  HU5 5   \n",
       "1  [51.3821987268994, 1.3493702654861102]    1995-01  1995      1  CT9 5   \n",
       "\n",
       "          Region  \n",
       "0  North England  \n",
       "1     South East  "
      ]
     },
     "execution_count": 59,
     "metadata": {},
     "output_type": "execute_result"
    }
   ],
   "source": [
    "house_price_df.head(2)"
   ]
  },
  {
   "cell_type": "code",
   "execution_count": 60,
   "metadata": {},
   "outputs": [
    {
     "data": {
      "text/html": [
       "<div>\n",
       "<style scoped>\n",
       "    .dataframe tbody tr th:only-of-type {\n",
       "        vertical-align: middle;\n",
       "    }\n",
       "\n",
       "    .dataframe tbody tr th {\n",
       "        vertical-align: top;\n",
       "    }\n",
       "\n",
       "    .dataframe thead th {\n",
       "        text-align: right;\n",
       "    }\n",
       "</style>\n",
       "<table border=\"1\" class=\"dataframe\">\n",
       "  <thead>\n",
       "    <tr style=\"text-align: right;\">\n",
       "      <th></th>\n",
       "      <th>Price</th>\n",
       "      <th>Date</th>\n",
       "      <th>Post Code</th>\n",
       "      <th>Property Type</th>\n",
       "      <th>Old/New</th>\n",
       "      <th>Duration</th>\n",
       "      <th>Address</th>\n",
       "      <th>Post Code Coords</th>\n",
       "      <th>Year-Month</th>\n",
       "      <th>Year</th>\n",
       "      <th>Month</th>\n",
       "      <th>Sector</th>\n",
       "      <th>Region</th>\n",
       "    </tr>\n",
       "  </thead>\n",
       "  <tbody>\n",
       "    <tr>\n",
       "      <th>28429175</th>\n",
       "      <td>685500</td>\n",
       "      <td>2024-12-30 00:00</td>\n",
       "      <td>SW3 4HH</td>\n",
       "      <td>F</td>\n",
       "      <td>N</td>\n",
       "      <td>L</td>\n",
       "      <td>5 FLAT 4 CHEYNE PLACE LONDON KENSINGTON AND CHELSEA GREATER LONDON</td>\n",
       "      <td>[51.4852308622622, -0.163027292802603]</td>\n",
       "      <td>2024-12</td>\n",
       "      <td>2024</td>\n",
       "      <td>12</td>\n",
       "      <td>SW3 4</td>\n",
       "      <td>Greater London</td>\n",
       "    </tr>\n",
       "    <tr>\n",
       "      <th>28429176</th>\n",
       "      <td>327500</td>\n",
       "      <td>2024-12-31 00:00</td>\n",
       "      <td>NG8 2QY</td>\n",
       "      <td>S</td>\n",
       "      <td>N</td>\n",
       "      <td>F</td>\n",
       "      <td>40 CRANSLEY AVENUE NOTTINGHAM CITY OF NOTTINGHAM CITY OF NOTTINGHAM</td>\n",
       "      <td>[52.9454171649136, -1.22921795861809]</td>\n",
       "      <td>2024-12</td>\n",
       "      <td>2024</td>\n",
       "      <td>12</td>\n",
       "      <td>NG8 2</td>\n",
       "      <td>Midlands</td>\n",
       "    </tr>\n",
       "  </tbody>\n",
       "</table>\n",
       "</div>"
      ],
      "text/plain": [
       "           Price              Date Post Code Property Type Old/New Duration  \\\n",
       "28429175  685500  2024-12-30 00:00   SW3 4HH             F       N        L   \n",
       "28429176  327500  2024-12-31 00:00   NG8 2QY             S       N        F   \n",
       "\n",
       "                                                                      Address  \\\n",
       "28429175   5 FLAT 4 CHEYNE PLACE LONDON KENSINGTON AND CHELSEA GREATER LONDON   \n",
       "28429176  40 CRANSLEY AVENUE NOTTINGHAM CITY OF NOTTINGHAM CITY OF NOTTINGHAM   \n",
       "\n",
       "                                Post Code Coords Year-Month  Year  Month  \\\n",
       "28429175  [51.4852308622622, -0.163027292802603]    2024-12  2024     12   \n",
       "28429176   [52.9454171649136, -1.22921795861809]    2024-12  2024     12   \n",
       "\n",
       "         Sector          Region  \n",
       "28429175  SW3 4  Greater London  \n",
       "28429176  NG8 2        Midlands  "
      ]
     },
     "execution_count": 60,
     "metadata": {},
     "output_type": "execute_result"
    }
   ],
   "source": [
    "house_price_df.tail(2)"
   ]
  },
  {
   "cell_type": "markdown",
   "metadata": {},
   "source": [
    "#### Average price by month"
   ]
  },
  {
   "cell_type": "code",
   "execution_count": 61,
   "metadata": {},
   "outputs": [],
   "source": [
    "temp = house_price_df[house_price_df[\"Property Type\"] == \"D\"]\n",
    "\n",
    "P = (\n",
    "\thouse_price_df[[\"Year-Month\", \"Price\"]]\n",
    "\t.groupby(by=[\"Year-Month\"])\n",
    "\t.agg([\"mean\", \"count\"])\n",
    ")\n",
    "P.reset_index(inplace=True)\n",
    "P.columns = [\"Year-Month\", \"Price\", \"Volume\"]"
   ]
  },
  {
   "cell_type": "code",
   "execution_count": 62,
   "metadata": {},
   "outputs": [
    {
     "data": {
      "application/vnd.plotly.v1+json": {
       "config": {
        "plotlyServerURL": "https://plot.ly"
       },
       "data": [
        {
         "hovertemplate": "Year-Month=%{x}<br>Price=%{y}<extra></extra>",
         "legendgroup": "",
         "line": {
          "color": "cornflowerblue",
          "dash": "solid"
         },
         "marker": {
          "symbol": "circle"
         },
         "mode": "lines",
         "name": "",
         "orientation": "v",
         "showlegend": false,
         "type": "scatter",
         "x": [
          "1995-01",
          "1995-02",
          "1995-03",
          "1995-04",
          "1995-05",
          "1995-06",
          "1995-07",
          "1995-08",
          "1995-09",
          "1995-10",
          "1995-11",
          "1995-12",
          "1996-01",
          "1996-02",
          "1996-03",
          "1996-04",
          "1996-05",
          "1996-06",
          "1996-07",
          "1996-08",
          "1996-09",
          "1996-10",
          "1996-11",
          "1996-12",
          "1997-01",
          "1997-02",
          "1997-03",
          "1997-04",
          "1997-05",
          "1997-06",
          "1997-07",
          "1997-08",
          "1997-09",
          "1997-10",
          "1997-11",
          "1997-12",
          "1998-01",
          "1998-02",
          "1998-03",
          "1998-04",
          "1998-05",
          "1998-06",
          "1998-07",
          "1998-08",
          "1998-09",
          "1998-10",
          "1998-11",
          "1998-12",
          "1999-01",
          "1999-02",
          "1999-03",
          "1999-04",
          "1999-05",
          "1999-06",
          "1999-07",
          "1999-08",
          "1999-09",
          "1999-10",
          "1999-11",
          "1999-12",
          "2000-01",
          "2000-02",
          "2000-03",
          "2000-04",
          "2000-05",
          "2000-06",
          "2000-07",
          "2000-08",
          "2000-09",
          "2000-10",
          "2000-11",
          "2000-12",
          "2001-01",
          "2001-02",
          "2001-03",
          "2001-04",
          "2001-05",
          "2001-06",
          "2001-07",
          "2001-08",
          "2001-09",
          "2001-10",
          "2001-11",
          "2001-12",
          "2002-01",
          "2002-02",
          "2002-03",
          "2002-04",
          "2002-05",
          "2002-06",
          "2002-07",
          "2002-08",
          "2002-09",
          "2002-10",
          "2002-11",
          "2002-12",
          "2003-01",
          "2003-02",
          "2003-03",
          "2003-04",
          "2003-05",
          "2003-06",
          "2003-07",
          "2003-08",
          "2003-09",
          "2003-10",
          "2003-11",
          "2003-12",
          "2004-01",
          "2004-02",
          "2004-03",
          "2004-04",
          "2004-05",
          "2004-06",
          "2004-07",
          "2004-08",
          "2004-09",
          "2004-10",
          "2004-11",
          "2004-12",
          "2005-01",
          "2005-02",
          "2005-03",
          "2005-04",
          "2005-05",
          "2005-06",
          "2005-07",
          "2005-08",
          "2005-09",
          "2005-10",
          "2005-11",
          "2005-12",
          "2006-01",
          "2006-02",
          "2006-03",
          "2006-04",
          "2006-05",
          "2006-06",
          "2006-07",
          "2006-08",
          "2006-09",
          "2006-10",
          "2006-11",
          "2006-12",
          "2007-01",
          "2007-02",
          "2007-03",
          "2007-04",
          "2007-05",
          "2007-06",
          "2007-07",
          "2007-08",
          "2007-09",
          "2007-10",
          "2007-11",
          "2007-12",
          "2008-01",
          "2008-02",
          "2008-03",
          "2008-04",
          "2008-05",
          "2008-06",
          "2008-07",
          "2008-08",
          "2008-09",
          "2008-10",
          "2008-11",
          "2008-12",
          "2009-01",
          "2009-02",
          "2009-03",
          "2009-04",
          "2009-05",
          "2009-06",
          "2009-07",
          "2009-08",
          "2009-09",
          "2009-10",
          "2009-11",
          "2009-12",
          "2010-01",
          "2010-02",
          "2010-03",
          "2010-04",
          "2010-05",
          "2010-06",
          "2010-07",
          "2010-08",
          "2010-09",
          "2010-10",
          "2010-11",
          "2010-12",
          "2011-01",
          "2011-02",
          "2011-03",
          "2011-04",
          "2011-05",
          "2011-06",
          "2011-07",
          "2011-08",
          "2011-09",
          "2011-10",
          "2011-11",
          "2011-12",
          "2012-01",
          "2012-02",
          "2012-03",
          "2012-04",
          "2012-05",
          "2012-06",
          "2012-07",
          "2012-08",
          "2012-09",
          "2012-10",
          "2012-11",
          "2012-12",
          "2013-01",
          "2013-02",
          "2013-03",
          "2013-04",
          "2013-05",
          "2013-06",
          "2013-07",
          "2013-08",
          "2013-09",
          "2013-10",
          "2013-11",
          "2013-12",
          "2014-01",
          "2014-02",
          "2014-03",
          "2014-04",
          "2014-05",
          "2014-06",
          "2014-07",
          "2014-08",
          "2014-09",
          "2014-10",
          "2014-11",
          "2014-12",
          "2015-01",
          "2015-02",
          "2015-03",
          "2015-04",
          "2015-05",
          "2015-06",
          "2015-07",
          "2015-08",
          "2015-09",
          "2015-10",
          "2015-11",
          "2015-12",
          "2016-01",
          "2016-02",
          "2016-03",
          "2016-04",
          "2016-05",
          "2016-06",
          "2016-07",
          "2016-08",
          "2016-09",
          "2016-10",
          "2016-11",
          "2016-12",
          "2017-01",
          "2017-02",
          "2017-03",
          "2017-04",
          "2017-05",
          "2017-06",
          "2017-07",
          "2017-08",
          "2017-09",
          "2017-10",
          "2017-11",
          "2017-12",
          "2018-01",
          "2018-02",
          "2018-03",
          "2018-04",
          "2018-05",
          "2018-06",
          "2018-07",
          "2018-08",
          "2018-09",
          "2018-10",
          "2018-11",
          "2018-12",
          "2019-01",
          "2019-02",
          "2019-03",
          "2019-04",
          "2019-05",
          "2019-06",
          "2019-07",
          "2019-08",
          "2019-09",
          "2019-10",
          "2019-11",
          "2019-12",
          "2020-01",
          "2020-02",
          "2020-03",
          "2020-04",
          "2020-05",
          "2020-06",
          "2020-07",
          "2020-08",
          "2020-09",
          "2020-10",
          "2020-11",
          "2020-12",
          "2021-01",
          "2021-02",
          "2021-03",
          "2021-04",
          "2021-05",
          "2021-06",
          "2021-07",
          "2021-08",
          "2021-09",
          "2021-10",
          "2021-11",
          "2021-12",
          "2022-01",
          "2022-02",
          "2022-03",
          "2022-04",
          "2022-05",
          "2022-06",
          "2022-07",
          "2022-08",
          "2022-09",
          "2022-10",
          "2022-11",
          "2022-12",
          "2023-01",
          "2023-02",
          "2023-03",
          "2023-04",
          "2023-05",
          "2023-06",
          "2023-07",
          "2023-08",
          "2023-09",
          "2023-10",
          "2023-11",
          "2023-12",
          "2024-01",
          "2024-02",
          "2024-03",
          "2024-04",
          "2024-05",
          "2024-06",
          "2024-07",
          "2024-08",
          "2024-09",
          "2024-10",
          "2024-11",
          "2024-12"
         ],
         "xaxis": "x",
         "y": {
          "bdata": "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",
          "dtype": "f8"
         },
         "yaxis": "y2"
        },
        {
         "hovertemplate": "Year-Month=%{x}<br>Volume=%{y}<extra></extra>",
         "legendgroup": "",
         "marker": {
          "color": "violet",
          "pattern": {
           "shape": ""
          }
         },
         "name": "",
         "orientation": "v",
         "showlegend": false,
         "textposition": "auto",
         "type": "bar",
         "x": [
          "1995-01",
          "1995-02",
          "1995-03",
          "1995-04",
          "1995-05",
          "1995-06",
          "1995-07",
          "1995-08",
          "1995-09",
          "1995-10",
          "1995-11",
          "1995-12",
          "1996-01",
          "1996-02",
          "1996-03",
          "1996-04",
          "1996-05",
          "1996-06",
          "1996-07",
          "1996-08",
          "1996-09",
          "1996-10",
          "1996-11",
          "1996-12",
          "1997-01",
          "1997-02",
          "1997-03",
          "1997-04",
          "1997-05",
          "1997-06",
          "1997-07",
          "1997-08",
          "1997-09",
          "1997-10",
          "1997-11",
          "1997-12",
          "1998-01",
          "1998-02",
          "1998-03",
          "1998-04",
          "1998-05",
          "1998-06",
          "1998-07",
          "1998-08",
          "1998-09",
          "1998-10",
          "1998-11",
          "1998-12",
          "1999-01",
          "1999-02",
          "1999-03",
          "1999-04",
          "1999-05",
          "1999-06",
          "1999-07",
          "1999-08",
          "1999-09",
          "1999-10",
          "1999-11",
          "1999-12",
          "2000-01",
          "2000-02",
          "2000-03",
          "2000-04",
          "2000-05",
          "2000-06",
          "2000-07",
          "2000-08",
          "2000-09",
          "2000-10",
          "2000-11",
          "2000-12",
          "2001-01",
          "2001-02",
          "2001-03",
          "2001-04",
          "2001-05",
          "2001-06",
          "2001-07",
          "2001-08",
          "2001-09",
          "2001-10",
          "2001-11",
          "2001-12",
          "2002-01",
          "2002-02",
          "2002-03",
          "2002-04",
          "2002-05",
          "2002-06",
          "2002-07",
          "2002-08",
          "2002-09",
          "2002-10",
          "2002-11",
          "2002-12",
          "2003-01",
          "2003-02",
          "2003-03",
          "2003-04",
          "2003-05",
          "2003-06",
          "2003-07",
          "2003-08",
          "2003-09",
          "2003-10",
          "2003-11",
          "2003-12",
          "2004-01",
          "2004-02",
          "2004-03",
          "2004-04",
          "2004-05",
          "2004-06",
          "2004-07",
          "2004-08",
          "2004-09",
          "2004-10",
          "2004-11",
          "2004-12",
          "2005-01",
          "2005-02",
          "2005-03",
          "2005-04",
          "2005-05",
          "2005-06",
          "2005-07",
          "2005-08",
          "2005-09",
          "2005-10",
          "2005-11",
          "2005-12",
          "2006-01",
          "2006-02",
          "2006-03",
          "2006-04",
          "2006-05",
          "2006-06",
          "2006-07",
          "2006-08",
          "2006-09",
          "2006-10",
          "2006-11",
          "2006-12",
          "2007-01",
          "2007-02",
          "2007-03",
          "2007-04",
          "2007-05",
          "2007-06",
          "2007-07",
          "2007-08",
          "2007-09",
          "2007-10",
          "2007-11",
          "2007-12",
          "2008-01",
          "2008-02",
          "2008-03",
          "2008-04",
          "2008-05",
          "2008-06",
          "2008-07",
          "2008-08",
          "2008-09",
          "2008-10",
          "2008-11",
          "2008-12",
          "2009-01",
          "2009-02",
          "2009-03",
          "2009-04",
          "2009-05",
          "2009-06",
          "2009-07",
          "2009-08",
          "2009-09",
          "2009-10",
          "2009-11",
          "2009-12",
          "2010-01",
          "2010-02",
          "2010-03",
          "2010-04",
          "2010-05",
          "2010-06",
          "2010-07",
          "2010-08",
          "2010-09",
          "2010-10",
          "2010-11",
          "2010-12",
          "2011-01",
          "2011-02",
          "2011-03",
          "2011-04",
          "2011-05",
          "2011-06",
          "2011-07",
          "2011-08",
          "2011-09",
          "2011-10",
          "2011-11",
          "2011-12",
          "2012-01",
          "2012-02",
          "2012-03",
          "2012-04",
          "2012-05",
          "2012-06",
          "2012-07",
          "2012-08",
          "2012-09",
          "2012-10",
          "2012-11",
          "2012-12",
          "2013-01",
          "2013-02",
          "2013-03",
          "2013-04",
          "2013-05",
          "2013-06",
          "2013-07",
          "2013-08",
          "2013-09",
          "2013-10",
          "2013-11",
          "2013-12",
          "2014-01",
          "2014-02",
          "2014-03",
          "2014-04",
          "2014-05",
          "2014-06",
          "2014-07",
          "2014-08",
          "2014-09",
          "2014-10",
          "2014-11",
          "2014-12",
          "2015-01",
          "2015-02",
          "2015-03",
          "2015-04",
          "2015-05",
          "2015-06",
          "2015-07",
          "2015-08",
          "2015-09",
          "2015-10",
          "2015-11",
          "2015-12",
          "2016-01",
          "2016-02",
          "2016-03",
          "2016-04",
          "2016-05",
          "2016-06",
          "2016-07",
          "2016-08",
          "2016-09",
          "2016-10",
          "2016-11",
          "2016-12",
          "2017-01",
          "2017-02",
          "2017-03",
          "2017-04",
          "2017-05",
          "2017-06",
          "2017-07",
          "2017-08",
          "2017-09",
          "2017-10",
          "2017-11",
          "2017-12",
          "2018-01",
          "2018-02",
          "2018-03",
          "2018-04",
          "2018-05",
          "2018-06",
          "2018-07",
          "2018-08",
          "2018-09",
          "2018-10",
          "2018-11",
          "2018-12",
          "2019-01",
          "2019-02",
          "2019-03",
          "2019-04",
          "2019-05",
          "2019-06",
          "2019-07",
          "2019-08",
          "2019-09",
          "2019-10",
          "2019-11",
          "2019-12",
          "2020-01",
          "2020-02",
          "2020-03",
          "2020-04",
          "2020-05",
          "2020-06",
          "2020-07",
          "2020-08",
          "2020-09",
          "2020-10",
          "2020-11",
          "2020-12",
          "2021-01",
          "2021-02",
          "2021-03",
          "2021-04",
          "2021-05",
          "2021-06",
          "2021-07",
          "2021-08",
          "2021-09",
          "2021-10",
          "2021-11",
          "2021-12",
          "2022-01",
          "2022-02",
          "2022-03",
          "2022-04",
          "2022-05",
          "2022-06",
          "2022-07",
          "2022-08",
          "2022-09",
          "2022-10",
          "2022-11",
          "2022-12",
          "2023-01",
          "2023-02",
          "2023-03",
          "2023-04",
          "2023-05",
          "2023-06",
          "2023-07",
          "2023-08",
          "2023-09",
          "2023-10",
          "2023-11",
          "2023-12",
          "2024-01",
          "2024-02",
          "2024-03",
          "2024-04",
          "2024-05",
          "2024-06",
          "2024-07",
          "2024-08",
          "2024-09",
          "2024-10",
          "2024-11",
          "2024-12"
         ],
         "xaxis": "x",
         "y": {
          "bdata": "pcMAACnFAACxFAEA8ukAAFgHAQCJKgEAtQcBAJ0cAQBpFQEAIvwAACMHAQAyHQEAJMcAABHTAAATGwEAfAgBAEhEAQB5NgEAYV4BAON2AQBeSQEAfWMBAK+BAQBCZAEAnRIBADoRAQAmPAEA0kQBAP14AQDPiAEA+qYBAEuXAQA9cQEAnosBAHtQAQD3aAEA5/sAAJ0CAQDBPQEAF0kBAENlAQAsegEAHKsBAD5vAQBiXwEARG0BAFdRAQDyWgEASfcAAIwAAQC2WQEA1G4BAJhuAQDqnQEA5OsBAKK9AQC/pQEAxboBALisAQCNpwEAmRkBABAsAQAhkAEAMHABAFx+AQCBtQEA7YsBAFyIAQA/bwEA7lkBAKNaAQDjeQEA9wwBACwXAQDYdgEA6W4BAJmbAQAg1wEArtUBAOUFAgD9lwEAIrcBANbGAQCUhAEAzCoBABlCAQDmrQEANZ8BAOslAgC+sgEABw4CALgNAgAssQEAq7kBAHDPAQBBqgEAnkwBAKQ7AQAeUAEAX1sBABJ/AQByigEAt6sBAFXBAQDmrQEAwOIBAPzEAQAe0wEA7VwBAANcAQDilAEAasoBAEilAQAx3AEAvvwBADO3AQCXewEARG0BALlEAQDrTAEAB94AAPzoAABnGQEAM0kBAGZMAQC4fQEAbpEBALGIAQDXjgEAAXABAMd7AQADpwEAWC4BAEo6AQCqnAEAk3oBAAiiAQAw9AEALNEBAPHqAQBl1wEAJMwBAO/TAQBG7wEAYmEBAB1dAQBErAEAVIABAAyzAQDK8QEARtYBAKr1AQCziwEAeJ4BAHaXAQC0SQEAsugAAHD4AAAJ6wAAuPwAAFMGAQDE7QAANNQAAMbCAAB3qAAAVbYAAD+TAADxoQAARGsAAMxuAAD7kQAA2p8AAFq2AADB0wAAmvkAAKTmAABV5wAA8gMBAI/xAAAKNgEA1o0AAMmnAACeywAAks4AACrOAAAU+AAAJwoBAOTyAAA34wAA2ucAAH7eAADg4AAA5ZQAAI+cAADmuAAAYsgAAHPBAADg4wAA7PUAAAj+AADW+gAAveQAAEjuAAAu+wAA9KwAAP+wAADc8QAAC6sAAC/PAAD26wAAP+kAAGMAAQB00AAA0ugAAFX7AABz3gAA8qkAAC6xAACT1gAALMgAAIIEAQC3BAEA3yEBAG85AQAaFwEApjoBAM5UAQDoRwEA+Q0BAOEMAQBpGQEAdiMBAMdAAQDKUAEAMl0BABdpAQCxRQEAE2UBAEsxAQCuRgEAOO8AANz0AAA/GwEA8QwBAD00AQDGYwEA4X4BAOZdAQAUWAEAdHwBAIlZAQB5bAEAOwcBAKIgAQDxJAIA9OEAALEDAQAWQgEAGk8BAMJaAQCuSQEASjUBAPpDAQCvXwEA/fwAACwLAQDgSQEAbRMBAJswAQAwdQEAh1ABAB5qAQAtWAEAnFMBAFFTAQCEVQEAT/4AAPMFAQCTMQEAqAYBAOgqAQCDYQEAs0UBAGN2AQC+MQEAolUBAONrAQDMOwEAkfMAAEgAAQA2KAEA3g4BAGsqAQD+OAEANEQBACJYAQCmLQEABkUBAJ1HAQDPLAEA5P0AAPL6AACA/wAANmgAANWBAAAtwQAAmOAAALrlAAA8+gAAWzABAHcbAQBL/wAAgCgBAPx0AQANEAIA/FEBAGAiAQDQdQIAt9IAAAAWAQDm0gEAbtAAALj9AACqCAEAQ+EAAG/9AACiFwEAwPMAAAfsAACA5gAAWQMBAHcHAQBE6QAAdr8AABR5AACgBwAA58kAAAvHAABj5wAAKqcAAD20AADK1gAAKM8AAIPnAAA61wAAD6oAANVQAAB1QwAAQ70AAN/PAAC87AAA188AANDtAACU1AAAm+YAAD7mAAAavgAAiNcAAOS6AADAnwAA",
          "dtype": "i4"
         },
         "yaxis": "y"
        }
       ],
       "layout": {
        "template": {
         "data": {
          "bar": [
           {
            "error_x": {
             "color": "#2a3f5f"
            },
            "error_y": {
             "color": "#2a3f5f"
            },
            "marker": {
             "line": {
              "color": "#E5ECF6",
              "width": 0.5
             },
             "pattern": {
              "fillmode": "overlay",
              "size": 10,
              "solidity": 0.2
             }
            },
            "type": "bar"
           }
          ],
          "barpolar": [
           {
            "marker": {
             "line": {
              "color": "#E5ECF6",
              "width": 0.5
             },
             "pattern": {
              "fillmode": "overlay",
              "size": 10,
              "solidity": 0.2
             }
            },
            "type": "barpolar"
           }
          ],
          "carpet": [
           {
            "aaxis": {
             "endlinecolor": "#2a3f5f",
             "gridcolor": "white",
             "linecolor": "white",
             "minorgridcolor": "white",
             "startlinecolor": "#2a3f5f"
            },
            "baxis": {
             "endlinecolor": "#2a3f5f",
             "gridcolor": "white",
             "linecolor": "white",
             "minorgridcolor": "white",
             "startlinecolor": "#2a3f5f"
            },
            "type": "carpet"
           }
          ],
          "choropleth": [
           {
            "colorbar": {
             "outlinewidth": 0,
             "ticks": ""
            },
            "type": "choropleth"
           }
          ],
          "contour": [
           {
            "colorbar": {
             "outlinewidth": 0,
             "ticks": ""
            },
            "colorscale": [
             [
              0,
              "#0d0887"
             ],
             [
              0.1111111111111111,
              "#46039f"
             ],
             [
              0.2222222222222222,
              "#7201a8"
             ],
             [
              0.3333333333333333,
              "#9c179e"
             ],
             [
              0.4444444444444444,
              "#bd3786"
             ],
             [
              0.5555555555555556,
              "#d8576b"
             ],
             [
              0.6666666666666666,
              "#ed7953"
             ],
             [
              0.7777777777777778,
              "#fb9f3a"
             ],
             [
              0.8888888888888888,
              "#fdca26"
             ],
             [
              1,
              "#f0f921"
             ]
            ],
            "type": "contour"
           }
          ],
          "contourcarpet": [
           {
            "colorbar": {
             "outlinewidth": 0,
             "ticks": ""
            },
            "type": "contourcarpet"
           }
          ],
          "heatmap": [
           {
            "colorbar": {
             "outlinewidth": 0,
             "ticks": ""
            },
            "colorscale": [
             [
              0,
              "#0d0887"
             ],
             [
              0.1111111111111111,
              "#46039f"
             ],
             [
              0.2222222222222222,
              "#7201a8"
             ],
             [
              0.3333333333333333,
              "#9c179e"
             ],
             [
              0.4444444444444444,
              "#bd3786"
             ],
             [
              0.5555555555555556,
              "#d8576b"
             ],
             [
              0.6666666666666666,
              "#ed7953"
             ],
             [
              0.7777777777777778,
              "#fb9f3a"
             ],
             [
              0.8888888888888888,
              "#fdca26"
             ],
             [
              1,
              "#f0f921"
             ]
            ],
            "type": "heatmap"
           }
          ],
          "histogram": [
           {
            "marker": {
             "pattern": {
              "fillmode": "overlay",
              "size": 10,
              "solidity": 0.2
             }
            },
            "type": "histogram"
           }
          ],
          "histogram2d": [
           {
            "colorbar": {
             "outlinewidth": 0,
             "ticks": ""
            },
            "colorscale": [
             [
              0,
              "#0d0887"
             ],
             [
              0.1111111111111111,
              "#46039f"
             ],
             [
              0.2222222222222222,
              "#7201a8"
             ],
             [
              0.3333333333333333,
              "#9c179e"
             ],
             [
              0.4444444444444444,
              "#bd3786"
             ],
             [
              0.5555555555555556,
              "#d8576b"
             ],
             [
              0.6666666666666666,
              "#ed7953"
             ],
             [
              0.7777777777777778,
              "#fb9f3a"
             ],
             [
              0.8888888888888888,
              "#fdca26"
             ],
             [
              1,
              "#f0f921"
             ]
            ],
            "type": "histogram2d"
           }
          ],
          "histogram2dcontour": [
           {
            "colorbar": {
             "outlinewidth": 0,
             "ticks": ""
            },
            "colorscale": [
             [
              0,
              "#0d0887"
             ],
             [
              0.1111111111111111,
              "#46039f"
             ],
             [
              0.2222222222222222,
              "#7201a8"
             ],
             [
              0.3333333333333333,
              "#9c179e"
             ],
             [
              0.4444444444444444,
              "#bd3786"
             ],
             [
              0.5555555555555556,
              "#d8576b"
             ],
             [
              0.6666666666666666,
              "#ed7953"
             ],
             [
              0.7777777777777778,
              "#fb9f3a"
             ],
             [
              0.8888888888888888,
              "#fdca26"
             ],
             [
              1,
              "#f0f921"
             ]
            ],
            "type": "histogram2dcontour"
           }
          ],
          "mesh3d": [
           {
            "colorbar": {
             "outlinewidth": 0,
             "ticks": ""
            },
            "type": "mesh3d"
           }
          ],
          "parcoords": [
           {
            "line": {
             "colorbar": {
              "outlinewidth": 0,
              "ticks": ""
             }
            },
            "type": "parcoords"
           }
          ],
          "pie": [
           {
            "automargin": true,
            "type": "pie"
           }
          ],
          "scatter": [
           {
            "fillpattern": {
             "fillmode": "overlay",
             "size": 10,
             "solidity": 0.2
            },
            "type": "scatter"
           }
          ],
          "scatter3d": [
           {
            "line": {
             "colorbar": {
              "outlinewidth": 0,
              "ticks": ""
             }
            },
            "marker": {
             "colorbar": {
              "outlinewidth": 0,
              "ticks": ""
             }
            },
            "type": "scatter3d"
           }
          ],
          "scattercarpet": [
           {
            "marker": {
             "colorbar": {
              "outlinewidth": 0,
              "ticks": ""
             }
            },
            "type": "scattercarpet"
           }
          ],
          "scattergeo": [
           {
            "marker": {
             "colorbar": {
              "outlinewidth": 0,
              "ticks": ""
             }
            },
            "type": "scattergeo"
           }
          ],
          "scattergl": [
           {
            "marker": {
             "colorbar": {
              "outlinewidth": 0,
              "ticks": ""
             }
            },
            "type": "scattergl"
           }
          ],
          "scattermap": [
           {
            "marker": {
             "colorbar": {
              "outlinewidth": 0,
              "ticks": ""
             }
            },
            "type": "scattermap"
           }
          ],
          "scattermapbox": [
           {
            "marker": {
             "colorbar": {
              "outlinewidth": 0,
              "ticks": ""
             }
            },
            "type": "scattermapbox"
           }
          ],
          "scatterpolar": [
           {
            "marker": {
             "colorbar": {
              "outlinewidth": 0,
              "ticks": ""
             }
            },
            "type": "scatterpolar"
           }
          ],
          "scatterpolargl": [
           {
            "marker": {
             "colorbar": {
              "outlinewidth": 0,
              "ticks": ""
             }
            },
            "type": "scatterpolargl"
           }
          ],
          "scatterternary": [
           {
            "marker": {
             "colorbar": {
              "outlinewidth": 0,
              "ticks": ""
             }
            },
            "type": "scatterternary"
           }
          ],
          "surface": [
           {
            "colorbar": {
             "outlinewidth": 0,
             "ticks": ""
            },
            "colorscale": [
             [
              0,
              "#0d0887"
             ],
             [
              0.1111111111111111,
              "#46039f"
             ],
             [
              0.2222222222222222,
              "#7201a8"
             ],
             [
              0.3333333333333333,
              "#9c179e"
             ],
             [
              0.4444444444444444,
              "#bd3786"
             ],
             [
              0.5555555555555556,
              "#d8576b"
             ],
             [
              0.6666666666666666,
              "#ed7953"
             ],
             [
              0.7777777777777778,
              "#fb9f3a"
             ],
             [
              0.8888888888888888,
              "#fdca26"
             ],
             [
              1,
              "#f0f921"
             ]
            ],
            "type": "surface"
           }
          ],
          "table": [
           {
            "cells": {
             "fill": {
              "color": "#EBF0F8"
             },
             "line": {
              "color": "white"
             }
            },
            "header": {
             "fill": {
              "color": "#C8D4E3"
             },
             "line": {
              "color": "white"
             }
            },
            "type": "table"
           }
          ]
         },
         "layout": {
          "annotationdefaults": {
           "arrowcolor": "#2a3f5f",
           "arrowhead": 0,
           "arrowwidth": 1
          },
          "autotypenumbers": "strict",
          "coloraxis": {
           "colorbar": {
            "outlinewidth": 0,
            "ticks": ""
           }
          },
          "colorscale": {
           "diverging": [
            [
             0,
             "#8e0152"
            ],
            [
             0.1,
             "#c51b7d"
            ],
            [
             0.2,
             "#de77ae"
            ],
            [
             0.3,
             "#f1b6da"
            ],
            [
             0.4,
             "#fde0ef"
            ],
            [
             0.5,
             "#f7f7f7"
            ],
            [
             0.6,
             "#e6f5d0"
            ],
            [
             0.7,
             "#b8e186"
            ],
            [
             0.8,
             "#7fbc41"
            ],
            [
             0.9,
             "#4d9221"
            ],
            [
             1,
             "#276419"
            ]
           ],
           "sequential": [
            [
             0,
             "#0d0887"
            ],
            [
             0.1111111111111111,
             "#46039f"
            ],
            [
             0.2222222222222222,
             "#7201a8"
            ],
            [
             0.3333333333333333,
             "#9c179e"
            ],
            [
             0.4444444444444444,
             "#bd3786"
            ],
            [
             0.5555555555555556,
             "#d8576b"
            ],
            [
             0.6666666666666666,
             "#ed7953"
            ],
            [
             0.7777777777777778,
             "#fb9f3a"
            ],
            [
             0.8888888888888888,
             "#fdca26"
            ],
            [
             1,
             "#f0f921"
            ]
           ],
           "sequentialminus": [
            [
             0,
             "#0d0887"
            ],
            [
             0.1111111111111111,
             "#46039f"
            ],
            [
             0.2222222222222222,
             "#7201a8"
            ],
            [
             0.3333333333333333,
             "#9c179e"
            ],
            [
             0.4444444444444444,
             "#bd3786"
            ],
            [
             0.5555555555555556,
             "#d8576b"
            ],
            [
             0.6666666666666666,
             "#ed7953"
            ],
            [
             0.7777777777777778,
             "#fb9f3a"
            ],
            [
             0.8888888888888888,
             "#fdca26"
            ],
            [
             1,
             "#f0f921"
            ]
           ]
          },
          "colorway": [
           "#636efa",
           "#EF553B",
           "#00cc96",
           "#ab63fa",
           "#FFA15A",
           "#19d3f3",
           "#FF6692",
           "#B6E880",
           "#FF97FF",
           "#FECB52"
          ],
          "font": {
           "color": "#2a3f5f"
          },
          "geo": {
           "bgcolor": "white",
           "lakecolor": "white",
           "landcolor": "#E5ECF6",
           "showlakes": true,
           "showland": true,
           "subunitcolor": "white"
          },
          "hoverlabel": {
           "align": "left"
          },
          "hovermode": "closest",
          "mapbox": {
           "style": "light"
          },
          "paper_bgcolor": "white",
          "plot_bgcolor": "#E5ECF6",
          "polar": {
           "angularaxis": {
            "gridcolor": "white",
            "linecolor": "white",
            "ticks": ""
           },
           "bgcolor": "#E5ECF6",
           "radialaxis": {
            "gridcolor": "white",
            "linecolor": "white",
            "ticks": ""
           }
          },
          "scene": {
           "xaxis": {
            "backgroundcolor": "#E5ECF6",
            "gridcolor": "white",
            "gridwidth": 2,
            "linecolor": "white",
            "showbackground": true,
            "ticks": "",
            "zerolinecolor": "white"
           },
           "yaxis": {
            "backgroundcolor": "#E5ECF6",
            "gridcolor": "white",
            "gridwidth": 2,
            "linecolor": "white",
            "showbackground": true,
            "ticks": "",
            "zerolinecolor": "white"
           },
           "zaxis": {
            "backgroundcolor": "#E5ECF6",
            "gridcolor": "white",
            "gridwidth": 2,
            "linecolor": "white",
            "showbackground": true,
            "ticks": "",
            "zerolinecolor": "white"
           }
          },
          "shapedefaults": {
           "line": {
            "color": "#2a3f5f"
           }
          },
          "ternary": {
           "aaxis": {
            "gridcolor": "white",
            "linecolor": "white",
            "ticks": ""
           },
           "baxis": {
            "gridcolor": "white",
            "linecolor": "white",
            "ticks": ""
           },
           "bgcolor": "#E5ECF6",
           "caxis": {
            "gridcolor": "white",
            "linecolor": "white",
            "ticks": ""
           }
          },
          "title": {
           "x": 0.05
          },
          "xaxis": {
           "automargin": true,
           "gridcolor": "white",
           "linecolor": "white",
           "ticks": "",
           "title": {
            "standoff": 15
           },
           "zerolinecolor": "white",
           "zerolinewidth": 2
          },
          "yaxis": {
           "automargin": true,
           "gridcolor": "white",
           "linecolor": "white",
           "ticks": "",
           "title": {
            "standoff": 15
           },
           "zerolinecolor": "white",
           "zerolinewidth": 2
          }
         }
        },
        "title": {
         "text": "England & Wales average house price and sales volume from 1995"
        },
        "xaxis": {
         "anchor": "y",
         "domain": [
          0,
          0.94
         ],
         "showgrid": false
        },
        "yaxis": {
         "anchor": "x",
         "domain": [
          0,
          1
         ],
         "showgrid": false,
         "title": {
          "text": "Sales Volume (Bar Chart)"
         }
        },
        "yaxis2": {
         "anchor": "x",
         "overlaying": "y",
         "side": "right",
         "title": {
          "text": "Avg. Price (£)"
         }
        }
       }
      }
     },
     "metadata": {},
     "output_type": "display_data"
    }
   ],
   "source": [
    "fig = make_subplots(specs=[[{\"secondary_y\": True}]])\n",
    "\n",
    "fig.add_trace(\n",
    "\tpx.line(\n",
    "\t\tP, x=\"Year-Month\", y=\"Price\", color_discrete_sequence=[\"cornflowerblue\"]\n",
    "\t).data[0],\n",
    "\tsecondary_y=True,\n",
    ")\n",
    "fig.add_trace(\n",
    "\tpx.bar(P, x=\"Year-Month\", y=\"Volume\", color_discrete_sequence=[\"violet\"]).data[0],\n",
    "\tsecondary_y=False,\n",
    ")\n",
    "\n",
    "fig.update_xaxes(showgrid=False)\n",
    "fig.update_yaxes(title_text=\"Avg. Price (£)\", secondary_y=True)\n",
    "fig.update_yaxes(\n",
    "\ttitle_text=\"Sales Volume (Bar Chart)\", secondary_y=False, showgrid=False\n",
    ")\n",
    "fig.update_layout(\n",
    "\ttitle=\"England & Wales average house price and sales volume from 1995\"\n",
    ")\n",
    "\n",
    "fig.show()"
   ]
  },
  {
   "cell_type": "code",
   "execution_count": 63,
   "metadata": {},
   "outputs": [
    {
     "data": {
      "application/vnd.plotly.v1+json": {
       "config": {
        "plotlyServerURL": "https://plot.ly"
       },
       "data": [
        {
         "hovertemplate": "Property Type=D<br>Year-Month=%{x}<br>Price=%{y}<extra></extra>",
         "legendgroup": "D",
         "line": {
          "color": "#636efa",
          "dash": "solid"
         },
         "marker": {
          "symbol": "circle"
         },
         "mode": "lines",
         "name": "D",
         "showlegend": true,
         "type": "scattergl",
         "x": [
          "1995-01",
          "1995-02",
          "1995-03",
          "1995-04",
          "1995-05",
          "1995-06",
          "1995-07",
          "1995-08",
          "1995-09",
          "1995-10",
          "1995-11",
          "1995-12",
          "1996-01",
          "1996-02",
          "1996-03",
          "1996-04",
          "1996-05",
          "1996-06",
          "1996-07",
          "1996-08",
          "1996-09",
          "1996-10",
          "1996-11",
          "1996-12",
          "1997-01",
          "1997-02",
          "1997-03",
          "1997-04",
          "1997-05",
          "1997-06",
          "1997-07",
          "1997-08",
          "1997-09",
          "1997-10",
          "1997-11",
          "1997-12",
          "1998-01",
          "1998-02",
          "1998-03",
          "1998-04",
          "1998-05",
          "1998-06",
          "1998-07",
          "1998-08",
          "1998-09",
          "1998-10",
          "1998-11",
          "1998-12",
          "1999-01",
          "1999-02",
          "1999-03",
          "1999-04",
          "1999-05",
          "1999-06",
          "1999-07",
          "1999-08",
          "1999-09",
          "1999-10",
          "1999-11",
          "1999-12",
          "2000-01",
          "2000-02",
          "2000-03",
          "2000-04",
          "2000-05",
          "2000-06",
          "2000-07",
          "2000-08",
          "2000-09",
          "2000-10",
          "2000-11",
          "2000-12",
          "2001-01",
          "2001-02",
          "2001-03",
          "2001-04",
          "2001-05",
          "2001-06",
          "2001-07",
          "2001-08",
          "2001-09",
          "2001-10",
          "2001-11",
          "2001-12",
          "2002-01",
          "2002-02",
          "2002-03",
          "2002-04",
          "2002-05",
          "2002-06",
          "2002-07",
          "2002-08",
          "2002-09",
          "2002-10",
          "2002-11",
          "2002-12",
          "2003-01",
          "2003-02",
          "2003-03",
          "2003-04",
          "2003-05",
          "2003-06",
          "2003-07",
          "2003-08",
          "2003-09",
          "2003-10",
          "2003-11",
          "2003-12",
          "2004-01",
          "2004-02",
          "2004-03",
          "2004-04",
          "2004-05",
          "2004-06",
          "2004-07",
          "2004-08",
          "2004-09",
          "2004-10",
          "2004-11",
          "2004-12",
          "2005-01",
          "2005-02",
          "2005-03",
          "2005-04",
          "2005-05",
          "2005-06",
          "2005-07",
          "2005-08",
          "2005-09",
          "2005-10",
          "2005-11",
          "2005-12",
          "2006-01",
          "2006-02",
          "2006-03",
          "2006-04",
          "2006-05",
          "2006-06",
          "2006-07",
          "2006-08",
          "2006-09",
          "2006-10",
          "2006-11",
          "2006-12",
          "2007-01",
          "2007-02",
          "2007-03",
          "2007-04",
          "2007-05",
          "2007-06",
          "2007-07",
          "2007-08",
          "2007-09",
          "2007-10",
          "2007-11",
          "2007-12",
          "2008-01",
          "2008-02",
          "2008-03",
          "2008-04",
          "2008-05",
          "2008-06",
          "2008-07",
          "2008-08",
          "2008-09",
          "2008-10",
          "2008-11",
          "2008-12",
          "2009-01",
          "2009-02",
          "2009-03",
          "2009-04",
          "2009-05",
          "2009-06",
          "2009-07",
          "2009-08",
          "2009-09",
          "2009-10",
          "2009-11",
          "2009-12",
          "2010-01",
          "2010-02",
          "2010-03",
          "2010-04",
          "2010-05",
          "2010-06",
          "2010-07",
          "2010-08",
          "2010-09",
          "2010-10",
          "2010-11",
          "2010-12",
          "2011-01",
          "2011-02",
          "2011-03",
          "2011-04",
          "2011-05",
          "2011-06",
          "2011-07",
          "2011-08",
          "2011-09",
          "2011-10",
          "2011-11",
          "2011-12",
          "2012-01",
          "2012-02",
          "2012-03",
          "2012-04",
          "2012-05",
          "2012-06",
          "2012-07",
          "2012-08",
          "2012-09",
          "2012-10",
          "2012-11",
          "2012-12",
          "2013-01",
          "2013-02",
          "2013-03",
          "2013-04",
          "2013-05",
          "2013-06",
          "2013-07",
          "2013-08",
          "2013-09",
          "2013-10",
          "2013-11",
          "2013-12",
          "2014-01",
          "2014-02",
          "2014-03",
          "2014-04",
          "2014-05",
          "2014-06",
          "2014-07",
          "2014-08",
          "2014-09",
          "2014-10",
          "2014-11",
          "2014-12",
          "2015-01",
          "2015-02",
          "2015-03",
          "2015-04",
          "2015-05",
          "2015-06",
          "2015-07",
          "2015-08",
          "2015-09",
          "2015-10",
          "2015-11",
          "2015-12",
          "2016-01",
          "2016-02",
          "2016-03",
          "2016-04",
          "2016-05",
          "2016-06",
          "2016-07",
          "2016-08",
          "2016-09",
          "2016-10",
          "2016-11",
          "2016-12",
          "2017-01",
          "2017-02",
          "2017-03",
          "2017-04",
          "2017-05",
          "2017-06",
          "2017-07",
          "2017-08",
          "2017-09",
          "2017-10",
          "2017-11",
          "2017-12",
          "2018-01",
          "2018-02",
          "2018-03",
          "2018-04",
          "2018-05",
          "2018-06",
          "2018-07",
          "2018-08",
          "2018-09",
          "2018-10",
          "2018-11",
          "2018-12",
          "2019-01",
          "2019-02",
          "2019-03",
          "2019-04",
          "2019-05",
          "2019-06",
          "2019-07",
          "2019-08",
          "2019-09",
          "2019-10",
          "2019-11",
          "2019-12",
          "2020-01",
          "2020-02",
          "2020-03",
          "2020-04",
          "2020-05",
          "2020-06",
          "2020-07",
          "2020-08",
          "2020-09",
          "2020-10",
          "2020-11",
          "2020-12",
          "2021-01",
          "2021-02",
          "2021-03",
          "2021-04",
          "2021-05",
          "2021-06",
          "2021-07",
          "2021-08",
          "2021-09",
          "2021-10",
          "2021-11",
          "2021-12",
          "2022-01",
          "2022-02",
          "2022-03",
          "2022-04",
          "2022-05",
          "2022-06",
          "2022-07",
          "2022-08",
          "2022-09",
          "2022-10",
          "2022-11",
          "2022-12",
          "2023-01",
          "2023-02",
          "2023-03",
          "2023-04",
          "2023-05",
          "2023-06",
          "2023-07",
          "2023-08",
          "2023-09",
          "2023-10",
          "2023-11",
          "2023-12",
          "2024-01",
          "2024-02",
          "2024-03",
          "2024-04",
          "2024-05",
          "2024-06",
          "2024-07",
          "2024-08",
          "2024-09",
          "2024-10",
          "2024-11",
          "2024-12"
         ],
         "xaxis": "x",
         "y": {
          "bdata": "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",
          "dtype": "f8"
         },
         "yaxis": "y"
        },
        {
         "hovertemplate": "Property Type=F<br>Year-Month=%{x}<br>Price=%{y}<extra></extra>",
         "legendgroup": "F",
         "line": {
          "color": "#EF553B",
          "dash": "solid"
         },
         "marker": {
          "symbol": "circle"
         },
         "mode": "lines",
         "name": "F",
         "showlegend": true,
         "type": "scattergl",
         "x": [
          "1995-01",
          "1995-02",
          "1995-03",
          "1995-04",
          "1995-05",
          "1995-06",
          "1995-07",
          "1995-08",
          "1995-09",
          "1995-10",
          "1995-11",
          "1995-12",
          "1996-01",
          "1996-02",
          "1996-03",
          "1996-04",
          "1996-05",
          "1996-06",
          "1996-07",
          "1996-08",
          "1996-09",
          "1996-10",
          "1996-11",
          "1996-12",
          "1997-01",
          "1997-02",
          "1997-03",
          "1997-04",
          "1997-05",
          "1997-06",
          "1997-07",
          "1997-08",
          "1997-09",
          "1997-10",
          "1997-11",
          "1997-12",
          "1998-01",
          "1998-02",
          "1998-03",
          "1998-04",
          "1998-05",
          "1998-06",
          "1998-07",
          "1998-08",
          "1998-09",
          "1998-10",
          "1998-11",
          "1998-12",
          "1999-01",
          "1999-02",
          "1999-03",
          "1999-04",
          "1999-05",
          "1999-06",
          "1999-07",
          "1999-08",
          "1999-09",
          "1999-10",
          "1999-11",
          "1999-12",
          "2000-01",
          "2000-02",
          "2000-03",
          "2000-04",
          "2000-05",
          "2000-06",
          "2000-07",
          "2000-08",
          "2000-09",
          "2000-10",
          "2000-11",
          "2000-12",
          "2001-01",
          "2001-02",
          "2001-03",
          "2001-04",
          "2001-05",
          "2001-06",
          "2001-07",
          "2001-08",
          "2001-09",
          "2001-10",
          "2001-11",
          "2001-12",
          "2002-01",
          "2002-02",
          "2002-03",
          "2002-04",
          "2002-05",
          "2002-06",
          "2002-07",
          "2002-08",
          "2002-09",
          "2002-10",
          "2002-11",
          "2002-12",
          "2003-01",
          "2003-02",
          "2003-03",
          "2003-04",
          "2003-05",
          "2003-06",
          "2003-07",
          "2003-08",
          "2003-09",
          "2003-10",
          "2003-11",
          "2003-12",
          "2004-01",
          "2004-02",
          "2004-03",
          "2004-04",
          "2004-05",
          "2004-06",
          "2004-07",
          "2004-08",
          "2004-09",
          "2004-10",
          "2004-11",
          "2004-12",
          "2005-01",
          "2005-02",
          "2005-03",
          "2005-04",
          "2005-05",
          "2005-06",
          "2005-07",
          "2005-08",
          "2005-09",
          "2005-10",
          "2005-11",
          "2005-12",
          "2006-01",
          "2006-02",
          "2006-03",
          "2006-04",
          "2006-05",
          "2006-06",
          "2006-07",
          "2006-08",
          "2006-09",
          "2006-10",
          "2006-11",
          "2006-12",
          "2007-01",
          "2007-02",
          "2007-03",
          "2007-04",
          "2007-05",
          "2007-06",
          "2007-07",
          "2007-08",
          "2007-09",
          "2007-10",
          "2007-11",
          "2007-12",
          "2008-01",
          "2008-02",
          "2008-03",
          "2008-04",
          "2008-05",
          "2008-06",
          "2008-07",
          "2008-08",
          "2008-09",
          "2008-10",
          "2008-11",
          "2008-12",
          "2009-01",
          "2009-02",
          "2009-03",
          "2009-04",
          "2009-05",
          "2009-06",
          "2009-07",
          "2009-08",
          "2009-09",
          "2009-10",
          "2009-11",
          "2009-12",
          "2010-01",
          "2010-02",
          "2010-03",
          "2010-04",
          "2010-05",
          "2010-06",
          "2010-07",
          "2010-08",
          "2010-09",
          "2010-10",
          "2010-11",
          "2010-12",
          "2011-01",
          "2011-02",
          "2011-03",
          "2011-04",
          "2011-05",
          "2011-06",
          "2011-07",
          "2011-08",
          "2011-09",
          "2011-10",
          "2011-11",
          "2011-12",
          "2012-01",
          "2012-02",
          "2012-03",
          "2012-04",
          "2012-05",
          "2012-06",
          "2012-07",
          "2012-08",
          "2012-09",
          "2012-10",
          "2012-11",
          "2012-12",
          "2013-01",
          "2013-02",
          "2013-03",
          "2013-04",
          "2013-05",
          "2013-06",
          "2013-07",
          "2013-08",
          "2013-09",
          "2013-10",
          "2013-11",
          "2013-12",
          "2014-01",
          "2014-02",
          "2014-03",
          "2014-04",
          "2014-05",
          "2014-06",
          "2014-07",
          "2014-08",
          "2014-09",
          "2014-10",
          "2014-11",
          "2014-12",
          "2015-01",
          "2015-02",
          "2015-03",
          "2015-04",
          "2015-05",
          "2015-06",
          "2015-07",
          "2015-08",
          "2015-09",
          "2015-10",
          "2015-11",
          "2015-12",
          "2016-01",
          "2016-02",
          "2016-03",
          "2016-04",
          "2016-05",
          "2016-06",
          "2016-07",
          "2016-08",
          "2016-09",
          "2016-10",
          "2016-11",
          "2016-12",
          "2017-01",
          "2017-02",
          "2017-03",
          "2017-04",
          "2017-05",
          "2017-06",
          "2017-07",
          "2017-08",
          "2017-09",
          "2017-10",
          "2017-11",
          "2017-12",
          "2018-01",
          "2018-02",
          "2018-03",
          "2018-04",
          "2018-05",
          "2018-06",
          "2018-07",
          "2018-08",
          "2018-09",
          "2018-10",
          "2018-11",
          "2018-12",
          "2019-01",
          "2019-02",
          "2019-03",
          "2019-04",
          "2019-05",
          "2019-06",
          "2019-07",
          "2019-08",
          "2019-09",
          "2019-10",
          "2019-11",
          "2019-12",
          "2020-01",
          "2020-02",
          "2020-03",
          "2020-04",
          "2020-05",
          "2020-06",
          "2020-07",
          "2020-08",
          "2020-09",
          "2020-10",
          "2020-11",
          "2020-12",
          "2021-01",
          "2021-02",
          "2021-03",
          "2021-04",
          "2021-05",
          "2021-06",
          "2021-07",
          "2021-08",
          "2021-09",
          "2021-10",
          "2021-11",
          "2021-12",
          "2022-01",
          "2022-02",
          "2022-03",
          "2022-04",
          "2022-05",
          "2022-06",
          "2022-07",
          "2022-08",
          "2022-09",
          "2022-10",
          "2022-11",
          "2022-12",
          "2023-01",
          "2023-02",
          "2023-03",
          "2023-04",
          "2023-05",
          "2023-06",
          "2023-07",
          "2023-08",
          "2023-09",
          "2023-10",
          "2023-11",
          "2023-12",
          "2024-01",
          "2024-02",
          "2024-03",
          "2024-04",
          "2024-05",
          "2024-06",
          "2024-07",
          "2024-08",
          "2024-09",
          "2024-10",
          "2024-11",
          "2024-12"
         ],
         "xaxis": "x",
         "y": {
          "bdata": "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",
          "dtype": "f8"
         },
         "yaxis": "y"
        },
        {
         "hovertemplate": "Property Type=S<br>Year-Month=%{x}<br>Price=%{y}<extra></extra>",
         "legendgroup": "S",
         "line": {
          "color": "#00cc96",
          "dash": "solid"
         },
         "marker": {
          "symbol": "circle"
         },
         "mode": "lines",
         "name": "S",
         "showlegend": true,
         "type": "scattergl",
         "x": [
          "1995-01",
          "1995-02",
          "1995-03",
          "1995-04",
          "1995-05",
          "1995-06",
          "1995-07",
          "1995-08",
          "1995-09",
          "1995-10",
          "1995-11",
          "1995-12",
          "1996-01",
          "1996-02",
          "1996-03",
          "1996-04",
          "1996-05",
          "1996-06",
          "1996-07",
          "1996-08",
          "1996-09",
          "1996-10",
          "1996-11",
          "1996-12",
          "1997-01",
          "1997-02",
          "1997-03",
          "1997-04",
          "1997-05",
          "1997-06",
          "1997-07",
          "1997-08",
          "1997-09",
          "1997-10",
          "1997-11",
          "1997-12",
          "1998-01",
          "1998-02",
          "1998-03",
          "1998-04",
          "1998-05",
          "1998-06",
          "1998-07",
          "1998-08",
          "1998-09",
          "1998-10",
          "1998-11",
          "1998-12",
          "1999-01",
          "1999-02",
          "1999-03",
          "1999-04",
          "1999-05",
          "1999-06",
          "1999-07",
          "1999-08",
          "1999-09",
          "1999-10",
          "1999-11",
          "1999-12",
          "2000-01",
          "2000-02",
          "2000-03",
          "2000-04",
          "2000-05",
          "2000-06",
          "2000-07",
          "2000-08",
          "2000-09",
          "2000-10",
          "2000-11",
          "2000-12",
          "2001-01",
          "2001-02",
          "2001-03",
          "2001-04",
          "2001-05",
          "2001-06",
          "2001-07",
          "2001-08",
          "2001-09",
          "2001-10",
          "2001-11",
          "2001-12",
          "2002-01",
          "2002-02",
          "2002-03",
          "2002-04",
          "2002-05",
          "2002-06",
          "2002-07",
          "2002-08",
          "2002-09",
          "2002-10",
          "2002-11",
          "2002-12",
          "2003-01",
          "2003-02",
          "2003-03",
          "2003-04",
          "2003-05",
          "2003-06",
          "2003-07",
          "2003-08",
          "2003-09",
          "2003-10",
          "2003-11",
          "2003-12",
          "2004-01",
          "2004-02",
          "2004-03",
          "2004-04",
          "2004-05",
          "2004-06",
          "2004-07",
          "2004-08",
          "2004-09",
          "2004-10",
          "2004-11",
          "2004-12",
          "2005-01",
          "2005-02",
          "2005-03",
          "2005-04",
          "2005-05",
          "2005-06",
          "2005-07",
          "2005-08",
          "2005-09",
          "2005-10",
          "2005-11",
          "2005-12",
          "2006-01",
          "2006-02",
          "2006-03",
          "2006-04",
          "2006-05",
          "2006-06",
          "2006-07",
          "2006-08",
          "2006-09",
          "2006-10",
          "2006-11",
          "2006-12",
          "2007-01",
          "2007-02",
          "2007-03",
          "2007-04",
          "2007-05",
          "2007-06",
          "2007-07",
          "2007-08",
          "2007-09",
          "2007-10",
          "2007-11",
          "2007-12",
          "2008-01",
          "2008-02",
          "2008-03",
          "2008-04",
          "2008-05",
          "2008-06",
          "2008-07",
          "2008-08",
          "2008-09",
          "2008-10",
          "2008-11",
          "2008-12",
          "2009-01",
          "2009-02",
          "2009-03",
          "2009-04",
          "2009-05",
          "2009-06",
          "2009-07",
          "2009-08",
          "2009-09",
          "2009-10",
          "2009-11",
          "2009-12",
          "2010-01",
          "2010-02",
          "2010-03",
          "2010-04",
          "2010-05",
          "2010-06",
          "2010-07",
          "2010-08",
          "2010-09",
          "2010-10",
          "2010-11",
          "2010-12",
          "2011-01",
          "2011-02",
          "2011-03",
          "2011-04",
          "2011-05",
          "2011-06",
          "2011-07",
          "2011-08",
          "2011-09",
          "2011-10",
          "2011-11",
          "2011-12",
          "2012-01",
          "2012-02",
          "2012-03",
          "2012-04",
          "2012-05",
          "2012-06",
          "2012-07",
          "2012-08",
          "2012-09",
          "2012-10",
          "2012-11",
          "2012-12",
          "2013-01",
          "2013-02",
          "2013-03",
          "2013-04",
          "2013-05",
          "2013-06",
          "2013-07",
          "2013-08",
          "2013-09",
          "2013-10",
          "2013-11",
          "2013-12",
          "2014-01",
          "2014-02",
          "2014-03",
          "2014-04",
          "2014-05",
          "2014-06",
          "2014-07",
          "2014-08",
          "2014-09",
          "2014-10",
          "2014-11",
          "2014-12",
          "2015-01",
          "2015-02",
          "2015-03",
          "2015-04",
          "2015-05",
          "2015-06",
          "2015-07",
          "2015-08",
          "2015-09",
          "2015-10",
          "2015-11",
          "2015-12",
          "2016-01",
          "2016-02",
          "2016-03",
          "2016-04",
          "2016-05",
          "2016-06",
          "2016-07",
          "2016-08",
          "2016-09",
          "2016-10",
          "2016-11",
          "2016-12",
          "2017-01",
          "2017-02",
          "2017-03",
          "2017-04",
          "2017-05",
          "2017-06",
          "2017-07",
          "2017-08",
          "2017-09",
          "2017-10",
          "2017-11",
          "2017-12",
          "2018-01",
          "2018-02",
          "2018-03",
          "2018-04",
          "2018-05",
          "2018-06",
          "2018-07",
          "2018-08",
          "2018-09",
          "2018-10",
          "2018-11",
          "2018-12",
          "2019-01",
          "2019-02",
          "2019-03",
          "2019-04",
          "2019-05",
          "2019-06",
          "2019-07",
          "2019-08",
          "2019-09",
          "2019-10",
          "2019-11",
          "2019-12",
          "2020-01",
          "2020-02",
          "2020-03",
          "2020-04",
          "2020-05",
          "2020-06",
          "2020-07",
          "2020-08",
          "2020-09",
          "2020-10",
          "2020-11",
          "2020-12",
          "2021-01",
          "2021-02",
          "2021-03",
          "2021-04",
          "2021-05",
          "2021-06",
          "2021-07",
          "2021-08",
          "2021-09",
          "2021-10",
          "2021-11",
          "2021-12",
          "2022-01",
          "2022-02",
          "2022-03",
          "2022-04",
          "2022-05",
          "2022-06",
          "2022-07",
          "2022-08",
          "2022-09",
          "2022-10",
          "2022-11",
          "2022-12",
          "2023-01",
          "2023-02",
          "2023-03",
          "2023-04",
          "2023-05",
          "2023-06",
          "2023-07",
          "2023-08",
          "2023-09",
          "2023-10",
          "2023-11",
          "2023-12",
          "2024-01",
          "2024-02",
          "2024-03",
          "2024-04",
          "2024-05",
          "2024-06",
          "2024-07",
          "2024-08",
          "2024-09",
          "2024-10",
          "2024-11",
          "2024-12"
         ],
         "xaxis": "x",
         "y": {
          "bdata": "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",
          "dtype": "f8"
         },
         "yaxis": "y"
        },
        {
         "hovertemplate": "Property Type=T<br>Year-Month=%{x}<br>Price=%{y}<extra></extra>",
         "legendgroup": "T",
         "line": {
          "color": "#ab63fa",
          "dash": "solid"
         },
         "marker": {
          "symbol": "circle"
         },
         "mode": "lines",
         "name": "T",
         "showlegend": true,
         "type": "scattergl",
         "x": [
          "1995-01",
          "1995-02",
          "1995-03",
          "1995-04",
          "1995-05",
          "1995-06",
          "1995-07",
          "1995-08",
          "1995-09",
          "1995-10",
          "1995-11",
          "1995-12",
          "1996-01",
          "1996-02",
          "1996-03",
          "1996-04",
          "1996-05",
          "1996-06",
          "1996-07",
          "1996-08",
          "1996-09",
          "1996-10",
          "1996-11",
          "1996-12",
          "1997-01",
          "1997-02",
          "1997-03",
          "1997-04",
          "1997-05",
          "1997-06",
          "1997-07",
          "1997-08",
          "1997-09",
          "1997-10",
          "1997-11",
          "1997-12",
          "1998-01",
          "1998-02",
          "1998-03",
          "1998-04",
          "1998-05",
          "1998-06",
          "1998-07",
          "1998-08",
          "1998-09",
          "1998-10",
          "1998-11",
          "1998-12",
          "1999-01",
          "1999-02",
          "1999-03",
          "1999-04",
          "1999-05",
          "1999-06",
          "1999-07",
          "1999-08",
          "1999-09",
          "1999-10",
          "1999-11",
          "1999-12",
          "2000-01",
          "2000-02",
          "2000-03",
          "2000-04",
          "2000-05",
          "2000-06",
          "2000-07",
          "2000-08",
          "2000-09",
          "2000-10",
          "2000-11",
          "2000-12",
          "2001-01",
          "2001-02",
          "2001-03",
          "2001-04",
          "2001-05",
          "2001-06",
          "2001-07",
          "2001-08",
          "2001-09",
          "2001-10",
          "2001-11",
          "2001-12",
          "2002-01",
          "2002-02",
          "2002-03",
          "2002-04",
          "2002-05",
          "2002-06",
          "2002-07",
          "2002-08",
          "2002-09",
          "2002-10",
          "2002-11",
          "2002-12",
          "2003-01",
          "2003-02",
          "2003-03",
          "2003-04",
          "2003-05",
          "2003-06",
          "2003-07",
          "2003-08",
          "2003-09",
          "2003-10",
          "2003-11",
          "2003-12",
          "2004-01",
          "2004-02",
          "2004-03",
          "2004-04",
          "2004-05",
          "2004-06",
          "2004-07",
          "2004-08",
          "2004-09",
          "2004-10",
          "2004-11",
          "2004-12",
          "2005-01",
          "2005-02",
          "2005-03",
          "2005-04",
          "2005-05",
          "2005-06",
          "2005-07",
          "2005-08",
          "2005-09",
          "2005-10",
          "2005-11",
          "2005-12",
          "2006-01",
          "2006-02",
          "2006-03",
          "2006-04",
          "2006-05",
          "2006-06",
          "2006-07",
          "2006-08",
          "2006-09",
          "2006-10",
          "2006-11",
          "2006-12",
          "2007-01",
          "2007-02",
          "2007-03",
          "2007-04",
          "2007-05",
          "2007-06",
          "2007-07",
          "2007-08",
          "2007-09",
          "2007-10",
          "2007-11",
          "2007-12",
          "2008-01",
          "2008-02",
          "2008-03",
          "2008-04",
          "2008-05",
          "2008-06",
          "2008-07",
          "2008-08",
          "2008-09",
          "2008-10",
          "2008-11",
          "2008-12",
          "2009-01",
          "2009-02",
          "2009-03",
          "2009-04",
          "2009-05",
          "2009-06",
          "2009-07",
          "2009-08",
          "2009-09",
          "2009-10",
          "2009-11",
          "2009-12",
          "2010-01",
          "2010-02",
          "2010-03",
          "2010-04",
          "2010-05",
          "2010-06",
          "2010-07",
          "2010-08",
          "2010-09",
          "2010-10",
          "2010-11",
          "2010-12",
          "2011-01",
          "2011-02",
          "2011-03",
          "2011-04",
          "2011-05",
          "2011-06",
          "2011-07",
          "2011-08",
          "2011-09",
          "2011-10",
          "2011-11",
          "2011-12",
          "2012-01",
          "2012-02",
          "2012-03",
          "2012-04",
          "2012-05",
          "2012-06",
          "2012-07",
          "2012-08",
          "2012-09",
          "2012-10",
          "2012-11",
          "2012-12",
          "2013-01",
          "2013-02",
          "2013-03",
          "2013-04",
          "2013-05",
          "2013-06",
          "2013-07",
          "2013-08",
          "2013-09",
          "2013-10",
          "2013-11",
          "2013-12",
          "2014-01",
          "2014-02",
          "2014-03",
          "2014-04",
          "2014-05",
          "2014-06",
          "2014-07",
          "2014-08",
          "2014-09",
          "2014-10",
          "2014-11",
          "2014-12",
          "2015-01",
          "2015-02",
          "2015-03",
          "2015-04",
          "2015-05",
          "2015-06",
          "2015-07",
          "2015-08",
          "2015-09",
          "2015-10",
          "2015-11",
          "2015-12",
          "2016-01",
          "2016-02",
          "2016-03",
          "2016-04",
          "2016-05",
          "2016-06",
          "2016-07",
          "2016-08",
          "2016-09",
          "2016-10",
          "2016-11",
          "2016-12",
          "2017-01",
          "2017-02",
          "2017-03",
          "2017-04",
          "2017-05",
          "2017-06",
          "2017-07",
          "2017-08",
          "2017-09",
          "2017-10",
          "2017-11",
          "2017-12",
          "2018-01",
          "2018-02",
          "2018-03",
          "2018-04",
          "2018-05",
          "2018-06",
          "2018-07",
          "2018-08",
          "2018-09",
          "2018-10",
          "2018-11",
          "2018-12",
          "2019-01",
          "2019-02",
          "2019-03",
          "2019-04",
          "2019-05",
          "2019-06",
          "2019-07",
          "2019-08",
          "2019-09",
          "2019-10",
          "2019-11",
          "2019-12",
          "2020-01",
          "2020-02",
          "2020-03",
          "2020-04",
          "2020-05",
          "2020-06",
          "2020-07",
          "2020-08",
          "2020-09",
          "2020-10",
          "2020-11",
          "2020-12",
          "2021-01",
          "2021-02",
          "2021-03",
          "2021-04",
          "2021-05",
          "2021-06",
          "2021-07",
          "2021-08",
          "2021-09",
          "2021-10",
          "2021-11",
          "2021-12",
          "2022-01",
          "2022-02",
          "2022-03",
          "2022-04",
          "2022-05",
          "2022-06",
          "2022-07",
          "2022-08",
          "2022-09",
          "2022-10",
          "2022-11",
          "2022-12",
          "2023-01",
          "2023-02",
          "2023-03",
          "2023-04",
          "2023-05",
          "2023-06",
          "2023-07",
          "2023-08",
          "2023-09",
          "2023-10",
          "2023-11",
          "2023-12",
          "2024-01",
          "2024-02",
          "2024-03",
          "2024-04",
          "2024-05",
          "2024-06",
          "2024-07",
          "2024-08",
          "2024-09",
          "2024-10",
          "2024-11",
          "2024-12"
         ],
         "xaxis": "x",
         "y": {
          "bdata": "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",
          "dtype": "f8"
         },
         "yaxis": "y"
        }
       ],
       "layout": {
        "legend": {
         "title": {
          "text": "Property Type"
         },
         "tracegroupgap": 0
        },
        "margin": {
         "t": 60
        },
        "template": {
         "data": {
          "bar": [
           {
            "error_x": {
             "color": "#2a3f5f"
            },
            "error_y": {
             "color": "#2a3f5f"
            },
            "marker": {
             "line": {
              "color": "#E5ECF6",
              "width": 0.5
             },
             "pattern": {
              "fillmode": "overlay",
              "size": 10,
              "solidity": 0.2
             }
            },
            "type": "bar"
           }
          ],
          "barpolar": [
           {
            "marker": {
             "line": {
              "color": "#E5ECF6",
              "width": 0.5
             },
             "pattern": {
              "fillmode": "overlay",
              "size": 10,
              "solidity": 0.2
             }
            },
            "type": "barpolar"
           }
          ],
          "carpet": [
           {
            "aaxis": {
             "endlinecolor": "#2a3f5f",
             "gridcolor": "white",
             "linecolor": "white",
             "minorgridcolor": "white",
             "startlinecolor": "#2a3f5f"
            },
            "baxis": {
             "endlinecolor": "#2a3f5f",
             "gridcolor": "white",
             "linecolor": "white",
             "minorgridcolor": "white",
             "startlinecolor": "#2a3f5f"
            },
            "type": "carpet"
           }
          ],
          "choropleth": [
           {
            "colorbar": {
             "outlinewidth": 0,
             "ticks": ""
            },
            "type": "choropleth"
           }
          ],
          "contour": [
           {
            "colorbar": {
             "outlinewidth": 0,
             "ticks": ""
            },
            "colorscale": [
             [
              0,
              "#0d0887"
             ],
             [
              0.1111111111111111,
              "#46039f"
             ],
             [
              0.2222222222222222,
              "#7201a8"
             ],
             [
              0.3333333333333333,
              "#9c179e"
             ],
             [
              0.4444444444444444,
              "#bd3786"
             ],
             [
              0.5555555555555556,
              "#d8576b"
             ],
             [
              0.6666666666666666,
              "#ed7953"
             ],
             [
              0.7777777777777778,
              "#fb9f3a"
             ],
             [
              0.8888888888888888,
              "#fdca26"
             ],
             [
              1,
              "#f0f921"
             ]
            ],
            "type": "contour"
           }
          ],
          "contourcarpet": [
           {
            "colorbar": {
             "outlinewidth": 0,
             "ticks": ""
            },
            "type": "contourcarpet"
           }
          ],
          "heatmap": [
           {
            "colorbar": {
             "outlinewidth": 0,
             "ticks": ""
            },
            "colorscale": [
             [
              0,
              "#0d0887"
             ],
             [
              0.1111111111111111,
              "#46039f"
             ],
             [
              0.2222222222222222,
              "#7201a8"
             ],
             [
              0.3333333333333333,
              "#9c179e"
             ],
             [
              0.4444444444444444,
              "#bd3786"
             ],
             [
              0.5555555555555556,
              "#d8576b"
             ],
             [
              0.6666666666666666,
              "#ed7953"
             ],
             [
              0.7777777777777778,
              "#fb9f3a"
             ],
             [
              0.8888888888888888,
              "#fdca26"
             ],
             [
              1,
              "#f0f921"
             ]
            ],
            "type": "heatmap"
           }
          ],
          "histogram": [
           {
            "marker": {
             "pattern": {
              "fillmode": "overlay",
              "size": 10,
              "solidity": 0.2
             }
            },
            "type": "histogram"
           }
          ],
          "histogram2d": [
           {
            "colorbar": {
             "outlinewidth": 0,
             "ticks": ""
            },
            "colorscale": [
             [
              0,
              "#0d0887"
             ],
             [
              0.1111111111111111,
              "#46039f"
             ],
             [
              0.2222222222222222,
              "#7201a8"
             ],
             [
              0.3333333333333333,
              "#9c179e"
             ],
             [
              0.4444444444444444,
              "#bd3786"
             ],
             [
              0.5555555555555556,
              "#d8576b"
             ],
             [
              0.6666666666666666,
              "#ed7953"
             ],
             [
              0.7777777777777778,
              "#fb9f3a"
             ],
             [
              0.8888888888888888,
              "#fdca26"
             ],
             [
              1,
              "#f0f921"
             ]
            ],
            "type": "histogram2d"
           }
          ],
          "histogram2dcontour": [
           {
            "colorbar": {
             "outlinewidth": 0,
             "ticks": ""
            },
            "colorscale": [
             [
              0,
              "#0d0887"
             ],
             [
              0.1111111111111111,
              "#46039f"
             ],
             [
              0.2222222222222222,
              "#7201a8"
             ],
             [
              0.3333333333333333,
              "#9c179e"
             ],
             [
              0.4444444444444444,
              "#bd3786"
             ],
             [
              0.5555555555555556,
              "#d8576b"
             ],
             [
              0.6666666666666666,
              "#ed7953"
             ],
             [
              0.7777777777777778,
              "#fb9f3a"
             ],
             [
              0.8888888888888888,
              "#fdca26"
             ],
             [
              1,
              "#f0f921"
             ]
            ],
            "type": "histogram2dcontour"
           }
          ],
          "mesh3d": [
           {
            "colorbar": {
             "outlinewidth": 0,
             "ticks": ""
            },
            "type": "mesh3d"
           }
          ],
          "parcoords": [
           {
            "line": {
             "colorbar": {
              "outlinewidth": 0,
              "ticks": ""
             }
            },
            "type": "parcoords"
           }
          ],
          "pie": [
           {
            "automargin": true,
            "type": "pie"
           }
          ],
          "scatter": [
           {
            "fillpattern": {
             "fillmode": "overlay",
             "size": 10,
             "solidity": 0.2
            },
            "type": "scatter"
           }
          ],
          "scatter3d": [
           {
            "line": {
             "colorbar": {
              "outlinewidth": 0,
              "ticks": ""
             }
            },
            "marker": {
             "colorbar": {
              "outlinewidth": 0,
              "ticks": ""
             }
            },
            "type": "scatter3d"
           }
          ],
          "scattercarpet": [
           {
            "marker": {
             "colorbar": {
              "outlinewidth": 0,
              "ticks": ""
             }
            },
            "type": "scattercarpet"
           }
          ],
          "scattergeo": [
           {
            "marker": {
             "colorbar": {
              "outlinewidth": 0,
              "ticks": ""
             }
            },
            "type": "scattergeo"
           }
          ],
          "scattergl": [
           {
            "marker": {
             "colorbar": {
              "outlinewidth": 0,
              "ticks": ""
             }
            },
            "type": "scattergl"
           }
          ],
          "scattermap": [
           {
            "marker": {
             "colorbar": {
              "outlinewidth": 0,
              "ticks": ""
             }
            },
            "type": "scattermap"
           }
          ],
          "scattermapbox": [
           {
            "marker": {
             "colorbar": {
              "outlinewidth": 0,
              "ticks": ""
             }
            },
            "type": "scattermapbox"
           }
          ],
          "scatterpolar": [
           {
            "marker": {
             "colorbar": {
              "outlinewidth": 0,
              "ticks": ""
             }
            },
            "type": "scatterpolar"
           }
          ],
          "scatterpolargl": [
           {
            "marker": {
             "colorbar": {
              "outlinewidth": 0,
              "ticks": ""
             }
            },
            "type": "scatterpolargl"
           }
          ],
          "scatterternary": [
           {
            "marker": {
             "colorbar": {
              "outlinewidth": 0,
              "ticks": ""
             }
            },
            "type": "scatterternary"
           }
          ],
          "surface": [
           {
            "colorbar": {
             "outlinewidth": 0,
             "ticks": ""
            },
            "colorscale": [
             [
              0,
              "#0d0887"
             ],
             [
              0.1111111111111111,
              "#46039f"
             ],
             [
              0.2222222222222222,
              "#7201a8"
             ],
             [
              0.3333333333333333,
              "#9c179e"
             ],
             [
              0.4444444444444444,
              "#bd3786"
             ],
             [
              0.5555555555555556,
              "#d8576b"
             ],
             [
              0.6666666666666666,
              "#ed7953"
             ],
             [
              0.7777777777777778,
              "#fb9f3a"
             ],
             [
              0.8888888888888888,
              "#fdca26"
             ],
             [
              1,
              "#f0f921"
             ]
            ],
            "type": "surface"
           }
          ],
          "table": [
           {
            "cells": {
             "fill": {
              "color": "#EBF0F8"
             },
             "line": {
              "color": "white"
             }
            },
            "header": {
             "fill": {
              "color": "#C8D4E3"
             },
             "line": {
              "color": "white"
             }
            },
            "type": "table"
           }
          ]
         },
         "layout": {
          "annotationdefaults": {
           "arrowcolor": "#2a3f5f",
           "arrowhead": 0,
           "arrowwidth": 1
          },
          "autotypenumbers": "strict",
          "coloraxis": {
           "colorbar": {
            "outlinewidth": 0,
            "ticks": ""
           }
          },
          "colorscale": {
           "diverging": [
            [
             0,
             "#8e0152"
            ],
            [
             0.1,
             "#c51b7d"
            ],
            [
             0.2,
             "#de77ae"
            ],
            [
             0.3,
             "#f1b6da"
            ],
            [
             0.4,
             "#fde0ef"
            ],
            [
             0.5,
             "#f7f7f7"
            ],
            [
             0.6,
             "#e6f5d0"
            ],
            [
             0.7,
             "#b8e186"
            ],
            [
             0.8,
             "#7fbc41"
            ],
            [
             0.9,
             "#4d9221"
            ],
            [
             1,
             "#276419"
            ]
           ],
           "sequential": [
            [
             0,
             "#0d0887"
            ],
            [
             0.1111111111111111,
             "#46039f"
            ],
            [
             0.2222222222222222,
             "#7201a8"
            ],
            [
             0.3333333333333333,
             "#9c179e"
            ],
            [
             0.4444444444444444,
             "#bd3786"
            ],
            [
             0.5555555555555556,
             "#d8576b"
            ],
            [
             0.6666666666666666,
             "#ed7953"
            ],
            [
             0.7777777777777778,
             "#fb9f3a"
            ],
            [
             0.8888888888888888,
             "#fdca26"
            ],
            [
             1,
             "#f0f921"
            ]
           ],
           "sequentialminus": [
            [
             0,
             "#0d0887"
            ],
            [
             0.1111111111111111,
             "#46039f"
            ],
            [
             0.2222222222222222,
             "#7201a8"
            ],
            [
             0.3333333333333333,
             "#9c179e"
            ],
            [
             0.4444444444444444,
             "#bd3786"
            ],
            [
             0.5555555555555556,
             "#d8576b"
            ],
            [
             0.6666666666666666,
             "#ed7953"
            ],
            [
             0.7777777777777778,
             "#fb9f3a"
            ],
            [
             0.8888888888888888,
             "#fdca26"
            ],
            [
             1,
             "#f0f921"
            ]
           ]
          },
          "colorway": [
           "#636efa",
           "#EF553B",
           "#00cc96",
           "#ab63fa",
           "#FFA15A",
           "#19d3f3",
           "#FF6692",
           "#B6E880",
           "#FF97FF",
           "#FECB52"
          ],
          "font": {
           "color": "#2a3f5f"
          },
          "geo": {
           "bgcolor": "white",
           "lakecolor": "white",
           "landcolor": "#E5ECF6",
           "showlakes": true,
           "showland": true,
           "subunitcolor": "white"
          },
          "hoverlabel": {
           "align": "left"
          },
          "hovermode": "closest",
          "mapbox": {
           "style": "light"
          },
          "paper_bgcolor": "white",
          "plot_bgcolor": "#E5ECF6",
          "polar": {
           "angularaxis": {
            "gridcolor": "white",
            "linecolor": "white",
            "ticks": ""
           },
           "bgcolor": "#E5ECF6",
           "radialaxis": {
            "gridcolor": "white",
            "linecolor": "white",
            "ticks": ""
           }
          },
          "scene": {
           "xaxis": {
            "backgroundcolor": "#E5ECF6",
            "gridcolor": "white",
            "gridwidth": 2,
            "linecolor": "white",
            "showbackground": true,
            "ticks": "",
            "zerolinecolor": "white"
           },
           "yaxis": {
            "backgroundcolor": "#E5ECF6",
            "gridcolor": "white",
            "gridwidth": 2,
            "linecolor": "white",
            "showbackground": true,
            "ticks": "",
            "zerolinecolor": "white"
           },
           "zaxis": {
            "backgroundcolor": "#E5ECF6",
            "gridcolor": "white",
            "gridwidth": 2,
            "linecolor": "white",
            "showbackground": true,
            "ticks": "",
            "zerolinecolor": "white"
           }
          },
          "shapedefaults": {
           "line": {
            "color": "#2a3f5f"
           }
          },
          "ternary": {
           "aaxis": {
            "gridcolor": "white",
            "linecolor": "white",
            "ticks": ""
           },
           "baxis": {
            "gridcolor": "white",
            "linecolor": "white",
            "ticks": ""
           },
           "bgcolor": "#E5ECF6",
           "caxis": {
            "gridcolor": "white",
            "linecolor": "white",
            "ticks": ""
           }
          },
          "title": {
           "x": 0.05
          },
          "xaxis": {
           "automargin": true,
           "gridcolor": "white",
           "linecolor": "white",
           "ticks": "",
           "title": {
            "standoff": 15
           },
           "zerolinecolor": "white",
           "zerolinewidth": 2
          },
          "yaxis": {
           "automargin": true,
           "gridcolor": "white",
           "linecolor": "white",
           "ticks": "",
           "title": {
            "standoff": 15
           },
           "zerolinecolor": "white",
           "zerolinewidth": 2
          }
         }
        },
        "title": {
         "text": "England & Wales average house price and sales volume from 1995 by Property Type"
        },
        "xaxis": {
         "anchor": "y",
         "domain": [
          0,
          1
         ],
         "title": {
          "text": "Year-Month"
         }
        },
        "yaxis": {
         "anchor": "x",
         "domain": [
          0,
          1
         ],
         "title": {
          "text": "Price"
         }
        }
       }
      }
     },
     "metadata": {},
     "output_type": "display_data"
    }
   ],
   "source": [
    "P2 = (\n",
    "\thouse_price_df[[\"Year-Month\", \"Price\", \"Property Type\"]]\n",
    "\t.groupby(by=[\"Year-Month\", \"Property Type\"])\n",
    "\t.mean()\n",
    ")\n",
    "P2.reset_index(inplace=True)\n",
    "\n",
    "fig = px.line(P2, x=\"Year-Month\", y=\"Price\", color=\"Property Type\")\n",
    "fig.update_layout(\n",
    "\ttitle=\"England & Wales average house price and sales volume from 1995 by Property Type\"\n",
    ")\n",
    "fig.show()"
   ]
  },
  {
   "cell_type": "markdown",
   "metadata": {},
   "source": [
    "#### Getting and saving average sector_price by year (for Chropleth)"
   ]
  },
  {
   "cell_type": "code",
   "execution_count": 64,
   "metadata": {},
   "outputs": [],
   "source": [
    "def get_sector_df(house_price_df):\n",
    "\tP = (\n",
    "\t\thouse_price_df[[\"Year\", \"Sector\", \"Price\"]]\n",
    "\t\t.groupby(by=[\"Year\", \"Sector\"])\n",
    "\t\t.agg([\"mean\", \"count\"])\n",
    "\t)\n",
    "\tP.reset_index(inplace=True)\n",
    "\tP.columns = [\"Year\", \"Sector\", \"Price\", \"Volume\"]\n",
    "\n",
    "\tP = P.loc[P[\"Sector\"] != \"\"]\n",
    "\n",
    "\t# Get Region\n",
    "\tP[\"Region\"] = P[\"Sector\"].apply(lambda s: lookup_region(postcode_region, s))\n",
    "\n",
    "\tP[\"Price\"] = P[\"Price\"].apply(lambda s: int(np.round(s / 1000) * 1000))\n",
    "\tP[\"Display Price\"] = P[\"Price\"].apply(lambda x: f\"{int(np.round(x / 1000)):,}K\")\n",
    "\tP[\"text\"] = (\n",
    "\t\tP[\"Sector\"]\n",
    "\t\t+ \"<br>\"\n",
    "\t\t+ \"Avg. Price: \"\n",
    "\t\t+ P[\"Display Price\"]\n",
    "\t\t+ \"<br>\"\n",
    "\t\t+ \"Sales Volume: \"\n",
    "\t\t+ P[\"Volume\"].astype(str)\n",
    "\t)\n",
    "\tP.drop(columns=[\"Display Price\"], inplace=True)\n",
    "\n",
    "\treturn P"
   ]
  },
  {
   "cell_type": "code",
   "execution_count": 65,
   "metadata": {},
   "outputs": [
    {
     "name": "stdout",
     "output_type": "stream",
     "text": [
      "CPU times: user 2.45 s, sys: 176 ms, total: 2.62 s\n",
      "Wall time: 2.62 s\n"
     ]
    },
    {
     "data": {
      "text/html": [
       "<div>\n",
       "<style scoped>\n",
       "    .dataframe tbody tr th:only-of-type {\n",
       "        vertical-align: middle;\n",
       "    }\n",
       "\n",
       "    .dataframe tbody tr th {\n",
       "        vertical-align: top;\n",
       "    }\n",
       "\n",
       "    .dataframe thead th {\n",
       "        text-align: right;\n",
       "    }\n",
       "</style>\n",
       "<table border=\"1\" class=\"dataframe\">\n",
       "  <thead>\n",
       "    <tr style=\"text-align: right;\">\n",
       "      <th></th>\n",
       "      <th>Year</th>\n",
       "      <th>Sector</th>\n",
       "      <th>Price</th>\n",
       "      <th>Volume</th>\n",
       "      <th>Region</th>\n",
       "      <th>text</th>\n",
       "    </tr>\n",
       "  </thead>\n",
       "  <tbody>\n",
       "    <tr>\n",
       "      <th>0</th>\n",
       "      <td>1995</td>\n",
       "      <td>AL1 1</td>\n",
       "      <td>90000</td>\n",
       "      <td>164</td>\n",
       "      <td>South East</td>\n",
       "      <td>AL1 1&lt;br&gt;Avg. Price: 90K&lt;br&gt;Sales Volume: 164</td>\n",
       "    </tr>\n",
       "    <tr>\n",
       "      <th>1</th>\n",
       "      <td>1995</td>\n",
       "      <td>AL1 2</td>\n",
       "      <td>81000</td>\n",
       "      <td>70</td>\n",
       "      <td>South East</td>\n",
       "      <td>AL1 2&lt;br&gt;Avg. Price: 81K&lt;br&gt;Sales Volume: 70</td>\n",
       "    </tr>\n",
       "    <tr>\n",
       "      <th>2</th>\n",
       "      <td>1995</td>\n",
       "      <td>AL1 3</td>\n",
       "      <td>89000</td>\n",
       "      <td>94</td>\n",
       "      <td>South East</td>\n",
       "      <td>AL1 3&lt;br&gt;Avg. Price: 89K&lt;br&gt;Sales Volume: 94</td>\n",
       "    </tr>\n",
       "    <tr>\n",
       "      <th>3</th>\n",
       "      <td>1995</td>\n",
       "      <td>AL1 4</td>\n",
       "      <td>128000</td>\n",
       "      <td>180</td>\n",
       "      <td>South East</td>\n",
       "      <td>AL1 4&lt;br&gt;Avg. Price: 128K&lt;br&gt;Sales Volume: 180</td>\n",
       "    </tr>\n",
       "    <tr>\n",
       "      <th>4</th>\n",
       "      <td>1995</td>\n",
       "      <td>AL1 5</td>\n",
       "      <td>73000</td>\n",
       "      <td>173</td>\n",
       "      <td>South East</td>\n",
       "      <td>AL1 5&lt;br&gt;Avg. Price: 73K&lt;br&gt;Sales Volume: 173</td>\n",
       "    </tr>\n",
       "  </tbody>\n",
       "</table>\n",
       "</div>"
      ],
      "text/plain": [
       "   Year Sector   Price  Volume      Region  \\\n",
       "0  1995  AL1 1   90000     164  South East   \n",
       "1  1995  AL1 2   81000      70  South East   \n",
       "2  1995  AL1 3   89000      94  South East   \n",
       "3  1995  AL1 4  128000     180  South East   \n",
       "4  1995  AL1 5   73000     173  South East   \n",
       "\n",
       "                                             text  \n",
       "0   AL1 1<br>Avg. Price: 90K<br>Sales Volume: 164  \n",
       "1    AL1 2<br>Avg. Price: 81K<br>Sales Volume: 70  \n",
       "2    AL1 3<br>Avg. Price: 89K<br>Sales Volume: 94  \n",
       "3  AL1 4<br>Avg. Price: 128K<br>Sales Volume: 180  \n",
       "4   AL1 5<br>Avg. Price: 73K<br>Sales Volume: 173  "
      ]
     },
     "execution_count": 65,
     "metadata": {},
     "output_type": "execute_result"
    }
   ],
   "source": [
    "%%time\n",
    "sector_df = get_sector_df(house_price_df)\n",
    "sector_df.head()"
   ]
  },
  {
   "cell_type": "code",
   "execution_count": 66,
   "metadata": {},
   "outputs": [
    {
     "name": "stdout",
     "output_type": "stream",
     "text": [
      "../appData/sector_price_1995.csv saved\n",
      "../appData/sector_price_1996.csv saved\n",
      "../appData/sector_price_1997.csv saved\n",
      "../appData/sector_price_1998.csv saved\n",
      "../appData/sector_price_1999.csv saved\n",
      "../appData/sector_price_2000.csv saved\n",
      "../appData/sector_price_2001.csv saved\n",
      "../appData/sector_price_2002.csv saved\n",
      "../appData/sector_price_2003.csv saved\n",
      "../appData/sector_price_2004.csv saved\n",
      "../appData/sector_price_2005.csv saved\n",
      "../appData/sector_price_2006.csv saved\n",
      "../appData/sector_price_2007.csv saved\n",
      "../appData/sector_price_2008.csv saved\n",
      "../appData/sector_price_2009.csv saved\n",
      "../appData/sector_price_2010.csv saved\n",
      "../appData/sector_price_2011.csv saved\n",
      "../appData/sector_price_2012.csv saved\n",
      "../appData/sector_price_2013.csv saved\n",
      "../appData/sector_price_2014.csv saved\n",
      "../appData/sector_price_2015.csv saved\n",
      "../appData/sector_price_2016.csv saved\n",
      "../appData/sector_price_2017.csv saved\n",
      "../appData/sector_price_2018.csv saved\n",
      "../appData/sector_price_2019.csv saved\n",
      "../appData/sector_price_2020.csv saved\n",
      "../appData/sector_price_2021.csv saved\n",
      "../appData/sector_price_2022.csv saved\n",
      "../appData/sector_price_2023.csv saved\n",
      "../appData/sector_price_2024.csv saved\n",
      "CPU times: user 240 ms, sys: 21.9 ms, total: 262 ms\n",
      "Wall time: 261 ms\n"
     ]
    }
   ],
   "source": [
    "%%time\n",
    "\n",
    "sector_by_year = dict()\n",
    "for year in cfg[\"Years\"]:\n",
    "\tsector_by_year[year] = sector_df[sector_df.Year == year].reset_index(drop=True)\n",
    "\n",
    "\tif cfg[\"to save\"]:\n",
    "\t\tfname = os.path.join(cfg[\"appData dir\"], f\"sector_price_{year}.csv\")\n",
    "\t\tsector_by_year[year].to_csv(fname, index=False)\n",
    "\t\tprint(f\"{fname} saved\")"
   ]
  },
  {
   "cell_type": "markdown",
   "metadata": {},
   "source": [
    "#### Getting and saving sector_percentage_delta by year (for Chropleth)"
   ]
  },
  {
   "cell_type": "code",
   "execution_count": 67,
   "metadata": {},
   "outputs": [
    {
     "name": "stdout",
     "output_type": "stream",
     "text": [
      "../appData/sector_percentage_delta_1995.csv saved\n",
      "../appData/sector_percentage_delta_1996.csv saved\n",
      "../appData/sector_percentage_delta_1997.csv saved\n",
      "../appData/sector_percentage_delta_1998.csv saved\n",
      "../appData/sector_percentage_delta_1999.csv saved\n",
      "../appData/sector_percentage_delta_2000.csv saved\n",
      "../appData/sector_percentage_delta_2001.csv saved\n",
      "../appData/sector_percentage_delta_2002.csv saved\n",
      "../appData/sector_percentage_delta_2003.csv saved\n",
      "../appData/sector_percentage_delta_2004.csv saved\n",
      "../appData/sector_percentage_delta_2005.csv saved\n",
      "../appData/sector_percentage_delta_2006.csv saved\n",
      "../appData/sector_percentage_delta_2007.csv saved\n",
      "../appData/sector_percentage_delta_2008.csv saved\n",
      "../appData/sector_percentage_delta_2009.csv saved\n",
      "../appData/sector_percentage_delta_2010.csv saved\n",
      "../appData/sector_percentage_delta_2011.csv saved\n",
      "../appData/sector_percentage_delta_2012.csv saved\n",
      "../appData/sector_percentage_delta_2013.csv saved\n",
      "../appData/sector_percentage_delta_2014.csv saved\n",
      "../appData/sector_percentage_delta_2015.csv saved\n",
      "../appData/sector_percentage_delta_2016.csv saved\n",
      "../appData/sector_percentage_delta_2017.csv saved\n",
      "../appData/sector_percentage_delta_2018.csv saved\n",
      "../appData/sector_percentage_delta_2019.csv saved\n",
      "../appData/sector_percentage_delta_2020.csv saved\n",
      "../appData/sector_percentage_delta_2021.csv saved\n",
      "../appData/sector_percentage_delta_2022.csv saved\n",
      "../appData/sector_percentage_delta_2023.csv saved\n",
      "../appData/sector_percentage_delta_2024.csv saved\n",
      "CPU times: user 862 ms, sys: 34.2 ms, total: 896 ms\n",
      "Wall time: 896 ms\n"
     ]
    }
   ],
   "source": [
    "%%time\n",
    "\n",
    "# Building sector_price[year] {sector: price} dict for quick lookup\n",
    "sector_price = dict()\n",
    "for year in cfg[\"Years\"]:\n",
    "\tsector_price[year] = dict()\n",
    "\tfor sector, region, price in sector_by_year[year][\n",
    "\t\t[\"Sector\", \"Region\", \"Price\"]\n",
    "\t].values:\n",
    "\t\tsector_price[year][sector] = [region, price]\n",
    "\n",
    "# -------------------------------#\n",
    "sector_delta = dict()\n",
    "\n",
    "sector_delta[1995] = dict()\n",
    "for sector, [region, price] in sector_price[1995].items():\n",
    "\tsector_delta[1995][sector] = [0, region]\n",
    "\n",
    "for y1, y2 in zip(cfg[\"Years\"][1:], cfg[\"Years\"][:-1]):\n",
    "\tsector_delta[y1] = dict()\n",
    "\tfor sector, [region, price] in sector_price[y1].items():\n",
    "\t\tif sector in sector_price[y2]:\n",
    "\t\t\tlast_year_price = sector_price[y2][sector][1]\n",
    "\t\t\tdelta = int(np.round(100 * (price - last_year_price) / last_year_price))\n",
    "\t\t\tsector_delta[y1][sector] = [delta, region]\n",
    "\n",
    "# ----------------------------------------------#\n",
    "for year in cfg[\"Years\"]:\n",
    "\ttmp = pd.DataFrame.from_dict(\n",
    "\t\tsector_delta[year], orient=\"index\", columns=[\"Percentage Change\", \"Region\"]\n",
    "\t)\n",
    "\ttmp.reset_index(inplace=True)\n",
    "\ttmp.rename(columns={\"index\": \"Sector\"}, inplace=True)\n",
    "\ttmp[\"text\"] = (\n",
    "\t\ttmp[\"Sector\"]\n",
    "\t\t+ \"<br>\"\n",
    "\t\t+ \"Price Change: \"\n",
    "\t\t+ tmp[\"Percentage Change\"].apply(lambda s: str(s))\n",
    "\t\t+ \"%\"\n",
    "\t)\n",
    "\n",
    "\tif cfg[\"to save\"]:\n",
    "\t\tfname = os.path.join(cfg[\"appData dir\"], f\"sector_percentage_delta_{year}.csv\")\n",
    "\t\ttmp.to_csv(fname, index=False)\n",
    "\t\tprint(f\"{fname} saved\")"
   ]
  },
  {
   "cell_type": "markdown",
   "metadata": {},
   "source": [
    "#### Get Price and Volume by Year and Property Type df (For time-series)"
   ]
  },
  {
   "cell_type": "code",
   "execution_count": 68,
   "metadata": {},
   "outputs": [
    {
     "name": "stdout",
     "output_type": "stream",
     "text": [
      "../appData/price_volume.csv saved\n",
      "CPU times: user 2.89 s, sys: 299 ms, total: 3.19 s\n",
      "Wall time: 3.19 s\n"
     ]
    }
   ],
   "source": [
    "%%time\n",
    "\n",
    "\n",
    "def get_price_volume_df(house_price_df):\n",
    "\tcols = [\"Year\", \"Sector\", \"Property Type\"]\n",
    "\tP = house_price_df[cols + [\"Price\"]].groupby(by=cols).agg([\"count\", \"mean\"])\n",
    "\tP.reset_index(inplace=True)\n",
    "\n",
    "\tP.columns = [\"Year\", \"Sector\", \"Property Type\", \"Count\", \"Average Price\"]\n",
    "\tP = P.loc[P[\"Sector\"] != \"\"]\n",
    "\treturn P\n",
    "\n",
    "\n",
    "# ------------------------------------#\n",
    "price_volume_df = get_price_volume_df(house_price_df)\n",
    "if cfg[\"to save\"]:\n",
    "\tfname = os.path.join(cfg[\"appData dir\"], \"price_volume.csv\")\n",
    "\tprice_volume_df.to_csv(fname, index=False)\n",
    "\tprint(f\"{fname} saved\")"
   ]
  },
  {
   "cell_type": "code",
   "execution_count": 69,
   "metadata": {},
   "outputs": [
    {
     "data": {
      "text/html": [
       "<div>\n",
       "<style scoped>\n",
       "    .dataframe tbody tr th:only-of-type {\n",
       "        vertical-align: middle;\n",
       "    }\n",
       "\n",
       "    .dataframe tbody tr th {\n",
       "        vertical-align: top;\n",
       "    }\n",
       "\n",
       "    .dataframe thead th {\n",
       "        text-align: right;\n",
       "    }\n",
       "</style>\n",
       "<table border=\"1\" class=\"dataframe\">\n",
       "  <thead>\n",
       "    <tr style=\"text-align: right;\">\n",
       "      <th></th>\n",
       "      <th>Year</th>\n",
       "      <th>Sector</th>\n",
       "      <th>Property Type</th>\n",
       "      <th>Count</th>\n",
       "      <th>Average Price</th>\n",
       "    </tr>\n",
       "  </thead>\n",
       "  <tbody>\n",
       "    <tr>\n",
       "      <th>0</th>\n",
       "      <td>1995</td>\n",
       "      <td>AL1 1</td>\n",
       "      <td>D</td>\n",
       "      <td>17</td>\n",
       "      <td>165320.588235</td>\n",
       "    </tr>\n",
       "    <tr>\n",
       "      <th>1</th>\n",
       "      <td>1995</td>\n",
       "      <td>AL1 1</td>\n",
       "      <td>F</td>\n",
       "      <td>55</td>\n",
       "      <td>64719.000000</td>\n",
       "    </tr>\n",
       "    <tr>\n",
       "      <th>2</th>\n",
       "      <td>1995</td>\n",
       "      <td>AL1 1</td>\n",
       "      <td>S</td>\n",
       "      <td>19</td>\n",
       "      <td>91328.947368</td>\n",
       "    </tr>\n",
       "    <tr>\n",
       "      <th>3</th>\n",
       "      <td>1995</td>\n",
       "      <td>AL1 1</td>\n",
       "      <td>T</td>\n",
       "      <td>73</td>\n",
       "      <td>91739.315068</td>\n",
       "    </tr>\n",
       "    <tr>\n",
       "      <th>4</th>\n",
       "      <td>1995</td>\n",
       "      <td>AL1 2</td>\n",
       "      <td>D</td>\n",
       "      <td>4</td>\n",
       "      <td>119375.000000</td>\n",
       "    </tr>\n",
       "  </tbody>\n",
       "</table>\n",
       "</div>"
      ],
      "text/plain": [
       "   Year Sector Property Type  Count  Average Price\n",
       "0  1995  AL1 1             D     17  165320.588235\n",
       "1  1995  AL1 1             F     55   64719.000000\n",
       "2  1995  AL1 1             S     19   91328.947368\n",
       "3  1995  AL1 1             T     73   91739.315068\n",
       "4  1995  AL1 2             D      4  119375.000000"
      ]
     },
     "execution_count": 69,
     "metadata": {},
     "output_type": "execute_result"
    }
   ],
   "source": [
    "price_volume_df.head()"
   ]
  },
  {
   "cell_type": "markdown",
   "metadata": {},
   "source": [
    "#### Regional Price data by year"
   ]
  },
  {
   "cell_type": "code",
   "execution_count": 70,
   "metadata": {},
   "outputs": [
    {
     "name": "stdout",
     "output_type": "stream",
     "text": [
      "Regions: ['North England', 'South East', 'Greater London', 'Midlands', 'South West', 'Wales', 'Scotland']\n"
     ]
    }
   ],
   "source": [
    "regions = [r for r in house_price_df.Region.unique() if isinstance(r, str)]\n",
    "print(f\"Regions: {regions}\")\n",
    "\n",
    "\n",
    "def get_regional_price_data(sector_df, regions):\n",
    "\tdef inner(region):\n",
    "\t\tif region == \"South East\":  # Include Greater London in South East graph\n",
    "\t\t\tmask = (sector_df.Region == region) | (sector_df.Region == \"Greater London\")\n",
    "\t\t\tdf = sector_df[mask]\n",
    "\t\telse:\n",
    "\t\t\tdf = sector_df[sector_df.Region == region]\n",
    "\t\treturn df\n",
    "\n",
    "\t###########################################\n",
    "\tregional_price_data = dict()\n",
    "\n",
    "\tfor r in regions:\n",
    "\t\tregional_price_data[r] = inner(r)\n",
    "\n",
    "\treturn regional_price_data"
   ]
  },
  {
   "cell_type": "code",
   "execution_count": 71,
   "metadata": {},
   "outputs": [],
   "source": [
    "# Breaking price/volume data up by region:\n",
    "regional_price_data = dict()\n",
    "for year in cfg[\"Years\"]:\n",
    "\tregional_price_data[year] = get_regional_price_data(sector_by_year[year], regions)"
   ]
  },
  {
   "cell_type": "markdown",
   "metadata": {},
   "source": [
    "### Geo Data"
   ]
  },
  {
   "cell_type": "markdown",
   "metadata": {},
   "source": [
    "#### Simplify the shapely file"
   ]
  },
  {
   "cell_type": "code",
   "execution_count": 72,
   "metadata": {},
   "outputs": [
    {
     "name": "stdout",
     "output_type": "stream",
     "text": [
      "CPU times: user 1e+03 ns, sys: 0 ns, total: 1e+03 ns\n",
      "Wall time: 4.29 μs\n"
     ]
    }
   ],
   "source": [
    "%%time\n",
    "# ref: https://shapely.readthedocs.io/en/stable/manual.html#object.simplify\n",
    "\n",
    "if cfg[\"process geodata\"]:\n",
    "\t# Let's enable speedups to make queries faster\n",
    "\tshapely.speedups.enable()\n",
    "\n",
    "\tinfile = os.path.join(cfg[\"distribution dir\"], \"Sectors.shp\")\n",
    "\toutfile = os.path.join(cfg[\"geodata dir\"], \"ukpostcode_geojson.json\")\n",
    "\n",
    "\tshape_gdf = gpd.read_file(infile)\n",
    "\n",
    "\tpolygons, discrepancies = [], []\n",
    "\tfor i, x in enumerate(shape_gdf.geometry.values):\n",
    "\t\ttolerance = cfg[\"tolerance\"]\n",
    "\n",
    "\t\twhile True:\n",
    "\t\t\ty = x.simplify(tolerance, preserve_topology=True)\n",
    "\t\t\tdiscrepancy = 100 * np.abs(y.area - x.area) / x.area\n",
    "\t\t\tif discrepancy <= cfg[\"max discrepancy\"]:\n",
    "\t\t\t\tbreak\n",
    "\t\t\telse:\n",
    "\t\t\t\ttolerance /= 2\n",
    "\n",
    "\t\tpolygons.append(y)\n",
    "\t\tdiscrepancies.append(discrepancy)\n",
    "\n",
    "\t\tif i % 1000 == 0:\n",
    "\t\t\tprint(f\"{i:,} records processed\")\n",
    "\t\t\tclear_output(wait=True)\n",
    "\n",
    "\tprint(f\"Average discrepancy: {np.mean(discrepancies):.2f}%\")\n",
    "\tsimplified_shape_gdf = deepcopy(shape_gdf)\n",
    "\tsimplified_shape_gdf[\"geometry\"] = polygons\n",
    "\n",
    "\tsimplified_shape_gdf.to_file(outfile, driver=\"GeoJSON\")\n",
    "\tsimplified_shape_gdf.head()"
   ]
  },
  {
   "cell_type": "code",
   "execution_count": 73,
   "metadata": {},
   "outputs": [],
   "source": [
    "# No longer needed - the simplified geojson version is much faster to load\n",
    "# Convert Shape file to Geojson\n",
    "# Code modified from https://github.com/akkana/scripts/blob/master/mapping/polidistmap.py\n",
    "\n",
    "# infile  = os.path.join(cfg['distribution dir'], 'Sectors.shp')\n",
    "# outfile = os.path.join(cfg['geodata dir'], 'ukpostcode_geojson.json')\n",
    "\n",
    "# if not os.path.isfile(outfile):\n",
    "#     options = gdal.VectorTranslateOptions(format=\"GeoJSON\", dstSRS=\"EPSG:4326\")\n",
    "#     gdal.VectorTranslate(outfile, infile, options=options)\n",
    "#     print(\"Translated GEOJSON file\", outfile)"
   ]
  },
  {
   "cell_type": "code",
   "execution_count": 74,
   "metadata": {},
   "outputs": [],
   "source": [
    "def load_geo_data(infile):\n",
    "\twith open(infile, \"r\") as read_file:\n",
    "\t\tgeo_data = json.load(read_file)\n",
    "\treturn geo_data\n",
    "\n",
    "\n",
    "# ---------------------------------------------#\n",
    "if cfg[\"process geodata\"]:\n",
    "\tinfile = os.path.join(cfg[\"geodata dir\"], \"ukpostcode_geojson.json\")\n",
    "\tgeo_data = load_geo_data(infile)"
   ]
  },
  {
   "cell_type": "code",
   "execution_count": 75,
   "metadata": {},
   "outputs": [],
   "source": [
    "def get_regional_geo_data(geo_data, postcode_region, regions=cfg[\"Regions\"]):\n",
    "\tpattern = re.compile(r\"\\d\")\n",
    "\n",
    "\tdef inner(region):\n",
    "\t\tY = dict()\n",
    "\t\tY[\"features\"] = []\n",
    "\t\tfor k in geo_data.keys():\n",
    "\t\t\tif k != \"features\":\n",
    "\t\t\t\tY[k] = geo_data[k]\n",
    "\t\t\telse:\n",
    "\t\t\t\tfor i, d in enumerate(geo_data[\"features\"]):\n",
    "\t\t\t\t\tfor k, v in d.items():\n",
    "\t\t\t\t\t\tif k == \"properties\":\n",
    "\t\t\t\t\t\t\tsector = v[\"name\"]\n",
    "\t\t\t\t\t\t\tm = pattern.search(sector)\n",
    "\t\t\t\t\t\t\tdistrict = sector[: m.start()]\n",
    "\n",
    "\t\t\t\t\t\t\tif region == \"South East\":\n",
    "\t\t\t\t\t\t\t\tif postcode_region[district] in [\n",
    "\t\t\t\t\t\t\t\t\tregion,\n",
    "\t\t\t\t\t\t\t\t\t\"Greater London\",\n",
    "\t\t\t\t\t\t\t\t]:\n",
    "\t\t\t\t\t\t\t\t\tY[\"features\"].append(geo_data[\"features\"][i])\n",
    "\t\t\t\t\t\t\telse:\n",
    "\t\t\t\t\t\t\t\tif postcode_region[district] == region:\n",
    "\t\t\t\t\t\t\t\t\tY[\"features\"].append(geo_data[\"features\"][i])\n",
    "\t\treturn Y\n",
    "\n",
    "\t###########################################\n",
    "\tregional_geo_data = dict()\n",
    "\tfor r in regions:\n",
    "\t\tregional_geo_data[r] = inner(r)\n",
    "\n",
    "\treturn regional_geo_data"
   ]
  },
  {
   "cell_type": "code",
   "execution_count": 76,
   "metadata": {},
   "outputs": [
    {
     "name": "stdout",
     "output_type": "stream",
     "text": [
      "CPU times: user 1 μs, sys: 1 μs, total: 2 μs\n",
      "Wall time: 3.58 μs\n"
     ]
    }
   ],
   "source": [
    "%%time\n",
    "\n",
    "if cfg[\"process geodata\"]:\n",
    "\t# Breaking geo_data up by region:\n",
    "\tregional_geo_data = get_regional_geo_data(geo_data, postcode_region)\n",
    "\n",
    "\tfor region, value in regional_geo_data.items():\n",
    "\t\tfname = os.path.join(cfg[\"assets dir\"], f\"geodata_{region}.json\")\n",
    "\t\twith open(fname, \"w\") as f:\n",
    "\t\t\tjson.dump(value, f)"
   ]
  },
  {
   "cell_type": "markdown",
   "metadata": {},
   "source": [
    "#### School Data\n",
    "https://www.gov.uk/school-performance-tables"
   ]
  },
  {
   "cell_type": "code",
   "execution_count": 77,
   "metadata": {},
   "outputs": [],
   "source": [
    "regnumber = re.compile(r\"\\d+\")\n",
    "\n",
    "\n",
    "def num_2_str(x):\n",
    "\tif x is not None and regnumber.match(x):\n",
    "\t\treturn float(x)\n",
    "\telse:\n",
    "\t\treturn 0.0"
   ]
  },
  {
   "cell_type": "code",
   "execution_count": 78,
   "metadata": {},
   "outputs": [
    {
     "name": "stdout",
     "output_type": "stream",
     "text": [
      "gcse_df: (4522, 7)\n",
      "alevel_df: (2624, 7)\n"
     ]
    }
   ],
   "source": [
    "# Import GCSE and ALevel data, filter and basic cleaning\n",
    "\n",
    "fields = [\"URN\", \"SCHNAME\", \"PCODE\", \"EGENDER\", \"AGERANGE\", \"ATT8SCR\"]\n",
    "gcse_df = pd.read_csv(\n",
    "\tos.path.join(cfg[\"school dir\"], \"england_ks4final.csv\"),\n",
    "\tusecols=fields,\n",
    "\tdtype={\"URN\": str},\n",
    ")\n",
    "gcse_df.dropna(inplace=True)\n",
    "gcse_df[\"ATT8SCR\"] = gcse_df[\"ATT8SCR\"].apply(lambda x: num_2_str(x))\n",
    "gcse_df = gcse_df[gcse_df[\"ATT8SCR\"] > 0]\n",
    "gcse_df.sort_values(by=[\"ATT8SCR\"], ascending=False, ignore_index=True, inplace=True)\n",
    "gcse_df[\"GCSE rank\"] = gcse_df.index + 1\n",
    "gcse_df.rename(columns={\"EGENDER\": \"GENDER\"}, inplace=True)\n",
    "\n",
    "print(f\"gcse_df: {gcse_df.shape}\")\n",
    "\n",
    "fields = [\"URN\", \"SCHNAME\", \"PCODE\", \"GEND1618\", \"AGERANGE\", \"TALLPPE_ALEV_1618\"]\n",
    "alevel_df = pd.read_csv(\n",
    "\tos.path.join(cfg[\"school dir\"], \"england_ks5final.csv\"),\n",
    "\tusecols=fields,\n",
    "\tdtype={\"URN\": str},\n",
    ")\n",
    "alevel_df.dropna(inplace=True)\n",
    "alevel_df[\"TALLPPE_ALEV_1618\"] = alevel_df[\"TALLPPE_ALEV_1618\"].apply(\n",
    "\tlambda x: num_2_str(x)\n",
    ")\n",
    "alevel_df = alevel_df[alevel_df[\"TALLPPE_ALEV_1618\"] > 0]\n",
    "alevel_df.sort_values(\n",
    "\tby=[\"TALLPPE_ALEV_1618\"], ascending=False, ignore_index=True, inplace=True\n",
    ")\n",
    "alevel_df[\"A-Level rank\"] = alevel_df.index + 1\n",
    "alevel_df.rename(columns={\"GEND1618\": \"GENDER\"}, inplace=True)\n",
    "\n",
    "print(f\"alevel_df: {alevel_df.shape}\")"
   ]
  },
  {
   "cell_type": "code",
   "execution_count": 79,
   "metadata": {},
   "outputs": [],
   "source": [
    "def merge_df(df_x, df_y, key):\n",
    "\tcol_x = df_x.columns\n",
    "\tcol_y = df_y.columns\n",
    "\tcols = set(col_x).intersection(set(col_y))\n",
    "\tcols.discard(key)\n",
    "\n",
    "\tdf_z = df_x.merge(df_y, how=\"outer\", on=key)\n",
    "\n",
    "\tfor col in cols:\n",
    "\t\ttmp = []\n",
    "\t\tC = [f\"{col}_x\", f\"{col}_y\"]\n",
    "\t\tfor a, b in df_z[C].values:\n",
    "\t\t\tif isinstance(a, str):\n",
    "\t\t\t\ttmp.append(a)\n",
    "\t\t\telse:\n",
    "\t\t\t\ttmp.append(b)\n",
    "\t\tdf_z[col] = tmp\n",
    "\t\tdf_z.drop(columns=[*C], inplace=True)\n",
    "\n",
    "\treturn df_z"
   ]
  },
  {
   "cell_type": "code",
   "execution_count": 80,
   "metadata": {},
   "outputs": [],
   "source": [
    "# Merge GCSE and ALevel data into school_df\n",
    "school_df = merge_df(gcse_df, alevel_df, \"URN\")\n",
    "school_df[\"GENDER\"] = school_df[\"GENDER\"].apply(lambda s: s.capitalize())"
   ]
  },
  {
   "cell_type": "code",
   "execution_count": 81,
   "metadata": {},
   "outputs": [],
   "source": [
    "# Get best of GCSE and Alevel Rank:\n",
    "tmp = []\n",
    "for gcse_rank, alevel_rank in school_df[[\"GCSE rank\", \"A-Level rank\"]].values:\n",
    "\ttmp.append(int(np.nanmin([gcse_rank, alevel_rank])))\n",
    "\n",
    "school_df[\"Best Rank\"] = tmp"
   ]
  },
  {
   "cell_type": "code",
   "execution_count": 82,
   "metadata": {},
   "outputs": [],
   "source": [
    "# Merge school status into school_df\n",
    "school_info_df = pd.read_csv(\n",
    "\tos.path.join(cfg[\"school dir\"], \"england_school_information.csv\"),\n",
    "\tdtype={\"URN\": str},\n",
    ")\n",
    "school_df = school_df.merge(school_info_df[[\"URN\", \"MINORGROUP\"]], how=\"left\", on=\"URN\")\n",
    "school_df.rename(columns={\"MINORGROUP\": \"Status\"}, inplace=True)"
   ]
  },
  {
   "cell_type": "code",
   "execution_count": 83,
   "metadata": {},
   "outputs": [],
   "source": [
    "# Merge lat, long into school_df\n",
    "fields = [\"URN\", \"Easting\", \"Northing\"]\n",
    "school_loc_df = pd.read_csv(\n",
    "\tos.path.join(cfg[\"geodata dir\"], \"EduBase Extract - 2016-0005414.csv\"),\n",
    "\tusecols=fields,\n",
    "\tencoding=\"ISO-8859-1\",\n",
    "\tdtype={\"URN\": str},\n",
    ")\n",
    "\n",
    "school_df = school_df.merge(\n",
    "\tschool_loc_df[[\"URN\", \"Easting\", \"Northing\"]], how=\"left\", on=\"URN\"\n",
    ")\n",
    "school_df = school_df[pd.notna(school_df.Easting) | pd.notna(school_df.Northing)]\n",
    "\n",
    "long, lat = convert_lonlat(school_df.Easting.values, school_df.Northing.values)\n",
    "school_df[\"Latitude\"] = lat\n",
    "school_df[\"Longitude\"] = long\n",
    "school_df.drop(columns=[\"Easting\", \"Northing\"], inplace=True)"
   ]
  },
  {
   "cell_type": "code",
   "execution_count": 84,
   "metadata": {},
   "outputs": [],
   "source": [
    "# Get Hover label text\n",
    "tmp = []\n",
    "cols = [\n",
    "\t\"SCHNAME\",\n",
    "\t\"AGERANGE\",\n",
    "\t\"GENDER\",\n",
    "\t\"Status\",\n",
    "\t\"ATT8SCR\",\n",
    "\t\"GCSE rank\",\n",
    "\t\"TALLPPE_ALEV_1618\",\n",
    "\t\"A-Level rank\",\n",
    "]\n",
    "\n",
    "for row in school_df[cols].values:\n",
    "\ttext = row[0] + \"<br>\" + row[1] + \" \" + row[2] + \" \" + row[3] + \" \"\n",
    "\tif ~np.isnan(row[4]):\n",
    "\t\ttext += \"<br>\" + \"GCSE: A8S \" + str(row[4]) + \", #\" + f\"{int(row[5]):,}\"\n",
    "\tif ~np.isnan(row[6]):\n",
    "\t\ttext += \"<br>\" + \"A-level: APS \" + str(row[6]) + \", #\" + f\"{int(row[7]):,}\"\n",
    "\n",
    "\ttmp.append(text)\n",
    "\n",
    "school_df[\"Info\"] = tmp\n",
    "\n",
    "cols.remove(\"ATT8SCR\")\n",
    "cols.remove(\"TALLPPE_ALEV_1618\")\n",
    "school_df.drop(columns=cols, inplace=True)"
   ]
  },
  {
   "cell_type": "code",
   "execution_count": 85,
   "metadata": {},
   "outputs": [
    {
     "data": {
      "text/html": [
       "<div>\n",
       "<style scoped>\n",
       "    .dataframe tbody tr th:only-of-type {\n",
       "        vertical-align: middle;\n",
       "    }\n",
       "\n",
       "    .dataframe tbody tr th {\n",
       "        vertical-align: top;\n",
       "    }\n",
       "\n",
       "    .dataframe thead th {\n",
       "        text-align: right;\n",
       "    }\n",
       "</style>\n",
       "<table border=\"1\" class=\"dataframe\">\n",
       "  <thead>\n",
       "    <tr style=\"text-align: right;\">\n",
       "      <th></th>\n",
       "      <th>URN</th>\n",
       "      <th>ATT8SCR</th>\n",
       "      <th>TALLPPE_ALEV_1618</th>\n",
       "      <th>PCODE</th>\n",
       "      <th>Best Rank</th>\n",
       "      <th>Latitude</th>\n",
       "      <th>Longitude</th>\n",
       "      <th>Info</th>\n",
       "    </tr>\n",
       "  </thead>\n",
       "  <tbody>\n",
       "    <tr>\n",
       "      <th>0</th>\n",
       "      <td>100001</td>\n",
       "      <td>57.9</td>\n",
       "      <td>51.02</td>\n",
       "      <td>EC2Y 8BB</td>\n",
       "      <td>13</td>\n",
       "      <td>51.519149</td>\n",
       "      <td>-0.094540</td>\n",
       "      <td>City of London School for Girls&lt;br&gt;7-18 Girls Independent school &lt;br&gt;GCSE: A8S 57.9, #384&lt;br&gt;A-level: APS 51.02, #13</td>\n",
       "    </tr>\n",
       "    <tr>\n",
       "      <th>1</th>\n",
       "      <td>100003</td>\n",
       "      <td>20.0</td>\n",
       "      <td>49.41</td>\n",
       "      <td>EC4V 3AL</td>\n",
       "      <td>27</td>\n",
       "      <td>51.511118</td>\n",
       "      <td>-0.099487</td>\n",
       "      <td>City of London School&lt;br&gt;10-18 Boys Independent school &lt;br&gt;GCSE: A8S 20.0, #3,787&lt;br&gt;A-level: APS 49.41, #27</td>\n",
       "    </tr>\n",
       "  </tbody>\n",
       "</table>\n",
       "</div>"
      ],
      "text/plain": [
       "      URN  ATT8SCR  TALLPPE_ALEV_1618     PCODE  Best Rank   Latitude  \\\n",
       "0  100001     57.9              51.02  EC2Y 8BB         13  51.519149   \n",
       "1  100003     20.0              49.41  EC4V 3AL         27  51.511118   \n",
       "\n",
       "   Longitude  \\\n",
       "0  -0.094540   \n",
       "1  -0.099487   \n",
       "\n",
       "                                                                                                                   Info  \n",
       "0  City of London School for Girls<br>7-18 Girls Independent school <br>GCSE: A8S 57.9, #384<br>A-level: APS 51.02, #13  \n",
       "1          City of London School<br>10-18 Boys Independent school <br>GCSE: A8S 20.0, #3,787<br>A-level: APS 49.41, #27  "
      ]
     },
     "execution_count": 85,
     "metadata": {},
     "output_type": "execute_result"
    }
   ],
   "source": [
    "school_df.head(2)"
   ]
  },
  {
   "cell_type": "code",
   "execution_count": 86,
   "metadata": {},
   "outputs": [
    {
     "name": "stdout",
     "output_type": "stream",
     "text": [
      "(784, 9)\n"
     ]
    }
   ],
   "source": [
    "for n in [500]:\n",
    "\tgcse_df = school_df.sort_values(by=[\"ATT8SCR\"], ascending=False, ignore_index=True)[\n",
    "\t\t:n\n",
    "\t]\n",
    "\talevel_df = school_df.sort_values(\n",
    "\t\tby=[\"TALLPPE_ALEV_1618\"], ascending=False, ignore_index=True\n",
    "\t)[:n]\n",
    "\n",
    "\tschool_topN = pd.concat([gcse_df, alevel_df])\n",
    "\tschool_topN.drop_duplicates(subset=[\"URN\"], inplace=True)\n",
    "\tschool_topN[\"Region\"] = school_topN[\"PCODE\"].apply(\n",
    "\t\tlambda x: lookup_region(postcode_region, x)\n",
    "\t)\n",
    "\n",
    "\tprint(school_topN.shape)\n",
    "\n",
    "\tfname = os.path.join(cfg[\"appData dir\"], f\"schools_top_{n}.csv\")\n",
    "\tschool_topN.to_csv(fname, index=False)"
   ]
  },
  {
   "cell_type": "code",
   "execution_count": 87,
   "metadata": {},
   "outputs": [],
   "source": [
    "Regions = [\n",
    "\t\"South East\",\n",
    "\t\"North England\",\n",
    "\t\"Midlands\",\n",
    "\t\"South West\",\n",
    "\t\"Greater London\",\n",
    "\t\"Wales\",\n",
    "]\n",
    "\n",
    "for region in Regions:\n",
    "\tif region != \"South East\":\n",
    "\t\tmask = school_topN.Region == region\n",
    "\telse:\n",
    "\t\tmask = (school_topN.Region == \"South East\") | (\n",
    "\t\t\tschool_topN.Region == \"Greater London\"\n",
    "\t\t)\n",
    "\n",
    "\tfname = os.path.join(cfg[\"appData dir\"], f\"schools_{region}.csv\")\n",
    "\tschool_topN[mask].to_csv(fname, index=False)"
   ]
  },
  {
   "cell_type": "code",
   "execution_count": 88,
   "metadata": {},
   "outputs": [
    {
     "name": "stdout",
     "output_type": "stream",
     "text": [
      "Data Preparation completed in 0.7 minutes\n",
      "2025-03-16 21:32:44.745709\n"
     ]
    }
   ],
   "source": [
    "print(f\"Data Preparation completed in {(time.time() - t0) / 60:.1f} minutes\")\n",
    "print(datetime.datetime.now())"
   ]
  },
  {
   "cell_type": "code",
   "execution_count": null,
   "metadata": {},
   "outputs": [],
   "source": []
  }
 ],
 "metadata": {
  "kernelspec": {
   "display_name": ".venv",
   "language": "python",
   "name": "python3"
  },
  "language_info": {
   "codemirror_mode": {
    "name": "ipython",
    "version": 3
   },
   "file_extension": ".py",
   "mimetype": "text/x-python",
   "name": "python",
   "nbconvert_exporter": "python",
   "pygments_lexer": "ipython3",
   "version": "3.10.16"
  },
  "toc": {
   "base_numbering": 1,
   "nav_menu": {},
   "number_sections": true,
   "sideBar": true,
   "skip_h1_title": false,
   "title_cell": "Table of Contents",
   "title_sidebar": "Contents",
   "toc_cell": false,
   "toc_position": {},
   "toc_section_display": true,
   "toc_window_display": false
  }
 },
 "nbformat": 4,
 "nbformat_minor": 4
}
